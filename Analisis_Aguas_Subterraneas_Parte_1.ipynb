{
  "nbformat": 4,
  "nbformat_minor": 0,
  "metadata": {
    "colab": {
      "provenance": [],
      "include_colab_link": true
    },
    "kernelspec": {
      "name": "python3",
      "display_name": "Python 3"
    },
    "language_info": {
      "name": "python"
    }
  },
  "cells": [
    {
      "cell_type": "markdown",
      "metadata": {
        "id": "view-in-github",
        "colab_type": "text"
      },
      "source": [
        "<a href=\"https://colab.research.google.com/github/jesusrincon1328/DataFrames/blob/main/Analisis_Aguas_Subterraneas_Parte_1.ipynb\" target=\"_parent\"><img src=\"https://colab.research.google.com/assets/colab-badge.svg\" alt=\"Open In Colab\"/></a>"
      ]
    },
    {
      "cell_type": "markdown",
      "source": [
        "![Logo.png](data:image/png;base64,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)\n",
        "\n",
        "###Maestría en Inteligencia Artificial Aplicada\n",
        "###**Curso: Ciencia y Analítica de Datos**\n",
        "\n",
        "###Profesora: Dra. María de la Paz Rico Fernández\n",
        "###**Reto parte 1: Limpieza, análisis, visualización y kmeans**\n",
        "\n",
        "###Alumno: Francisco Javier Ramírez Arias\n",
        "###Matrícula: A01316379\n",
        "\n",
        "###Alumno: Jesús Angel Rincón Ruiz\n",
        "###Matrícula: A01793960\n"
      ],
      "metadata": {
        "id": "8-2z5PerZCAP"
      }
    },
    {
      "cell_type": "markdown",
      "source": [
        "\n",
        "###**Objetivo:**\n",
        "\n",
        "###Implementar conocimientos adquiridos a lo largo de curso en el desarrollo de un proyecto con datos reales. "
      ],
      "metadata": {
        "id": "mruZQ7pIfMuc"
      }
    },
    {
      "cell_type": "code",
      "source": [
        "#Carga de Librerias\n",
        "import numpy as np\n",
        "import matplotlib as plt\n",
        "import pandas as pd\n",
        "import seaborn as sns\n",
        "%matplotlib inline\n",
        "import matplotlib\n",
        "\n",
        "from sklearn import metrics\n",
        "from sklearn.metrics import r2_score\n",
        "\n",
        "! pip install qeds fiona geopandas xgboost gensim folium pyLDAvis descartes\n"
      ],
      "metadata": {
        "id": "kH6wTzilPC1j",
        "colab": {
          "base_uri": "https://localhost:8080/"
        },
        "outputId": "51bb694f-2dff-427d-aedc-26679c8e176c"
      },
      "execution_count": 99,
      "outputs": [
        {
          "output_type": "stream",
          "name": "stdout",
          "text": [
            "Looking in indexes: https://pypi.org/simple, https://us-python.pkg.dev/colab-wheels/public/simple/\n",
            "Requirement already satisfied: qeds in /usr/local/lib/python3.7/dist-packages (0.7.0)\n",
            "Requirement already satisfied: fiona in /usr/local/lib/python3.7/dist-packages (1.8.22)\n",
            "Requirement already satisfied: geopandas in /usr/local/lib/python3.7/dist-packages (0.10.2)\n",
            "Requirement already satisfied: xgboost in /usr/local/lib/python3.7/dist-packages (0.90)\n",
            "Requirement already satisfied: gensim in /usr/local/lib/python3.7/dist-packages (3.6.0)\n",
            "Requirement already satisfied: folium in /usr/local/lib/python3.7/dist-packages (0.12.1.post1)\n",
            "Requirement already satisfied: pyLDAvis in /usr/local/lib/python3.7/dist-packages (3.3.1)\n",
            "Requirement already satisfied: descartes in /usr/local/lib/python3.7/dist-packages (1.1.0)\n",
            "Requirement already satisfied: openpyxl in /usr/local/lib/python3.7/dist-packages (from qeds) (3.0.10)\n",
            "Requirement already satisfied: requests in /usr/local/lib/python3.7/dist-packages (from qeds) (2.23.0)\n",
            "Requirement already satisfied: scikit-learn in /usr/local/lib/python3.7/dist-packages (from qeds) (1.0.2)\n",
            "Requirement already satisfied: seaborn in /usr/local/lib/python3.7/dist-packages (from qeds) (0.11.2)\n",
            "Requirement already satisfied: numpy in /usr/local/lib/python3.7/dist-packages (from qeds) (1.21.6)\n",
            "Requirement already satisfied: scipy in /usr/local/lib/python3.7/dist-packages (from qeds) (1.7.3)\n",
            "Requirement already satisfied: quandl in /usr/local/lib/python3.7/dist-packages (from qeds) (3.7.0)\n",
            "Requirement already satisfied: pyarrow in /usr/local/lib/python3.7/dist-packages (from qeds) (6.0.1)\n",
            "Requirement already satisfied: pandas in /usr/local/lib/python3.7/dist-packages (from qeds) (1.3.5)\n",
            "Requirement already satisfied: quantecon in /usr/local/lib/python3.7/dist-packages (from qeds) (0.5.3)\n",
            "Requirement already satisfied: matplotlib in /usr/local/lib/python3.7/dist-packages (from qeds) (3.2.2)\n",
            "Requirement already satisfied: pandas-datareader in /usr/local/lib/python3.7/dist-packages (from qeds) (0.9.0)\n",
            "Requirement already satisfied: plotly in /usr/local/lib/python3.7/dist-packages (from qeds) (5.5.0)\n",
            "Requirement already satisfied: statsmodels in /usr/local/lib/python3.7/dist-packages (from qeds) (0.12.2)\n",
            "Requirement already satisfied: six>=1.7 in /usr/local/lib/python3.7/dist-packages (from fiona) (1.15.0)\n",
            "Requirement already satisfied: setuptools in /usr/local/lib/python3.7/dist-packages (from fiona) (57.4.0)\n",
            "Requirement already satisfied: attrs>=17 in /usr/local/lib/python3.7/dist-packages (from fiona) (22.1.0)\n",
            "Requirement already satisfied: click>=4.0 in /usr/local/lib/python3.7/dist-packages (from fiona) (7.1.2)\n",
            "Requirement already satisfied: cligj>=0.5 in /usr/local/lib/python3.7/dist-packages (from fiona) (0.7.2)\n",
            "Requirement already satisfied: certifi in /usr/local/lib/python3.7/dist-packages (from fiona) (2022.9.24)\n",
            "Requirement already satisfied: munch in /usr/local/lib/python3.7/dist-packages (from fiona) (2.5.0)\n",
            "Requirement already satisfied: click-plugins>=1.0 in /usr/local/lib/python3.7/dist-packages (from fiona) (1.1.1)\n",
            "Requirement already satisfied: pyproj>=2.2.0 in /usr/local/lib/python3.7/dist-packages (from geopandas) (3.2.1)\n",
            "Requirement already satisfied: shapely>=1.6 in /usr/local/lib/python3.7/dist-packages (from geopandas) (1.8.5.post1)\n",
            "Requirement already satisfied: python-dateutil>=2.7.3 in /usr/local/lib/python3.7/dist-packages (from pandas->qeds) (2.8.2)\n",
            "Requirement already satisfied: pytz>=2017.3 in /usr/local/lib/python3.7/dist-packages (from pandas->qeds) (2022.6)\n",
            "Requirement already satisfied: smart-open>=1.2.1 in /usr/local/lib/python3.7/dist-packages (from gensim) (5.2.1)\n",
            "Requirement already satisfied: jinja2>=2.9 in /usr/local/lib/python3.7/dist-packages (from folium) (2.11.3)\n",
            "Requirement already satisfied: branca>=0.3.0 in /usr/local/lib/python3.7/dist-packages (from folium) (0.6.0)\n",
            "Requirement already satisfied: MarkupSafe>=0.23 in /usr/local/lib/python3.7/dist-packages (from jinja2>=2.9->folium) (2.0.1)\n",
            "Requirement already satisfied: numexpr in /usr/local/lib/python3.7/dist-packages (from pyLDAvis) (2.8.4)\n",
            "Requirement already satisfied: future in /usr/local/lib/python3.7/dist-packages (from pyLDAvis) (0.16.0)\n",
            "Requirement already satisfied: joblib in /usr/local/lib/python3.7/dist-packages (from pyLDAvis) (1.2.0)\n",
            "Requirement already satisfied: funcy in /usr/local/lib/python3.7/dist-packages (from pyLDAvis) (1.17)\n",
            "Requirement already satisfied: sklearn in /usr/local/lib/python3.7/dist-packages (from pyLDAvis) (0.0.post1)\n",
            "Requirement already satisfied: cycler>=0.10 in /usr/local/lib/python3.7/dist-packages (from matplotlib->qeds) (0.11.0)\n",
            "Requirement already satisfied: kiwisolver>=1.0.1 in /usr/local/lib/python3.7/dist-packages (from matplotlib->qeds) (1.4.4)\n",
            "Requirement already satisfied: pyparsing!=2.0.4,!=2.1.2,!=2.1.6,>=2.0.1 in /usr/local/lib/python3.7/dist-packages (from matplotlib->qeds) (3.0.9)\n",
            "Requirement already satisfied: typing-extensions in /usr/local/lib/python3.7/dist-packages (from kiwisolver>=1.0.1->matplotlib->qeds) (4.1.1)\n",
            "Requirement already satisfied: et-xmlfile in /usr/local/lib/python3.7/dist-packages (from openpyxl->qeds) (1.1.0)\n",
            "Requirement already satisfied: lxml in /usr/local/lib/python3.7/dist-packages (from pandas-datareader->qeds) (4.9.1)\n",
            "Requirement already satisfied: idna<3,>=2.5 in /usr/local/lib/python3.7/dist-packages (from requests->qeds) (2.10)\n",
            "Requirement already satisfied: urllib3!=1.25.0,!=1.25.1,<1.26,>=1.21.1 in /usr/local/lib/python3.7/dist-packages (from requests->qeds) (1.24.3)\n",
            "Requirement already satisfied: chardet<4,>=3.0.2 in /usr/local/lib/python3.7/dist-packages (from requests->qeds) (3.0.4)\n",
            "Requirement already satisfied: tenacity>=6.2.0 in /usr/local/lib/python3.7/dist-packages (from plotly->qeds) (8.1.0)\n",
            "Requirement already satisfied: inflection>=0.3.1 in /usr/local/lib/python3.7/dist-packages (from quandl->qeds) (0.5.1)\n",
            "Requirement already satisfied: more-itertools in /usr/local/lib/python3.7/dist-packages (from quandl->qeds) (9.0.0)\n",
            "Requirement already satisfied: numba in /usr/local/lib/python3.7/dist-packages (from quantecon->qeds) (0.56.4)\n",
            "Requirement already satisfied: sympy in /usr/local/lib/python3.7/dist-packages (from quantecon->qeds) (1.7.1)\n",
            "Requirement already satisfied: llvmlite<0.40,>=0.39.0dev0 in /usr/local/lib/python3.7/dist-packages (from numba->quantecon->qeds) (0.39.1)\n",
            "Requirement already satisfied: importlib-metadata in /usr/local/lib/python3.7/dist-packages (from numba->quantecon->qeds) (4.13.0)\n",
            "Requirement already satisfied: zipp>=0.5 in /usr/local/lib/python3.7/dist-packages (from importlib-metadata->numba->quantecon->qeds) (3.10.0)\n",
            "Requirement already satisfied: threadpoolctl>=2.0.0 in /usr/local/lib/python3.7/dist-packages (from scikit-learn->qeds) (3.1.0)\n",
            "Requirement already satisfied: patsy>=0.5 in /usr/local/lib/python3.7/dist-packages (from statsmodels->qeds) (0.5.3)\n",
            "Requirement already satisfied: mpmath>=0.19 in /usr/local/lib/python3.7/dist-packages (from sympy->quantecon->qeds) (1.2.1)\n"
          ]
        }
      ]
    },
    {
      "cell_type": "code",
      "execution_count": 100,
      "metadata": {
        "colab": {
          "base_uri": "https://localhost:8080/",
          "height": 699
        },
        "id": "Lslh8zp-NwEG",
        "outputId": "0c98f312-a666-4099-9018-7c991d5972a0"
      },
      "outputs": [
        {
          "output_type": "execute_result",
          "data": {
            "text/plain": [
              "           CLAVE                               SITIO  \\\n",
              "333    DLHID1427                        POZO EL MEXE   \n",
              "638    OCBAL2875            POZO MARISCALA DE JUAREZ   \n",
              "78      DLCHI296                   VALLE DE JUAREZ 1   \n",
              "344  DLHID1486M1                  POZO MICHIMALTONGO   \n",
              "342    DLHID1475  MANANTIAL LOS CANGREJOS/VENTOQUIPA   \n",
              "75     DLCAM5389           POZO DE A.P. JUSTO SIERRA   \n",
              "663  OCCCN5244M1              POZO 5 RANCHO MI SUEÑO   \n",
              "385    DLMIC1680                EJIDO BELLAS FUENTES   \n",
              "314    DLGUA1188                            SAN JOSE   \n",
              "226     DLDUR731             POZO 7 GABINO SANTILLAN   \n",
              "\n",
              "             ORGANISMO_DE_CUENCA               ESTADO              MUNICIPIO  \\\n",
              "333    AGUAS DEL VALLE DE MEXICO              HIDALGO    FRANCISCO I. MADERO   \n",
              "638                       BALSAS               OAXACA    MARISCALA DE JUAREZ   \n",
              "78                     RIO BRAVO            CHIHUAHUA                 JUAREZ   \n",
              "344    AGUAS DEL VALLE DE MEXICO              HIDALGO        TULA DE ALLENDE   \n",
              "342                  GOLFO NORTE              HIDALGO  CUAUTEPEC DE HINOJOSA   \n",
              "75          PENINSULA DE YUCATAN             CAMPECHE             CANDELARIA   \n",
              "663  CUENCAS CENTRALES DEL NORTE              DURANGO                  LERDO   \n",
              "385      LERMA SANTIAGO PACIFICO  MICHOACAN DE OCAMPO                 COENEO   \n",
              "314      LERMA SANTIAGO PACIFICO           GUANAJUATO              URIANGATO   \n",
              "226               PACIFICO NORTE              DURANGO                DURANGO   \n",
              "\n",
              "                        ACUIFERO SUBTIPO   LONGITUD   LATITUD  PERIODO  ...  \\\n",
              "333  ACTOPAN - SANTIAGO DE ANAYA    POZO  -99.08415  20.22377     2020  ...   \n",
              "638                    MARISCALA    POZO  -98.14664  17.85734     2020  ...   \n",
              "78               VALLE DE JUAREZ    POZO -106.28142  31.54709     2020  ...   \n",
              "344          VALLE DEL MEZQUITAL    POZO  -99.38646  20.11190     2020  ...   \n",
              "342          VALLE DE TULANCINGO    POZO  -98.33827  20.03506     2020  ...   \n",
              "75          PENINSULA DE YUCATAN    POZO  -90.73954  17.94648     2020  ...   \n",
              "663                 VILLA JUAREZ    POZO -103.54249  25.51222     2020  ...   \n",
              "385                       ZACAPU    POZO -101.68031  19.82134     2020  ...   \n",
              "314      CIENEGA PRIETA-MOROLEON    POZO -101.17033  20.09883     2020  ...   \n",
              "226           VALLE DEL GUADIANA    POZO -104.58664  23.98935     2020  ...   \n",
              "\n",
              "     CUMPLE_CON_DUR CUMPLE_CON_CF  CUMPLE_CON_NO3 CUMPLE_CON_AS  \\\n",
              "333              NO            SI              SI            SI   \n",
              "638              SI            SI              SI            SI   \n",
              "78               SI            SI              SI            SI   \n",
              "344              SI            SI              SI            SI   \n",
              "342              SI            SI              SI            SI   \n",
              "75               SI            SI              SI            SI   \n",
              "663              SI            SI              SI            SI   \n",
              "385              SI            SI              SI            SI   \n",
              "314              SI            SI              SI            SI   \n",
              "226              SI            SI              SI            SI   \n",
              "\n",
              "     CUMPLE_CON_CD CUMPLE_CON_CR CUMPLE_CON_HG CUMPLE_CON_PB CUMPLE_CON_MN  \\\n",
              "333             SI            SI            SI            SI            SI   \n",
              "638             SI            SI            SI            SI            SI   \n",
              "78              SI            SI            SI            SI            SI   \n",
              "344             SI            SI            SI            SI            SI   \n",
              "342             SI            SI            SI            SI            SI   \n",
              "75              SI            SI            SI            SI            SI   \n",
              "663             SI            SI            SI            SI            SI   \n",
              "385             SI            SI            SI            SI            SI   \n",
              "314             SI            SI            SI            SI            NO   \n",
              "226             SI            SI            SI            SI            SI   \n",
              "\n",
              "    CUMPLE_CON_FE  \n",
              "333            SI  \n",
              "638            SI  \n",
              "78             SI  \n",
              "344            NO  \n",
              "342            SI  \n",
              "75             SI  \n",
              "663            SI  \n",
              "385            SI  \n",
              "314            NO  \n",
              "226            SI  \n",
              "\n",
              "[10 rows x 57 columns]"
            ],
            "text/html": [
              "\n",
              "  <div id=\"df-0024bc27-e881-4366-9e47-dfe28c619db8\">\n",
              "    <div class=\"colab-df-container\">\n",
              "      <div>\n",
              "<style scoped>\n",
              "    .dataframe tbody tr th:only-of-type {\n",
              "        vertical-align: middle;\n",
              "    }\n",
              "\n",
              "    .dataframe tbody tr th {\n",
              "        vertical-align: top;\n",
              "    }\n",
              "\n",
              "    .dataframe thead th {\n",
              "        text-align: right;\n",
              "    }\n",
              "</style>\n",
              "<table border=\"1\" class=\"dataframe\">\n",
              "  <thead>\n",
              "    <tr style=\"text-align: right;\">\n",
              "      <th></th>\n",
              "      <th>CLAVE</th>\n",
              "      <th>SITIO</th>\n",
              "      <th>ORGANISMO_DE_CUENCA</th>\n",
              "      <th>ESTADO</th>\n",
              "      <th>MUNICIPIO</th>\n",
              "      <th>ACUIFERO</th>\n",
              "      <th>SUBTIPO</th>\n",
              "      <th>LONGITUD</th>\n",
              "      <th>LATITUD</th>\n",
              "      <th>PERIODO</th>\n",
              "      <th>...</th>\n",
              "      <th>CUMPLE_CON_DUR</th>\n",
              "      <th>CUMPLE_CON_CF</th>\n",
              "      <th>CUMPLE_CON_NO3</th>\n",
              "      <th>CUMPLE_CON_AS</th>\n",
              "      <th>CUMPLE_CON_CD</th>\n",
              "      <th>CUMPLE_CON_CR</th>\n",
              "      <th>CUMPLE_CON_HG</th>\n",
              "      <th>CUMPLE_CON_PB</th>\n",
              "      <th>CUMPLE_CON_MN</th>\n",
              "      <th>CUMPLE_CON_FE</th>\n",
              "    </tr>\n",
              "  </thead>\n",
              "  <tbody>\n",
              "    <tr>\n",
              "      <th>333</th>\n",
              "      <td>DLHID1427</td>\n",
              "      <td>POZO EL MEXE</td>\n",
              "      <td>AGUAS DEL VALLE DE MEXICO</td>\n",
              "      <td>HIDALGO</td>\n",
              "      <td>FRANCISCO I. MADERO</td>\n",
              "      <td>ACTOPAN - SANTIAGO DE ANAYA</td>\n",
              "      <td>POZO</td>\n",
              "      <td>-99.08415</td>\n",
              "      <td>20.22377</td>\n",
              "      <td>2020</td>\n",
              "      <td>...</td>\n",
              "      <td>NO</td>\n",
              "      <td>SI</td>\n",
              "      <td>SI</td>\n",
              "      <td>SI</td>\n",
              "      <td>SI</td>\n",
              "      <td>SI</td>\n",
              "      <td>SI</td>\n",
              "      <td>SI</td>\n",
              "      <td>SI</td>\n",
              "      <td>SI</td>\n",
              "    </tr>\n",
              "    <tr>\n",
              "      <th>638</th>\n",
              "      <td>OCBAL2875</td>\n",
              "      <td>POZO MARISCALA DE JUAREZ</td>\n",
              "      <td>BALSAS</td>\n",
              "      <td>OAXACA</td>\n",
              "      <td>MARISCALA DE JUAREZ</td>\n",
              "      <td>MARISCALA</td>\n",
              "      <td>POZO</td>\n",
              "      <td>-98.14664</td>\n",
              "      <td>17.85734</td>\n",
              "      <td>2020</td>\n",
              "      <td>...</td>\n",
              "      <td>SI</td>\n",
              "      <td>SI</td>\n",
              "      <td>SI</td>\n",
              "      <td>SI</td>\n",
              "      <td>SI</td>\n",
              "      <td>SI</td>\n",
              "      <td>SI</td>\n",
              "      <td>SI</td>\n",
              "      <td>SI</td>\n",
              "      <td>SI</td>\n",
              "    </tr>\n",
              "    <tr>\n",
              "      <th>78</th>\n",
              "      <td>DLCHI296</td>\n",
              "      <td>VALLE DE JUAREZ 1</td>\n",
              "      <td>RIO BRAVO</td>\n",
              "      <td>CHIHUAHUA</td>\n",
              "      <td>JUAREZ</td>\n",
              "      <td>VALLE DE JUAREZ</td>\n",
              "      <td>POZO</td>\n",
              "      <td>-106.28142</td>\n",
              "      <td>31.54709</td>\n",
              "      <td>2020</td>\n",
              "      <td>...</td>\n",
              "      <td>SI</td>\n",
              "      <td>SI</td>\n",
              "      <td>SI</td>\n",
              "      <td>SI</td>\n",
              "      <td>SI</td>\n",
              "      <td>SI</td>\n",
              "      <td>SI</td>\n",
              "      <td>SI</td>\n",
              "      <td>SI</td>\n",
              "      <td>SI</td>\n",
              "    </tr>\n",
              "    <tr>\n",
              "      <th>344</th>\n",
              "      <td>DLHID1486M1</td>\n",
              "      <td>POZO MICHIMALTONGO</td>\n",
              "      <td>AGUAS DEL VALLE DE MEXICO</td>\n",
              "      <td>HIDALGO</td>\n",
              "      <td>TULA DE ALLENDE</td>\n",
              "      <td>VALLE DEL MEZQUITAL</td>\n",
              "      <td>POZO</td>\n",
              "      <td>-99.38646</td>\n",
              "      <td>20.11190</td>\n",
              "      <td>2020</td>\n",
              "      <td>...</td>\n",
              "      <td>SI</td>\n",
              "      <td>SI</td>\n",
              "      <td>SI</td>\n",
              "      <td>SI</td>\n",
              "      <td>SI</td>\n",
              "      <td>SI</td>\n",
              "      <td>SI</td>\n",
              "      <td>SI</td>\n",
              "      <td>SI</td>\n",
              "      <td>NO</td>\n",
              "    </tr>\n",
              "    <tr>\n",
              "      <th>342</th>\n",
              "      <td>DLHID1475</td>\n",
              "      <td>MANANTIAL LOS CANGREJOS/VENTOQUIPA</td>\n",
              "      <td>GOLFO NORTE</td>\n",
              "      <td>HIDALGO</td>\n",
              "      <td>CUAUTEPEC DE HINOJOSA</td>\n",
              "      <td>VALLE DE TULANCINGO</td>\n",
              "      <td>POZO</td>\n",
              "      <td>-98.33827</td>\n",
              "      <td>20.03506</td>\n",
              "      <td>2020</td>\n",
              "      <td>...</td>\n",
              "      <td>SI</td>\n",
              "      <td>SI</td>\n",
              "      <td>SI</td>\n",
              "      <td>SI</td>\n",
              "      <td>SI</td>\n",
              "      <td>SI</td>\n",
              "      <td>SI</td>\n",
              "      <td>SI</td>\n",
              "      <td>SI</td>\n",
              "      <td>SI</td>\n",
              "    </tr>\n",
              "    <tr>\n",
              "      <th>75</th>\n",
              "      <td>DLCAM5389</td>\n",
              "      <td>POZO DE A.P. JUSTO SIERRA</td>\n",
              "      <td>PENINSULA DE YUCATAN</td>\n",
              "      <td>CAMPECHE</td>\n",
              "      <td>CANDELARIA</td>\n",
              "      <td>PENINSULA DE YUCATAN</td>\n",
              "      <td>POZO</td>\n",
              "      <td>-90.73954</td>\n",
              "      <td>17.94648</td>\n",
              "      <td>2020</td>\n",
              "      <td>...</td>\n",
              "      <td>SI</td>\n",
              "      <td>SI</td>\n",
              "      <td>SI</td>\n",
              "      <td>SI</td>\n",
              "      <td>SI</td>\n",
              "      <td>SI</td>\n",
              "      <td>SI</td>\n",
              "      <td>SI</td>\n",
              "      <td>SI</td>\n",
              "      <td>SI</td>\n",
              "    </tr>\n",
              "    <tr>\n",
              "      <th>663</th>\n",
              "      <td>OCCCN5244M1</td>\n",
              "      <td>POZO 5 RANCHO MI SUEÑO</td>\n",
              "      <td>CUENCAS CENTRALES DEL NORTE</td>\n",
              "      <td>DURANGO</td>\n",
              "      <td>LERDO</td>\n",
              "      <td>VILLA JUAREZ</td>\n",
              "      <td>POZO</td>\n",
              "      <td>-103.54249</td>\n",
              "      <td>25.51222</td>\n",
              "      <td>2020</td>\n",
              "      <td>...</td>\n",
              "      <td>SI</td>\n",
              "      <td>SI</td>\n",
              "      <td>SI</td>\n",
              "      <td>SI</td>\n",
              "      <td>SI</td>\n",
              "      <td>SI</td>\n",
              "      <td>SI</td>\n",
              "      <td>SI</td>\n",
              "      <td>SI</td>\n",
              "      <td>SI</td>\n",
              "    </tr>\n",
              "    <tr>\n",
              "      <th>385</th>\n",
              "      <td>DLMIC1680</td>\n",
              "      <td>EJIDO BELLAS FUENTES</td>\n",
              "      <td>LERMA SANTIAGO PACIFICO</td>\n",
              "      <td>MICHOACAN DE OCAMPO</td>\n",
              "      <td>COENEO</td>\n",
              "      <td>ZACAPU</td>\n",
              "      <td>POZO</td>\n",
              "      <td>-101.68031</td>\n",
              "      <td>19.82134</td>\n",
              "      <td>2020</td>\n",
              "      <td>...</td>\n",
              "      <td>SI</td>\n",
              "      <td>SI</td>\n",
              "      <td>SI</td>\n",
              "      <td>SI</td>\n",
              "      <td>SI</td>\n",
              "      <td>SI</td>\n",
              "      <td>SI</td>\n",
              "      <td>SI</td>\n",
              "      <td>SI</td>\n",
              "      <td>SI</td>\n",
              "    </tr>\n",
              "    <tr>\n",
              "      <th>314</th>\n",
              "      <td>DLGUA1188</td>\n",
              "      <td>SAN JOSE</td>\n",
              "      <td>LERMA SANTIAGO PACIFICO</td>\n",
              "      <td>GUANAJUATO</td>\n",
              "      <td>URIANGATO</td>\n",
              "      <td>CIENEGA PRIETA-MOROLEON</td>\n",
              "      <td>POZO</td>\n",
              "      <td>-101.17033</td>\n",
              "      <td>20.09883</td>\n",
              "      <td>2020</td>\n",
              "      <td>...</td>\n",
              "      <td>SI</td>\n",
              "      <td>SI</td>\n",
              "      <td>SI</td>\n",
              "      <td>SI</td>\n",
              "      <td>SI</td>\n",
              "      <td>SI</td>\n",
              "      <td>SI</td>\n",
              "      <td>SI</td>\n",
              "      <td>NO</td>\n",
              "      <td>NO</td>\n",
              "    </tr>\n",
              "    <tr>\n",
              "      <th>226</th>\n",
              "      <td>DLDUR731</td>\n",
              "      <td>POZO 7 GABINO SANTILLAN</td>\n",
              "      <td>PACIFICO NORTE</td>\n",
              "      <td>DURANGO</td>\n",
              "      <td>DURANGO</td>\n",
              "      <td>VALLE DEL GUADIANA</td>\n",
              "      <td>POZO</td>\n",
              "      <td>-104.58664</td>\n",
              "      <td>23.98935</td>\n",
              "      <td>2020</td>\n",
              "      <td>...</td>\n",
              "      <td>SI</td>\n",
              "      <td>SI</td>\n",
              "      <td>SI</td>\n",
              "      <td>SI</td>\n",
              "      <td>SI</td>\n",
              "      <td>SI</td>\n",
              "      <td>SI</td>\n",
              "      <td>SI</td>\n",
              "      <td>SI</td>\n",
              "      <td>SI</td>\n",
              "    </tr>\n",
              "  </tbody>\n",
              "</table>\n",
              "<p>10 rows × 57 columns</p>\n",
              "</div>\n",
              "      <button class=\"colab-df-convert\" onclick=\"convertToInteractive('df-0024bc27-e881-4366-9e47-dfe28c619db8')\"\n",
              "              title=\"Convert this dataframe to an interactive table.\"\n",
              "              style=\"display:none;\">\n",
              "        \n",
              "  <svg xmlns=\"http://www.w3.org/2000/svg\" height=\"24px\"viewBox=\"0 0 24 24\"\n",
              "       width=\"24px\">\n",
              "    <path d=\"M0 0h24v24H0V0z\" fill=\"none\"/>\n",
              "    <path d=\"M18.56 5.44l.94 2.06.94-2.06 2.06-.94-2.06-.94-.94-2.06-.94 2.06-2.06.94zm-11 1L8.5 8.5l.94-2.06 2.06-.94-2.06-.94L8.5 2.5l-.94 2.06-2.06.94zm10 10l.94 2.06.94-2.06 2.06-.94-2.06-.94-.94-2.06-.94 2.06-2.06.94z\"/><path d=\"M17.41 7.96l-1.37-1.37c-.4-.4-.92-.59-1.43-.59-.52 0-1.04.2-1.43.59L10.3 9.45l-7.72 7.72c-.78.78-.78 2.05 0 2.83L4 21.41c.39.39.9.59 1.41.59.51 0 1.02-.2 1.41-.59l7.78-7.78 2.81-2.81c.8-.78.8-2.07 0-2.86zM5.41 20L4 18.59l7.72-7.72 1.47 1.35L5.41 20z\"/>\n",
              "  </svg>\n",
              "      </button>\n",
              "      \n",
              "  <style>\n",
              "    .colab-df-container {\n",
              "      display:flex;\n",
              "      flex-wrap:wrap;\n",
              "      gap: 12px;\n",
              "    }\n",
              "\n",
              "    .colab-df-convert {\n",
              "      background-color: #E8F0FE;\n",
              "      border: none;\n",
              "      border-radius: 50%;\n",
              "      cursor: pointer;\n",
              "      display: none;\n",
              "      fill: #1967D2;\n",
              "      height: 32px;\n",
              "      padding: 0 0 0 0;\n",
              "      width: 32px;\n",
              "    }\n",
              "\n",
              "    .colab-df-convert:hover {\n",
              "      background-color: #E2EBFA;\n",
              "      box-shadow: 0px 1px 2px rgba(60, 64, 67, 0.3), 0px 1px 3px 1px rgba(60, 64, 67, 0.15);\n",
              "      fill: #174EA6;\n",
              "    }\n",
              "\n",
              "    [theme=dark] .colab-df-convert {\n",
              "      background-color: #3B4455;\n",
              "      fill: #D2E3FC;\n",
              "    }\n",
              "\n",
              "    [theme=dark] .colab-df-convert:hover {\n",
              "      background-color: #434B5C;\n",
              "      box-shadow: 0px 1px 3px 1px rgba(0, 0, 0, 0.15);\n",
              "      filter: drop-shadow(0px 1px 2px rgba(0, 0, 0, 0.3));\n",
              "      fill: #FFFFFF;\n",
              "    }\n",
              "  </style>\n",
              "\n",
              "      <script>\n",
              "        const buttonEl =\n",
              "          document.querySelector('#df-0024bc27-e881-4366-9e47-dfe28c619db8 button.colab-df-convert');\n",
              "        buttonEl.style.display =\n",
              "          google.colab.kernel.accessAllowed ? 'block' : 'none';\n",
              "\n",
              "        async function convertToInteractive(key) {\n",
              "          const element = document.querySelector('#df-0024bc27-e881-4366-9e47-dfe28c619db8');\n",
              "          const dataTable =\n",
              "            await google.colab.kernel.invokeFunction('convertToInteractive',\n",
              "                                                     [key], {});\n",
              "          if (!dataTable) return;\n",
              "\n",
              "          const docLinkHtml = 'Like what you see? Visit the ' +\n",
              "            '<a target=\"_blank\" href=https://colab.research.google.com/notebooks/data_table.ipynb>data table notebook</a>'\n",
              "            + ' to learn more about interactive tables.';\n",
              "          element.innerHTML = '';\n",
              "          dataTable['output_type'] = 'display_data';\n",
              "          await google.colab.output.renderOutput(dataTable, element);\n",
              "          const docLink = document.createElement('div');\n",
              "          docLink.innerHTML = docLinkHtml;\n",
              "          element.appendChild(docLink);\n",
              "        }\n",
              "      </script>\n",
              "    </div>\n",
              "  </div>\n",
              "  "
            ]
          },
          "metadata": {},
          "execution_count": 100
        }
      ],
      "source": [
        "#Lectura de la Base de Datos de Aguas Subterraneas\n",
        "df = pd.read_csv('/content/AguasSubterraneas_2020.csv',encoding='cp1252')\n",
        "df.sample(10)"
      ]
    },
    {
      "cell_type": "code",
      "source": [
        "#¿Que tipo de dato son las valriables del conjunto de Datos?\n",
        "df.dtypes"
      ],
      "metadata": {
        "colab": {
          "base_uri": "https://localhost:8080/"
        },
        "id": "ZgoHZMqnjLQ0",
        "outputId": "57f051f2-9b1c-4568-fcd3-1ca426d71447"
      },
      "execution_count": 101,
      "outputs": [
        {
          "output_type": "execute_result",
          "data": {
            "text/plain": [
              "CLAVE                    object\n",
              "SITIO                    object\n",
              "ORGANISMO_DE_CUENCA      object\n",
              "ESTADO                   object\n",
              "MUNICIPIO                object\n",
              "ACUIFERO                 object\n",
              "SUBTIPO                  object\n",
              "LONGITUD                float64\n",
              "LATITUD                 float64\n",
              "PERIODO                   int64\n",
              "ALC_mg/L                float64\n",
              "CALIDAD_ALC              object\n",
              "CONDUCT_mS/cm           float64\n",
              "CALIDAD_CONDUC           object\n",
              "SDT_mg/L                float64\n",
              "SDT_M_mg/L               object\n",
              "CALIDAD_SDT_ra           object\n",
              "CALIDAD_SDT_salin        object\n",
              "FLUORUROS_mg/L           object\n",
              "CALIDAD_FLUO             object\n",
              "DUR_mg/L                 object\n",
              "CALIDAD_DUR              object\n",
              "COLI_FEC_NMP/100_mL      object\n",
              "CALIDAD_COLI_FEC         object\n",
              "N_NO3_mg/L               object\n",
              "CALIDAD_N_NO3            object\n",
              "AS_TOT_mg/L              object\n",
              "CALIDAD_AS               object\n",
              "CD_TOT_mg/L              object\n",
              "CALIDAD_CD               object\n",
              "CR_TOT_mg/L              object\n",
              "CALIDAD_CR               object\n",
              "HG_TOT_mg/L              object\n",
              "CALIDAD_HG               object\n",
              "PB_TOT_mg/L              object\n",
              "CALIDAD_PB               object\n",
              "MN_TOT_mg/L              object\n",
              "CALIDAD_MN               object\n",
              "FE_TOT_mg/L              object\n",
              "CALIDAD_FE               object\n",
              "SEMAFORO                 object\n",
              "CONTAMINANTES            object\n",
              "CUMPLE_CON_ALC           object\n",
              "CUMPLE_CON_COND          object\n",
              "CUMPLE_CON_SDT_ra        object\n",
              "CUMPLE_CON_SDT_salin     object\n",
              "CUMPLE_CON_FLUO          object\n",
              "CUMPLE_CON_DUR           object\n",
              "CUMPLE_CON_CF            object\n",
              "CUMPLE_CON_NO3           object\n",
              "CUMPLE_CON_AS            object\n",
              "CUMPLE_CON_CD            object\n",
              "CUMPLE_CON_CR            object\n",
              "CUMPLE_CON_HG            object\n",
              "CUMPLE_CON_PB            object\n",
              "CUMPLE_CON_MN            object\n",
              "CUMPLE_CON_FE            object\n",
              "dtype: object"
            ]
          },
          "metadata": {},
          "execution_count": 101
        }
      ]
    },
    {
      "cell_type": "code",
      "source": [
        "#¿Cuantas variables de cada tipo de dato tenemos en nuestro Dataset?\n",
        "df.dtypes.value_counts()"
      ],
      "metadata": {
        "colab": {
          "base_uri": "https://localhost:8080/"
        },
        "id": "_aM2C8nCvun-",
        "outputId": "ac920240-e458-43da-bee0-34dd00029941"
      },
      "execution_count": 102,
      "outputs": [
        {
          "output_type": "execute_result",
          "data": {
            "text/plain": [
              "object     51\n",
              "float64     5\n",
              "int64       1\n",
              "dtype: int64"
            ]
          },
          "metadata": {},
          "execution_count": 102
        }
      ]
    },
    {
      "cell_type": "code",
      "source": [
        "#Revisemos cual es la dimención de nuetro Dataset.\n",
        "df.shape"
      ],
      "metadata": {
        "colab": {
          "base_uri": "https://localhost:8080/"
        },
        "id": "F7ZgkxBGwhDl",
        "outputId": "3f27db50-b411-442c-f14a-dafdc2d87103"
      },
      "execution_count": 103,
      "outputs": [
        {
          "output_type": "execute_result",
          "data": {
            "text/plain": [
              "(1068, 57)"
            ]
          },
          "metadata": {},
          "execution_count": 103
        }
      ]
    },
    {
      "cell_type": "markdown",
      "source": [
        "###Este archivo contiene la calidad del agua de **1,068 sitios subterráneos** en México; calificando su calidad con base en cada uno de los Indicadores y sus respectivas escalas.\n",
        "\n",
        "###Se incluyen las coordenadas geográficas y datos generales de ubicación de cada sitio."
      ],
      "metadata": {
        "id": "VsAy3b19yw5w"
      }
    },
    {
      "cell_type": "code",
      "source": [
        "#Confirmemos si en nuestros Dataset tenemos valore nulos/faltantes\n",
        "df.isnull().any()"
      ],
      "metadata": {
        "colab": {
          "base_uri": "https://localhost:8080/"
        },
        "id": "m0RlWtqgxHuy",
        "outputId": "1da706bb-a8ca-4c00-d208-86b9d87cc1c9"
      },
      "execution_count": 104,
      "outputs": [
        {
          "output_type": "execute_result",
          "data": {
            "text/plain": [
              "CLAVE                   False\n",
              "SITIO                   False\n",
              "ORGANISMO_DE_CUENCA     False\n",
              "ESTADO                  False\n",
              "MUNICIPIO               False\n",
              "ACUIFERO                False\n",
              "SUBTIPO                 False\n",
              "LONGITUD                False\n",
              "LATITUD                 False\n",
              "PERIODO                 False\n",
              "ALC_mg/L                 True\n",
              "CALIDAD_ALC              True\n",
              "CONDUCT_mS/cm            True\n",
              "CALIDAD_CONDUC           True\n",
              "SDT_mg/L                 True\n",
              "SDT_M_mg/L               True\n",
              "CALIDAD_SDT_ra           True\n",
              "CALIDAD_SDT_salin        True\n",
              "FLUORUROS_mg/L          False\n",
              "CALIDAD_FLUO            False\n",
              "DUR_mg/L                 True\n",
              "CALIDAD_DUR              True\n",
              "COLI_FEC_NMP/100_mL     False\n",
              "CALIDAD_COLI_FEC        False\n",
              "N_NO3_mg/L               True\n",
              "CALIDAD_N_NO3            True\n",
              "AS_TOT_mg/L             False\n",
              "CALIDAD_AS              False\n",
              "CD_TOT_mg/L             False\n",
              "CALIDAD_CD              False\n",
              "CR_TOT_mg/L             False\n",
              "CALIDAD_CR              False\n",
              "HG_TOT_mg/L             False\n",
              "CALIDAD_HG              False\n",
              "PB_TOT_mg/L             False\n",
              "CALIDAD_PB              False\n",
              "MN_TOT_mg/L             False\n",
              "CALIDAD_MN              False\n",
              "FE_TOT_mg/L             False\n",
              "CALIDAD_FE              False\n",
              "SEMAFORO                False\n",
              "CONTAMINANTES            True\n",
              "CUMPLE_CON_ALC          False\n",
              "CUMPLE_CON_COND         False\n",
              "CUMPLE_CON_SDT_ra       False\n",
              "CUMPLE_CON_SDT_salin    False\n",
              "CUMPLE_CON_FLUO         False\n",
              "CUMPLE_CON_DUR          False\n",
              "CUMPLE_CON_CF           False\n",
              "CUMPLE_CON_NO3          False\n",
              "CUMPLE_CON_AS           False\n",
              "CUMPLE_CON_CD           False\n",
              "CUMPLE_CON_CR           False\n",
              "CUMPLE_CON_HG           False\n",
              "CUMPLE_CON_PB           False\n",
              "CUMPLE_CON_MN           False\n",
              "CUMPLE_CON_FE           False\n",
              "dtype: bool"
            ]
          },
          "metadata": {},
          "execution_count": 104
        }
      ]
    },
    {
      "cell_type": "code",
      "source": [
        "#Veamos cuantos valores nulos tenemos por variable\n",
        "df.isnull().sum()"
      ],
      "metadata": {
        "colab": {
          "base_uri": "https://localhost:8080/"
        },
        "id": "zMvkiODTzenR",
        "outputId": "2c43f699-2f18-45c0-96b5-ddb5b89b9b3d"
      },
      "execution_count": 105,
      "outputs": [
        {
          "output_type": "execute_result",
          "data": {
            "text/plain": [
              "CLAVE                      0\n",
              "SITIO                      0\n",
              "ORGANISMO_DE_CUENCA        0\n",
              "ESTADO                     0\n",
              "MUNICIPIO                  0\n",
              "ACUIFERO                   0\n",
              "SUBTIPO                    0\n",
              "LONGITUD                   0\n",
              "LATITUD                    0\n",
              "PERIODO                    0\n",
              "ALC_mg/L                   4\n",
              "CALIDAD_ALC                4\n",
              "CONDUCT_mS/cm              6\n",
              "CALIDAD_CONDUC             6\n",
              "SDT_mg/L                1068\n",
              "SDT_M_mg/L                 2\n",
              "CALIDAD_SDT_ra             2\n",
              "CALIDAD_SDT_salin          2\n",
              "FLUORUROS_mg/L             0\n",
              "CALIDAD_FLUO               0\n",
              "DUR_mg/L                   1\n",
              "CALIDAD_DUR                1\n",
              "COLI_FEC_NMP/100_mL        0\n",
              "CALIDAD_COLI_FEC           0\n",
              "N_NO3_mg/L                 1\n",
              "CALIDAD_N_NO3              1\n",
              "AS_TOT_mg/L                0\n",
              "CALIDAD_AS                 0\n",
              "CD_TOT_mg/L                0\n",
              "CALIDAD_CD                 0\n",
              "CR_TOT_mg/L                0\n",
              "CALIDAD_CR                 0\n",
              "HG_TOT_mg/L                0\n",
              "CALIDAD_HG                 0\n",
              "PB_TOT_mg/L                0\n",
              "CALIDAD_PB                 0\n",
              "MN_TOT_mg/L                0\n",
              "CALIDAD_MN                 0\n",
              "FE_TOT_mg/L                0\n",
              "CALIDAD_FE                 0\n",
              "SEMAFORO                   0\n",
              "CONTAMINANTES            434\n",
              "CUMPLE_CON_ALC             0\n",
              "CUMPLE_CON_COND            0\n",
              "CUMPLE_CON_SDT_ra          0\n",
              "CUMPLE_CON_SDT_salin       0\n",
              "CUMPLE_CON_FLUO            0\n",
              "CUMPLE_CON_DUR             0\n",
              "CUMPLE_CON_CF              0\n",
              "CUMPLE_CON_NO3             0\n",
              "CUMPLE_CON_AS              0\n",
              "CUMPLE_CON_CD              0\n",
              "CUMPLE_CON_CR              0\n",
              "CUMPLE_CON_HG              0\n",
              "CUMPLE_CON_PB              0\n",
              "CUMPLE_CON_MN              0\n",
              "CUMPLE_CON_FE              0\n",
              "dtype: int64"
            ]
          },
          "metadata": {},
          "execution_count": 105
        }
      ]
    },
    {
      "cell_type": "code",
      "source": [
        "#En total tendriamos 1532 datos nulos.\n",
        "df.isnull().sum().sum()"
      ],
      "metadata": {
        "colab": {
          "base_uri": "https://localhost:8080/"
        },
        "id": "KiXMWQMh0XAl",
        "outputId": "b45002ab-0829-499f-b797-2f4396a70503"
      },
      "execution_count": 132,
      "outputs": [
        {
          "output_type": "execute_result",
          "data": {
            "text/plain": [
              "1098"
            ]
          },
          "metadata": {},
          "execution_count": 132
        }
      ]
    },
    {
      "cell_type": "code",
      "source": [
        "#Mostramos las columnas para posteriormente revisar los diferentes tipos de valores que se presentan en algunas de ellas.\n",
        "df.columns"
      ],
      "metadata": {
        "colab": {
          "base_uri": "https://localhost:8080/"
        },
        "id": "5Ch3AZZszU_4",
        "outputId": "3ea0b0d2-17e8-4157-9a01-3933c7e06266"
      },
      "execution_count": 107,
      "outputs": [
        {
          "output_type": "execute_result",
          "data": {
            "text/plain": [
              "Index(['CLAVE', 'SITIO', 'ORGANISMO_DE_CUENCA', 'ESTADO', 'MUNICIPIO',\n",
              "       'ACUIFERO', 'SUBTIPO', 'LONGITUD', 'LATITUD', 'PERIODO', 'ALC_mg/L',\n",
              "       'CALIDAD_ALC', 'CONDUCT_mS/cm', 'CALIDAD_CONDUC', 'SDT_mg/L',\n",
              "       'SDT_M_mg/L', 'CALIDAD_SDT_ra', 'CALIDAD_SDT_salin', 'FLUORUROS_mg/L',\n",
              "       'CALIDAD_FLUO', 'DUR_mg/L', 'CALIDAD_DUR', 'COLI_FEC_NMP/100_mL',\n",
              "       'CALIDAD_COLI_FEC', 'N_NO3_mg/L', 'CALIDAD_N_NO3', 'AS_TOT_mg/L',\n",
              "       'CALIDAD_AS', 'CD_TOT_mg/L', 'CALIDAD_CD', 'CR_TOT_mg/L', 'CALIDAD_CR',\n",
              "       'HG_TOT_mg/L', 'CALIDAD_HG', 'PB_TOT_mg/L', 'CALIDAD_PB', 'MN_TOT_mg/L',\n",
              "       'CALIDAD_MN', 'FE_TOT_mg/L', 'CALIDAD_FE', 'SEMAFORO', 'CONTAMINANTES',\n",
              "       'CUMPLE_CON_ALC', 'CUMPLE_CON_COND', 'CUMPLE_CON_SDT_ra',\n",
              "       'CUMPLE_CON_SDT_salin', 'CUMPLE_CON_FLUO', 'CUMPLE_CON_DUR',\n",
              "       'CUMPLE_CON_CF', 'CUMPLE_CON_NO3', 'CUMPLE_CON_AS', 'CUMPLE_CON_CD',\n",
              "       'CUMPLE_CON_CR', 'CUMPLE_CON_HG', 'CUMPLE_CON_PB', 'CUMPLE_CON_MN',\n",
              "       'CUMPLE_CON_FE'],\n",
              "      dtype='object')"
            ]
          },
          "metadata": {},
          "execution_count": 107
        }
      ]
    },
    {
      "cell_type": "code",
      "source": [
        "df[\"PERIODO\"].value_counts()"
      ],
      "metadata": {
        "colab": {
          "base_uri": "https://localhost:8080/"
        },
        "id": "YBMABD-mxWUI",
        "outputId": "c71097fd-9416-46a9-c8ef-db5e8fc4497f"
      },
      "execution_count": 108,
      "outputs": [
        {
          "output_type": "execute_result",
          "data": {
            "text/plain": [
              "2020    1068\n",
              "Name: PERIODO, dtype: int64"
            ]
          },
          "metadata": {},
          "execution_count": 108
        }
      ]
    },
    {
      "cell_type": "code",
      "source": [
        "df[\"CONTAMINANTES\"].value_counts()"
      ],
      "metadata": {
        "colab": {
          "base_uri": "https://localhost:8080/"
        },
        "id": "PUbLRkYG6noX",
        "outputId": "f131fe68-68a9-4542-90f3-373141f9ebc8"
      },
      "execution_count": 109,
      "outputs": [
        {
          "output_type": "execute_result",
          "data": {
            "text/plain": [
              "FLUO,                                            78\n",
              "DT,                                              65\n",
              "FLUO,AS,                                         51\n",
              "CF,                                              31\n",
              "AS,                                              31\n",
              "                                                 ..\n",
              "ALC,CONDUC,SDT_ra,SDT_salin,DT,NO3,               1\n",
              "ALC,CONDUC,SDT_ra,SDT_salin,FLUO,DT,AS,MN,FE,     1\n",
              "PB,MN,FE,                                         1\n",
              "ALC,AS,FE,                                        1\n",
              "ALC,DT,NO3,                                       1\n",
              "Name: CONTAMINANTES, Length: 126, dtype: int64"
            ]
          },
          "metadata": {},
          "execution_count": 109
        }
      ]
    },
    {
      "cell_type": "markdown",
      "source": [
        "\n",
        "\n",
        "###Observamos que nuestra variable **Valor de Alcalinidad Total en miligramos por litro(SDT_mg/L)** cuenta con **1068 valores nulos**, esto implica el 100% de las muestras por lo que se eliminara de nuestro Dataset.\n",
        "\n",
        "###La variable **Contaminantes** cuenta con 434 valores nulos sin embargo esto es debido a que estas muestras(Sitios Subterranos) no presentan algun tipo de contaminación que se describa con esta variable, por lo que se mantiene en el Dataset.\n",
        "\n",
        "###Las Variable **ALC_mg/L** presentan 4 Sitios Subterraneos sin valor, por consecuencía **CALIDAD_ALC** presenta los mismos datos nulos, la cantidad de datos nulos no es representativo para la muestra por lo que seran eliminados.\n",
        "\n",
        "###Se presenta este mismo caso para las variables **CONDUCT_mS/cm**, **CALIDAD_CONDUC**, **CONDUCT_mS/cm**,**CALIDAD_CONDUC**,**SDT_M_mg/L** **CALIDAD_SDT_ra**,**CALIDAD_SDT_salin**, **DUR_mg/L**, **CALIDAD_DUR** que seran eliminadas sus muestras con valores nulos.\n",
        "\n",
        "###La columna **\"FECHA\"** presenta el mismo valor para todas las muestras por lo que no sera relevante en nuestro analisis y sera eliminada."
      ],
      "metadata": {
        "id": "612AiUuX8lrx"
      }
    },
    {
      "cell_type": "code",
      "source": [
        "#Agregaremos un valor a la Variable Contaminantes a aquellos valores nulos que indican que no hay presencia de contaminantes\n",
        "#para posteriormente eliminar los valores nulos del resto del Dataset.\n",
        "\n",
        "df[\"CONTAMINANTES\"].fillna(\"OK\", inplace= True)\n"
      ],
      "metadata": {
        "id": "VIDyHseS6dUY"
      },
      "execution_count": 110,
      "outputs": []
    },
    {
      "cell_type": "code",
      "source": [
        "#Observamos que los valores nulos de la Columna \"CONTAMINANTES\" fueron llenados con \"OK\" como indicación que no hay presencia de Contaminantes.\n",
        "df[\"CONTAMINANTES\"].value_counts()"
      ],
      "metadata": {
        "colab": {
          "base_uri": "https://localhost:8080/"
        },
        "id": "tBwzzjeK78Ep",
        "outputId": "d919884b-f1d9-4165-9a8a-93391b0cd60b"
      },
      "execution_count": 111,
      "outputs": [
        {
          "output_type": "execute_result",
          "data": {
            "text/plain": [
              "OK                                               434\n",
              "FLUO,                                             78\n",
              "DT,                                               65\n",
              "FLUO,AS,                                          51\n",
              "CF,                                               31\n",
              "                                                ... \n",
              "ALC,FLUO,AS,FE,                                    1\n",
              "ALC,CONDUC,SDT_ra,SDT_salin,FLUO,DT,AS,MN,FE,      1\n",
              "PB,MN,FE,                                          1\n",
              "ALC,AS,FE,                                         1\n",
              "ALC,DT,NO3,                                        1\n",
              "Name: CONTAMINANTES, Length: 127, dtype: int64"
            ]
          },
          "metadata": {},
          "execution_count": 111
        }
      ]
    },
    {
      "cell_type": "code",
      "source": [
        "#Eliminamos la columna \"SDT_mg/L\"\n",
        "Clean_df= df.drop([\"SDT_mg/L\"],axis=1)"
      ],
      "metadata": {
        "id": "ZxstngHp8n29"
      },
      "execution_count": 133,
      "outputs": []
    },
    {
      "cell_type": "code",
      "source": [
        "#Eliminamos las muestras con datos nulos.\n",
        "Clean_df.dropna(inplace=True)\n"
      ],
      "metadata": {
        "id": "CM9aXIK3BBpv"
      },
      "execution_count": 134,
      "outputs": []
    },
    {
      "cell_type": "code",
      "source": [
        "#Comprobamos que nuestro Dataset se encuentra libre de Datos nulos y Variables que al momento no se consideran de relevancia para el analisis.\n",
        "Clean_df.isnull().sum()"
      ],
      "metadata": {
        "colab": {
          "base_uri": "https://localhost:8080/"
        },
        "id": "eVqWvNw2I9lG",
        "outputId": "59ea1825-19f3-408d-f6b8-a744a3a2dba9"
      },
      "execution_count": 135,
      "outputs": [
        {
          "output_type": "execute_result",
          "data": {
            "text/plain": [
              "CLAVE                   0\n",
              "SITIO                   0\n",
              "ORGANISMO_DE_CUENCA     0\n",
              "ESTADO                  0\n",
              "MUNICIPIO               0\n",
              "ACUIFERO                0\n",
              "SUBTIPO                 0\n",
              "LONGITUD                0\n",
              "LATITUD                 0\n",
              "PERIODO                 0\n",
              "ALC_mg/L                0\n",
              "CALIDAD_ALC             0\n",
              "CONDUCT_mS/cm           0\n",
              "CALIDAD_CONDUC          0\n",
              "SDT_M_mg/L              0\n",
              "CALIDAD_SDT_ra          0\n",
              "CALIDAD_SDT_salin       0\n",
              "FLUORUROS_mg/L          0\n",
              "CALIDAD_FLUO            0\n",
              "DUR_mg/L                0\n",
              "CALIDAD_DUR             0\n",
              "COLI_FEC_NMP/100_mL     0\n",
              "CALIDAD_COLI_FEC        0\n",
              "N_NO3_mg/L              0\n",
              "CALIDAD_N_NO3           0\n",
              "AS_TOT_mg/L             0\n",
              "CALIDAD_AS              0\n",
              "CD_TOT_mg/L             0\n",
              "CALIDAD_CD              0\n",
              "CR_TOT_mg/L             0\n",
              "CALIDAD_CR              0\n",
              "HG_TOT_mg/L             0\n",
              "CALIDAD_HG              0\n",
              "PB_TOT_mg/L             0\n",
              "CALIDAD_PB              0\n",
              "MN_TOT_mg/L             0\n",
              "CALIDAD_MN              0\n",
              "FE_TOT_mg/L             0\n",
              "CALIDAD_FE              0\n",
              "SEMAFORO                0\n",
              "CONTAMINANTES           0\n",
              "CUMPLE_CON_ALC          0\n",
              "CUMPLE_CON_COND         0\n",
              "CUMPLE_CON_SDT_ra       0\n",
              "CUMPLE_CON_SDT_salin    0\n",
              "CUMPLE_CON_FLUO         0\n",
              "CUMPLE_CON_DUR          0\n",
              "CUMPLE_CON_CF           0\n",
              "CUMPLE_CON_NO3          0\n",
              "CUMPLE_CON_AS           0\n",
              "CUMPLE_CON_CD           0\n",
              "CUMPLE_CON_CR           0\n",
              "CUMPLE_CON_HG           0\n",
              "CUMPLE_CON_PB           0\n",
              "CUMPLE_CON_MN           0\n",
              "CUMPLE_CON_FE           0\n",
              "dtype: int64"
            ]
          },
          "metadata": {},
          "execution_count": 135
        }
      ]
    },
    {
      "cell_type": "code",
      "source": [
        "Clean_df.shape"
      ],
      "metadata": {
        "colab": {
          "base_uri": "https://localhost:8080/"
        },
        "id": "knUy8gX0dVqN",
        "outputId": "de07653d-9254-4b96-b0c1-732d63e48aff"
      },
      "execution_count": 161,
      "outputs": [
        {
          "output_type": "execute_result",
          "data": {
            "text/plain": [
              "(1054, 56)"
            ]
          },
          "metadata": {},
          "execution_count": 161
        }
      ]
    },
    {
      "cell_type": "markdown",
      "source": [
        "###Ya con nuestro Dataset limpio continuaremos explorando"
      ],
      "metadata": {
        "id": "fEpw6IOv0qKo"
      }
    },
    {
      "cell_type": "code",
      "source": [
        "#Visualisemos la distribución de los sitios subterraneos por su ubicación(Estado)\n",
        "gb = df.groupby('ESTADO').apply(len)\n",
        "gb"
      ],
      "metadata": {
        "colab": {
          "base_uri": "https://localhost:8080/"
        },
        "id": "df_seT4ILLMi",
        "outputId": "0a42a68d-fe71-46af-d886-5748ada0bd91"
      },
      "execution_count": 136,
      "outputs": [
        {
          "output_type": "execute_result",
          "data": {
            "text/plain": [
              "ESTADO\n",
              "AGUASCALIENTES                      14\n",
              "BAJA CALIFORNIA                     31\n",
              "BAJA CALIFORNIA SUR                 49\n",
              "CAMPECHE                            25\n",
              "CHIAPAS                             21\n",
              "CHIHUAHUA                           35\n",
              "COAHUILA DE ZARAGOZA                59\n",
              "COLIMA                              26\n",
              "DISTRITO FEDERAL                     2\n",
              "DURANGO                            121\n",
              "GUANAJUATO                          41\n",
              "GUERRERO                             5\n",
              "HIDALGO                             37\n",
              "JALISCO                             33\n",
              "MEXICO                              24\n",
              "MICHOACAN DE OCAMPO                 27\n",
              "MORELOS                             11\n",
              "NAYARIT                              8\n",
              "NUEVO LEON                          15\n",
              "OAXACA                              20\n",
              "PUEBLA                              23\n",
              "QUERETARO ARTEAGA                    6\n",
              "QUINTANA ROO                        15\n",
              "SAN LUIS POTOSI                     47\n",
              "SINALOA                             32\n",
              "SONORA                             103\n",
              "TABASCO                             13\n",
              "TAMAULIPAS                          25\n",
              "TLAXCALA                            24\n",
              "VERACRUZ DE IGNACIO DE LA LLAVE     16\n",
              "YUCATAN                             85\n",
              "ZACATECAS                           75\n",
              "dtype: int64"
            ]
          },
          "metadata": {},
          "execution_count": 136
        }
      ]
    },
    {
      "cell_type": "code",
      "source": [
        "#Subtipo de cuerpo de agua donde se encuentra el sitio de muestreo \n",
        "geb = df.groupby('SUBTIPO').apply(len)\n",
        "geb"
      ],
      "metadata": {
        "colab": {
          "base_uri": "https://localhost:8080/"
        },
        "id": "n25Y5lKNQPSL",
        "outputId": "f9814457-bfaf-4c3e-a0b8-a74ef87f9b38"
      },
      "execution_count": 137,
      "outputs": [
        {
          "output_type": "execute_result",
          "data": {
            "text/plain": [
              "SUBTIPO\n",
              "BOMBEO CENOTE       1\n",
              "CENOTE              7\n",
              "DESCARGA            1\n",
              "MANANTIAL          12\n",
              "NORIA               3\n",
              "POZO             1039\n",
              "POZO NORIA          4\n",
              "Pozo                1\n",
              "dtype: int64"
            ]
          },
          "metadata": {},
          "execution_count": 137
        }
      ]
    },
    {
      "cell_type": "code",
      "source": [
        "#Veamos la proporción de nuestra variable \"SEMAFORO\" la cual nos indica el nivel de contaminacion de acuerdo a los contaminantes presentes\n",
        "gsb = Clean_df.groupby('SEMAFORO').apply(len)\n",
        "gsb.plot(kind='pie', title = 'Proporción de Aguas Subterraneas de México', \n",
        "cmap='Dark2', autopct=\"%.1f%%\", figsize = (10,6), legend=True);"
      ],
      "metadata": {
        "colab": {
          "base_uri": "https://localhost:8080/",
          "height": 373
        },
        "id": "0wz6q-vqqbAl",
        "outputId": "c74fca2d-2958-416e-ed77-84b42a9ab5f0"
      },
      "execution_count": 165,
      "outputs": [
        {
          "output_type": "display_data",
          "data": {
            "text/plain": [
              "<Figure size 720x432 with 1 Axes>"
            ],
            "image/png": "[encoded data removed]"
          },
          "metadata": {}
        }
      ]
    },
    {
      "cell_type": "code",
      "source": [
        "#Describamos nuestros datos numericos.\n",
        "Clean_df.describe()"
      ],
      "metadata": {
        "colab": {
          "base_uri": "https://localhost:8080/",
          "height": 300
        },
        "id": "Mp4j836ApvdV",
        "outputId": "46106269-a56c-4207-928f-c5afd11ee888"
      },
      "execution_count": 139,
      "outputs": [
        {
          "output_type": "execute_result",
          "data": {
            "text/plain": [
              "          LONGITUD      LATITUD  PERIODO     ALC_mg/L  CONDUCT_mS/cm\n",
              "count  1054.000000  1054.000000   1054.0  1054.000000    1054.000000\n",
              "mean   -101.848270    23.161796   2020.0   234.695266    1142.726471\n",
              "std       6.697568     3.875005      0.0   111.147849    1248.990617\n",
              "min    -116.664250    14.561150   2020.0    26.640000     110.000000\n",
              "25%    -105.385170    20.224857   2020.0   164.257500     506.000000\n",
              "50%    -102.170665    22.640705   2020.0   215.825000     820.000000\n",
              "75%     -98.971268    25.508770   2020.0   292.930000    1328.000000\n",
              "max     -86.864120    32.677713   2020.0  1650.000000   18577.000000"
            ],
            "text/html": [
              "\n",
              "  <div id=\"df-d9592ceb-3251-4542-a48b-43821128e10d\">\n",
              "    <div class=\"colab-df-container\">\n",
              "      <div>\n",
              "<style scoped>\n",
              "    .dataframe tbody tr th:only-of-type {\n",
              "        vertical-align: middle;\n",
              "    }\n",
              "\n",
              "    .dataframe tbody tr th {\n",
              "        vertical-align: top;\n",
              "    }\n",
              "\n",
              "    .dataframe thead th {\n",
              "        text-align: right;\n",
              "    }\n",
              "</style>\n",
              "<table border=\"1\" class=\"dataframe\">\n",
              "  <thead>\n",
              "    <tr style=\"text-align: right;\">\n",
              "      <th></th>\n",
              "      <th>LONGITUD</th>\n",
              "      <th>LATITUD</th>\n",
              "      <th>PERIODO</th>\n",
              "      <th>ALC_mg/L</th>\n",
              "      <th>CONDUCT_mS/cm</th>\n",
              "    </tr>\n",
              "  </thead>\n",
              "  <tbody>\n",
              "    <tr>\n",
              "      <th>count</th>\n",
              "      <td>1054.000000</td>\n",
              "      <td>1054.000000</td>\n",
              "      <td>1054.0</td>\n",
              "      <td>1054.000000</td>\n",
              "      <td>1054.000000</td>\n",
              "    </tr>\n",
              "    <tr>\n",
              "      <th>mean</th>\n",
              "      <td>-101.848270</td>\n",
              "      <td>23.161796</td>\n",
              "      <td>2020.0</td>\n",
              "      <td>234.695266</td>\n",
              "      <td>1142.726471</td>\n",
              "    </tr>\n",
              "    <tr>\n",
              "      <th>std</th>\n",
              "      <td>6.697568</td>\n",
              "      <td>3.875005</td>\n",
              "      <td>0.0</td>\n",
              "      <td>111.147849</td>\n",
              "      <td>1248.990617</td>\n",
              "    </tr>\n",
              "    <tr>\n",
              "      <th>min</th>\n",
              "      <td>-116.664250</td>\n",
              "      <td>14.561150</td>\n",
              "      <td>2020.0</td>\n",
              "      <td>26.640000</td>\n",
              "      <td>110.000000</td>\n",
              "    </tr>\n",
              "    <tr>\n",
              "      <th>25%</th>\n",
              "      <td>-105.385170</td>\n",
              "      <td>20.224857</td>\n",
              "      <td>2020.0</td>\n",
              "      <td>164.257500</td>\n",
              "      <td>506.000000</td>\n",
              "    </tr>\n",
              "    <tr>\n",
              "      <th>50%</th>\n",
              "      <td>-102.170665</td>\n",
              "      <td>22.640705</td>\n",
              "      <td>2020.0</td>\n",
              "      <td>215.825000</td>\n",
              "      <td>820.000000</td>\n",
              "    </tr>\n",
              "    <tr>\n",
              "      <th>75%</th>\n",
              "      <td>-98.971268</td>\n",
              "      <td>25.508770</td>\n",
              "      <td>2020.0</td>\n",
              "      <td>292.930000</td>\n",
              "      <td>1328.000000</td>\n",
              "    </tr>\n",
              "    <tr>\n",
              "      <th>max</th>\n",
              "      <td>-86.864120</td>\n",
              "      <td>32.677713</td>\n",
              "      <td>2020.0</td>\n",
              "      <td>1650.000000</td>\n",
              "      <td>18577.000000</td>\n",
              "    </tr>\n",
              "  </tbody>\n",
              "</table>\n",
              "</div>\n",
              "      <button class=\"colab-df-convert\" onclick=\"convertToInteractive('df-d9592ceb-3251-4542-a48b-43821128e10d')\"\n",
              "              title=\"Convert this dataframe to an interactive table.\"\n",
              "              style=\"display:none;\">\n",
              "        \n",
              "  <svg xmlns=\"http://www.w3.org/2000/svg\" height=\"24px\"viewBox=\"0 0 24 24\"\n",
              "       width=\"24px\">\n",
              "    <path d=\"M0 0h24v24H0V0z\" fill=\"none\"/>\n",
              "    <path d=\"M18.56 5.44l.94 2.06.94-2.06 2.06-.94-2.06-.94-.94-2.06-.94 2.06-2.06.94zm-11 1L8.5 8.5l.94-2.06 2.06-.94-2.06-.94L8.5 2.5l-.94 2.06-2.06.94zm10 10l.94 2.06.94-2.06 2.06-.94-2.06-.94-.94-2.06-.94 2.06-2.06.94z\"/><path d=\"M17.41 7.96l-1.37-1.37c-.4-.4-.92-.59-1.43-.59-.52 0-1.04.2-1.43.59L10.3 9.45l-7.72 7.72c-.78.78-.78 2.05 0 2.83L4 21.41c.39.39.9.59 1.41.59.51 0 1.02-.2 1.41-.59l7.78-7.78 2.81-2.81c.8-.78.8-2.07 0-2.86zM5.41 20L4 18.59l7.72-7.72 1.47 1.35L5.41 20z\"/>\n",
              "  </svg>\n",
              "      </button>\n",
              "      \n",
              "  <style>\n",
              "    .colab-df-container {\n",
              "      display:flex;\n",
              "      flex-wrap:wrap;\n",
              "      gap: 12px;\n",
              "    }\n",
              "\n",
              "    .colab-df-convert {\n",
              "      background-color: #E8F0FE;\n",
              "      border: none;\n",
              "      border-radius: 50%;\n",
              "      cursor: pointer;\n",
              "      display: none;\n",
              "      fill: #1967D2;\n",
              "      height: 32px;\n",
              "      padding: 0 0 0 0;\n",
              "      width: 32px;\n",
              "    }\n",
              "\n",
              "    .colab-df-convert:hover {\n",
              "      background-color: #E2EBFA;\n",
              "      box-shadow: 0px 1px 2px rgba(60, 64, 67, 0.3), 0px 1px 3px 1px rgba(60, 64, 67, 0.15);\n",
              "      fill: #174EA6;\n",
              "    }\n",
              "\n",
              "    [theme=dark] .colab-df-convert {\n",
              "      background-color: #3B4455;\n",
              "      fill: #D2E3FC;\n",
              "    }\n",
              "\n",
              "    [theme=dark] .colab-df-convert:hover {\n",
              "      background-color: #434B5C;\n",
              "      box-shadow: 0px 1px 3px 1px rgba(0, 0, 0, 0.15);\n",
              "      filter: drop-shadow(0px 1px 2px rgba(0, 0, 0, 0.3));\n",
              "      fill: #FFFFFF;\n",
              "    }\n",
              "  </style>\n",
              "\n",
              "      <script>\n",
              "        const buttonEl =\n",
              "          document.querySelector('#df-d9592ceb-3251-4542-a48b-43821128e10d button.colab-df-convert');\n",
              "        buttonEl.style.display =\n",
              "          google.colab.kernel.accessAllowed ? 'block' : 'none';\n",
              "\n",
              "        async function convertToInteractive(key) {\n",
              "          const element = document.querySelector('#df-d9592ceb-3251-4542-a48b-43821128e10d');\n",
              "          const dataTable =\n",
              "            await google.colab.kernel.invokeFunction('convertToInteractive',\n",
              "                                                     [key], {});\n",
              "          if (!dataTable) return;\n",
              "\n",
              "          const docLinkHtml = 'Like what you see? Visit the ' +\n",
              "            '<a target=\"_blank\" href=https://colab.research.google.com/notebooks/data_table.ipynb>data table notebook</a>'\n",
              "            + ' to learn more about interactive tables.';\n",
              "          element.innerHTML = '';\n",
              "          dataTable['output_type'] = 'display_data';\n",
              "          await google.colab.output.renderOutput(dataTable, element);\n",
              "          const docLink = document.createElement('div');\n",
              "          docLink.innerHTML = docLinkHtml;\n",
              "          element.appendChild(docLink);\n",
              "        }\n",
              "      </script>\n",
              "    </div>\n",
              "  </div>\n",
              "  "
            ]
          },
          "metadata": {},
          "execution_count": 139
        }
      ]
    },
    {
      "cell_type": "code",
      "source": [
        "#Notamos que la función describe dejo fuera algunos otras variables numericas por incluir el simbolo de desigualdad \"<\" como 'SDT_M_mg/L','DUR_mg/L', etc.\n",
        "#Cambiemos este tipo de valor a numerico.\n",
        "\n",
        "Clean_df['SDT_M_mg/L'] = Clean_df['SDT_M_mg/L'].str.replace('<', '')\n",
        "Clean_df['SDT_M_mg/L'] = pd.to_numeric(Clean_df['SDT_M_mg/L'])\n",
        "\n",
        "Clean_df['FLUORUROS_mg/L'] = Clean_df['FLUORUROS_mg/L'].str.replace('<', '')\n",
        "Clean_df['FLUORUROS_mg/L'] = pd.to_numeric(Clean_df['FLUORUROS_mg/L'])\n",
        "\n",
        "Clean_df['DUR_mg/L'] = Clean_df['DUR_mg/L'].str.replace('<', '')\n",
        "Clean_df['DUR_mg/L'] = pd.to_numeric(Clean_df['DUR_mg/L'])\n",
        "\n",
        "Clean_df['COLI_FEC_NMP/100_mL'] = Clean_df['COLI_FEC_NMP/100_mL'].str.replace('<', '')\n",
        "Clean_df['COLI_FEC_NMP/100_mL'] = pd.to_numeric(Clean_df['COLI_FEC_NMP/100_mL'])\n",
        "\n",
        "Clean_df['N_NO3_mg/L'] = Clean_df['N_NO3_mg/L'].str.replace('<', '')\n",
        "Clean_df['N_NO3_mg/L'] = pd.to_numeric(Clean_df['N_NO3_mg/L'])\n",
        "\n",
        "Clean_df['AS_TOT_mg/L'] = Clean_df['AS_TOT_mg/L'].str.replace('<', '')\n",
        "Clean_df['AS_TOT_mg/L'] = pd.to_numeric(Clean_df['AS_TOT_mg/L'])\n",
        "\n",
        "Clean_df['CD_TOT_mg/L'] = Clean_df['CD_TOT_mg/L'].str.replace('<', '')\n",
        "Clean_df['CD_TOT_mg/L'] = pd.to_numeric(Clean_df['CD_TOT_mg/L'])\n",
        "\n",
        "Clean_df['CR_TOT_mg/L'] = Clean_df['CR_TOT_mg/L'].str.replace('<', '')\n",
        "Clean_df['CR_TOT_mg/L'] = pd.to_numeric(Clean_df['CR_TOT_mg/L'])\n",
        "\n",
        "Clean_df['HG_TOT_mg/L'] = Clean_df['HG_TOT_mg/L'].str.replace('<', '')\n",
        "Clean_df['HG_TOT_mg/L'] = pd.to_numeric(Clean_df['HG_TOT_mg/L'])\n",
        "\n",
        "Clean_df['PB_TOT_mg/L'] = Clean_df['PB_TOT_mg/L'].str.replace('<', '')\n",
        "Clean_df['PB_TOT_mg/L'] = pd.to_numeric(Clean_df['PB_TOT_mg/L'])\n",
        "\n",
        "Clean_df['MN_TOT_mg/L'] = Clean_df['MN_TOT_mg/L'].str.replace('<', '')\n",
        "Clean_df['MN_TOT_mg/L'] = pd.to_numeric(Clean_df['MN_TOT_mg/L'])\n",
        "\n",
        "Clean_df['FE_TOT_mg/L'] = Clean_df['FE_TOT_mg/L'].str.replace('<', '')\n",
        "Clean_df['FE_TOT_mg/L'] = pd.to_numeric(Clean_df['FE_TOT_mg/L'])\n",
        "\n",
        "\n"
      ],
      "metadata": {
        "id": "PnfznNK6q0_e"
      },
      "execution_count": 141,
      "outputs": []
    },
    {
      "cell_type": "code",
      "source": [
        "#Describamos nuevamente nuestros datos numericos.\n",
        "Clean_df.describe()"
      ],
      "metadata": {
        "colab": {
          "base_uri": "https://localhost:8080/",
          "height": 364
        },
        "id": "_ZgwR6-LUchC",
        "outputId": "11ef3bf2-32aa-4902-e3fa-06ad3a2c92b2"
      },
      "execution_count": 148,
      "outputs": [
        {
          "output_type": "execute_result",
          "data": {
            "text/plain": [
              "          LONGITUD      LATITUD  PERIODO     ALC_mg/L  CONDUCT_mS/cm  \\\n",
              "count  1054.000000  1054.000000   1054.0  1054.000000    1054.000000   \n",
              "mean   -101.848270    23.161796   2020.0   234.695266    1142.726471   \n",
              "std       6.697568     3.875005      0.0   111.147849    1248.990617   \n",
              "min    -116.664250    14.561150   2020.0    26.640000     110.000000   \n",
              "25%    -105.385170    20.224857   2020.0   164.257500     506.000000   \n",
              "50%    -102.170665    22.640705   2020.0   215.825000     820.000000   \n",
              "75%     -98.971268    25.508770   2020.0   292.930000    1328.000000   \n",
              "max     -86.864120    32.677713   2020.0  1650.000000   18577.000000   \n",
              "\n",
              "         SDT_M_mg/L  FLUORUROS_mg/L     DUR_mg/L  COLI_FEC_NMP/100_mL  \\\n",
              "count   1054.000000     1054.000000  1054.000000          1054.000000   \n",
              "mean     896.945797        1.078547   349.893584           359.734156   \n",
              "std     2765.757924        1.931204   360.960153          2065.705773   \n",
              "min      101.200000        0.200000    20.000000             1.100000   \n",
              "25%      338.050000        0.269475   121.512000             1.100000   \n",
              "50%      551.400000        0.506950   245.994450             1.100000   \n",
              "75%      915.600000        1.142400   455.617200            10.750000   \n",
              "max    82170.000000       34.803300  3810.692200         24196.000000   \n",
              "\n",
              "        N_NO3_mg/L  AS_TOT_mg/L  CD_TOT_mg/L  CR_TOT_mg/L  HG_TOT_mg/L  \\\n",
              "count  1054.000000  1054.000000   1054.00000  1054.000000  1054.000000   \n",
              "mean      4.321651     0.019504      0.00303     0.013353     0.000557   \n",
              "std       8.378332     0.035051      0.00090     0.155412     0.000470   \n",
              "min       0.020000     0.010000      0.00300     0.005000     0.000500   \n",
              "25%       0.651667     0.010000      0.00300     0.005000     0.000500   \n",
              "50%       2.082916     0.010000      0.00300     0.005000     0.000500   \n",
              "75%       5.190385     0.010000      0.00300     0.005000     0.000500   \n",
              "max     121.007813     0.452200      0.03211     5.003200     0.014150   \n",
              "\n",
              "       PB_TOT_mg/L  MN_TOT_mg/L  FE_TOT_mg/L  \n",
              "count  1054.000000  1054.000000  1054.000000  \n",
              "mean      0.005285     0.072960     0.412234  \n",
              "std       0.003276     0.378856     5.574307  \n",
              "min       0.005000     0.001500     0.025000  \n",
              "25%       0.005000     0.001500     0.025000  \n",
              "50%       0.005000     0.001500     0.046900  \n",
              "75%       0.005000     0.009830     0.172275  \n",
              "max       0.080900     8.982000   178.615000  "
            ],
            "text/html": [
              "\n",
              "  <div id=\"df-16ae88b7-4881-4245-b1d6-294945f8d840\">\n",
              "    <div class=\"colab-df-container\">\n",
              "      <div>\n",
              "<style scoped>\n",
              "    .dataframe tbody tr th:only-of-type {\n",
              "        vertical-align: middle;\n",
              "    }\n",
              "\n",
              "    .dataframe tbody tr th {\n",
              "        vertical-align: top;\n",
              "    }\n",
              "\n",
              "    .dataframe thead th {\n",
              "        text-align: right;\n",
              "    }\n",
              "</style>\n",
              "<table border=\"1\" class=\"dataframe\">\n",
              "  <thead>\n",
              "    <tr style=\"text-align: right;\">\n",
              "      <th></th>\n",
              "      <th>LONGITUD</th>\n",
              "      <th>LATITUD</th>\n",
              "      <th>PERIODO</th>\n",
              "      <th>ALC_mg/L</th>\n",
              "      <th>CONDUCT_mS/cm</th>\n",
              "      <th>SDT_M_mg/L</th>\n",
              "      <th>FLUORUROS_mg/L</th>\n",
              "      <th>DUR_mg/L</th>\n",
              "      <th>COLI_FEC_NMP/100_mL</th>\n",
              "      <th>N_NO3_mg/L</th>\n",
              "      <th>AS_TOT_mg/L</th>\n",
              "      <th>CD_TOT_mg/L</th>\n",
              "      <th>CR_TOT_mg/L</th>\n",
              "      <th>HG_TOT_mg/L</th>\n",
              "      <th>PB_TOT_mg/L</th>\n",
              "      <th>MN_TOT_mg/L</th>\n",
              "      <th>FE_TOT_mg/L</th>\n",
              "    </tr>\n",
              "  </thead>\n",
              "  <tbody>\n",
              "    <tr>\n",
              "      <th>count</th>\n",
              "      <td>1054.000000</td>\n",
              "      <td>1054.000000</td>\n",
              "      <td>1054.0</td>\n",
              "      <td>1054.000000</td>\n",
              "      <td>1054.000000</td>\n",
              "      <td>1054.000000</td>\n",
              "      <td>1054.000000</td>\n",
              "      <td>1054.000000</td>\n",
              "      <td>1054.000000</td>\n",
              "      <td>1054.000000</td>\n",
              "      <td>1054.000000</td>\n",
              "      <td>1054.00000</td>\n",
              "      <td>1054.000000</td>\n",
              "      <td>1054.000000</td>\n",
              "      <td>1054.000000</td>\n",
              "      <td>1054.000000</td>\n",
              "      <td>1054.000000</td>\n",
              "    </tr>\n",
              "    <tr>\n",
              "      <th>mean</th>\n",
              "      <td>-101.848270</td>\n",
              "      <td>23.161796</td>\n",
              "      <td>2020.0</td>\n",
              "      <td>234.695266</td>\n",
              "      <td>1142.726471</td>\n",
              "      <td>896.945797</td>\n",
              "      <td>1.078547</td>\n",
              "      <td>349.893584</td>\n",
              "      <td>359.734156</td>\n",
              "      <td>4.321651</td>\n",
              "      <td>0.019504</td>\n",
              "      <td>0.00303</td>\n",
              "      <td>0.013353</td>\n",
              "      <td>0.000557</td>\n",
              "      <td>0.005285</td>\n",
              "      <td>0.072960</td>\n",
              "      <td>0.412234</td>\n",
              "    </tr>\n",
              "    <tr>\n",
              "      <th>std</th>\n",
              "      <td>6.697568</td>\n",
              "      <td>3.875005</td>\n",
              "      <td>0.0</td>\n",
              "      <td>111.147849</td>\n",
              "      <td>1248.990617</td>\n",
              "      <td>2765.757924</td>\n",
              "      <td>1.931204</td>\n",
              "      <td>360.960153</td>\n",
              "      <td>2065.705773</td>\n",
              "      <td>8.378332</td>\n",
              "      <td>0.035051</td>\n",
              "      <td>0.00090</td>\n",
              "      <td>0.155412</td>\n",
              "      <td>0.000470</td>\n",
              "      <td>0.003276</td>\n",
              "      <td>0.378856</td>\n",
              "      <td>5.574307</td>\n",
              "    </tr>\n",
              "    <tr>\n",
              "      <th>min</th>\n",
              "      <td>-116.664250</td>\n",
              "      <td>14.561150</td>\n",
              "      <td>2020.0</td>\n",
              "      <td>26.640000</td>\n",
              "      <td>110.000000</td>\n",
              "      <td>101.200000</td>\n",
              "      <td>0.200000</td>\n",
              "      <td>20.000000</td>\n",
              "      <td>1.100000</td>\n",
              "      <td>0.020000</td>\n",
              "      <td>0.010000</td>\n",
              "      <td>0.00300</td>\n",
              "      <td>0.005000</td>\n",
              "      <td>0.000500</td>\n",
              "      <td>0.005000</td>\n",
              "      <td>0.001500</td>\n",
              "      <td>0.025000</td>\n",
              "    </tr>\n",
              "    <tr>\n",
              "      <th>25%</th>\n",
              "      <td>-105.385170</td>\n",
              "      <td>20.224857</td>\n",
              "      <td>2020.0</td>\n",
              "      <td>164.257500</td>\n",
              "      <td>506.000000</td>\n",
              "      <td>338.050000</td>\n",
              "      <td>0.269475</td>\n",
              "      <td>121.512000</td>\n",
              "      <td>1.100000</td>\n",
              "      <td>0.651667</td>\n",
              "      <td>0.010000</td>\n",
              "      <td>0.00300</td>\n",
              "      <td>0.005000</td>\n",
              "      <td>0.000500</td>\n",
              "      <td>0.005000</td>\n",
              "      <td>0.001500</td>\n",
              "      <td>0.025000</td>\n",
              "    </tr>\n",
              "    <tr>\n",
              "      <th>50%</th>\n",
              "      <td>-102.170665</td>\n",
              "      <td>22.640705</td>\n",
              "      <td>2020.0</td>\n",
              "      <td>215.825000</td>\n",
              "      <td>820.000000</td>\n",
              "      <td>551.400000</td>\n",
              "      <td>0.506950</td>\n",
              "      <td>245.994450</td>\n",
              "      <td>1.100000</td>\n",
              "      <td>2.082916</td>\n",
              "      <td>0.010000</td>\n",
              "      <td>0.00300</td>\n",
              "      <td>0.005000</td>\n",
              "      <td>0.000500</td>\n",
              "      <td>0.005000</td>\n",
              "      <td>0.001500</td>\n",
              "      <td>0.046900</td>\n",
              "    </tr>\n",
              "    <tr>\n",
              "      <th>75%</th>\n",
              "      <td>-98.971268</td>\n",
              "      <td>25.508770</td>\n",
              "      <td>2020.0</td>\n",
              "      <td>292.930000</td>\n",
              "      <td>1328.000000</td>\n",
              "      <td>915.600000</td>\n",
              "      <td>1.142400</td>\n",
              "      <td>455.617200</td>\n",
              "      <td>10.750000</td>\n",
              "      <td>5.190385</td>\n",
              "      <td>0.010000</td>\n",
              "      <td>0.00300</td>\n",
              "      <td>0.005000</td>\n",
              "      <td>0.000500</td>\n",
              "      <td>0.005000</td>\n",
              "      <td>0.009830</td>\n",
              "      <td>0.172275</td>\n",
              "    </tr>\n",
              "    <tr>\n",
              "      <th>max</th>\n",
              "      <td>-86.864120</td>\n",
              "      <td>32.677713</td>\n",
              "      <td>2020.0</td>\n",
              "      <td>1650.000000</td>\n",
              "      <td>18577.000000</td>\n",
              "      <td>82170.000000</td>\n",
              "      <td>34.803300</td>\n",
              "      <td>3810.692200</td>\n",
              "      <td>24196.000000</td>\n",
              "      <td>121.007813</td>\n",
              "      <td>0.452200</td>\n",
              "      <td>0.03211</td>\n",
              "      <td>5.003200</td>\n",
              "      <td>0.014150</td>\n",
              "      <td>0.080900</td>\n",
              "      <td>8.982000</td>\n",
              "      <td>178.615000</td>\n",
              "    </tr>\n",
              "  </tbody>\n",
              "</table>\n",
              "</div>\n",
              "      <button class=\"colab-df-convert\" onclick=\"convertToInteractive('df-16ae88b7-4881-4245-b1d6-294945f8d840')\"\n",
              "              title=\"Convert this dataframe to an interactive table.\"\n",
              "              style=\"display:none;\">\n",
              "        \n",
              "  <svg xmlns=\"http://www.w3.org/2000/svg\" height=\"24px\"viewBox=\"0 0 24 24\"\n",
              "       width=\"24px\">\n",
              "    <path d=\"M0 0h24v24H0V0z\" fill=\"none\"/>\n",
              "    <path d=\"M18.56 5.44l.94 2.06.94-2.06 2.06-.94-2.06-.94-.94-2.06-.94 2.06-2.06.94zm-11 1L8.5 8.5l.94-2.06 2.06-.94-2.06-.94L8.5 2.5l-.94 2.06-2.06.94zm10 10l.94 2.06.94-2.06 2.06-.94-2.06-.94-.94-2.06-.94 2.06-2.06.94z\"/><path d=\"M17.41 7.96l-1.37-1.37c-.4-.4-.92-.59-1.43-.59-.52 0-1.04.2-1.43.59L10.3 9.45l-7.72 7.72c-.78.78-.78 2.05 0 2.83L4 21.41c.39.39.9.59 1.41.59.51 0 1.02-.2 1.41-.59l7.78-7.78 2.81-2.81c.8-.78.8-2.07 0-2.86zM5.41 20L4 18.59l7.72-7.72 1.47 1.35L5.41 20z\"/>\n",
              "  </svg>\n",
              "      </button>\n",
              "      \n",
              "  <style>\n",
              "    .colab-df-container {\n",
              "      display:flex;\n",
              "      flex-wrap:wrap;\n",
              "      gap: 12px;\n",
              "    }\n",
              "\n",
              "    .colab-df-convert {\n",
              "      background-color: #E8F0FE;\n",
              "      border: none;\n",
              "      border-radius: 50%;\n",
              "      cursor: pointer;\n",
              "      display: none;\n",
              "      fill: #1967D2;\n",
              "      height: 32px;\n",
              "      padding: 0 0 0 0;\n",
              "      width: 32px;\n",
              "    }\n",
              "\n",
              "    .colab-df-convert:hover {\n",
              "      background-color: #E2EBFA;\n",
              "      box-shadow: 0px 1px 2px rgba(60, 64, 67, 0.3), 0px 1px 3px 1px rgba(60, 64, 67, 0.15);\n",
              "      fill: #174EA6;\n",
              "    }\n",
              "\n",
              "    [theme=dark] .colab-df-convert {\n",
              "      background-color: #3B4455;\n",
              "      fill: #D2E3FC;\n",
              "    }\n",
              "\n",
              "    [theme=dark] .colab-df-convert:hover {\n",
              "      background-color: #434B5C;\n",
              "      box-shadow: 0px 1px 3px 1px rgba(0, 0, 0, 0.15);\n",
              "      filter: drop-shadow(0px 1px 2px rgba(0, 0, 0, 0.3));\n",
              "      fill: #FFFFFF;\n",
              "    }\n",
              "  </style>\n",
              "\n",
              "      <script>\n",
              "        const buttonEl =\n",
              "          document.querySelector('#df-16ae88b7-4881-4245-b1d6-294945f8d840 button.colab-df-convert');\n",
              "        buttonEl.style.display =\n",
              "          google.colab.kernel.accessAllowed ? 'block' : 'none';\n",
              "\n",
              "        async function convertToInteractive(key) {\n",
              "          const element = document.querySelector('#df-16ae88b7-4881-4245-b1d6-294945f8d840');\n",
              "          const dataTable =\n",
              "            await google.colab.kernel.invokeFunction('convertToInteractive',\n",
              "                                                     [key], {});\n",
              "          if (!dataTable) return;\n",
              "\n",
              "          const docLinkHtml = 'Like what you see? Visit the ' +\n",
              "            '<a target=\"_blank\" href=https://colab.research.google.com/notebooks/data_table.ipynb>data table notebook</a>'\n",
              "            + ' to learn more about interactive tables.';\n",
              "          element.innerHTML = '';\n",
              "          dataTable['output_type'] = 'display_data';\n",
              "          await google.colab.output.renderOutput(dataTable, element);\n",
              "          const docLink = document.createElement('div');\n",
              "          docLink.innerHTML = docLinkHtml;\n",
              "          element.appendChild(docLink);\n",
              "        }\n",
              "      </script>\n",
              "    </div>\n",
              "  </div>\n",
              "  "
            ]
          },
          "metadata": {},
          "execution_count": 148
        }
      ]
    },
    {
      "cell_type": "code",
      "source": [
        "#Dejemos fuera las variables de \"LONGITUD\", \"LATITUD\" y \"PERIODO\" para seguir explorando nuestros datos\n",
        "df_explore = Clean_df[[\"ALC_mg/L\",\"CONDUCT_mS/cm\",\"SDT_M_mg/L\",\"FLUORUROS_mg/L\",\"DUR_mg/L\",\"COLI_FEC_NMP/100_mL\",\"N_NO3_mg/L\",\"AS_TOT_mg/L\",\"CD_TOT_mg/L\",\"CR_TOT_mg/L\",\"HG_TOT_mg/L\",\n",
        "                 \"PB_TOT_mg/L\",\"MN_TOT_mg/L\",\"FE_TOT_mg/L\"]].copy()\n"
      ],
      "metadata": {
        "id": "dHErccoiVWY7"
      },
      "execution_count": 149,
      "outputs": []
    },
    {
      "cell_type": "code",
      "source": [
        "#Media de nuestros datos númericos\n",
        "df_explore.mean()"
      ],
      "metadata": {
        "colab": {
          "base_uri": "https://localhost:8080/"
        },
        "id": "EyHpjZ9JV-DR",
        "outputId": "89bc640e-de6b-4e0b-fb8c-0f85f9f6eee8"
      },
      "execution_count": 150,
      "outputs": [
        {
          "output_type": "execute_result",
          "data": {
            "text/plain": [
              "ALC_mg/L                234.695266\n",
              "CONDUCT_mS/cm          1142.726471\n",
              "SDT_M_mg/L              896.945797\n",
              "FLUORUROS_mg/L            1.078547\n",
              "DUR_mg/L                349.893584\n",
              "COLI_FEC_NMP/100_mL     359.734156\n",
              "N_NO3_mg/L                4.321651\n",
              "AS_TOT_mg/L               0.019504\n",
              "CD_TOT_mg/L               0.003030\n",
              "CR_TOT_mg/L               0.013353\n",
              "HG_TOT_mg/L               0.000557\n",
              "PB_TOT_mg/L               0.005285\n",
              "MN_TOT_mg/L               0.072960\n",
              "FE_TOT_mg/L               0.412234\n",
              "dtype: float64"
            ]
          },
          "metadata": {},
          "execution_count": 150
        }
      ]
    },
    {
      "cell_type": "code",
      "source": [
        "#Valores maximos de nuestros datos númericos\n",
        "df_explore.max()"
      ],
      "metadata": {
        "colab": {
          "base_uri": "https://localhost:8080/"
        },
        "id": "F5g58r5eYGHS",
        "outputId": "ce797424-3d4f-4bdc-aa24-b94dad22279a"
      },
      "execution_count": 151,
      "outputs": [
        {
          "output_type": "execute_result",
          "data": {
            "text/plain": [
              "ALC_mg/L                1650.000000\n",
              "CONDUCT_mS/cm          18577.000000\n",
              "SDT_M_mg/L             82170.000000\n",
              "FLUORUROS_mg/L            34.803300\n",
              "DUR_mg/L                3810.692200\n",
              "COLI_FEC_NMP/100_mL    24196.000000\n",
              "N_NO3_mg/L               121.007813\n",
              "AS_TOT_mg/L                0.452200\n",
              "CD_TOT_mg/L                0.032110\n",
              "CR_TOT_mg/L                5.003200\n",
              "HG_TOT_mg/L                0.014150\n",
              "PB_TOT_mg/L                0.080900\n",
              "MN_TOT_mg/L                8.982000\n",
              "FE_TOT_mg/L              178.615000\n",
              "dtype: float64"
            ]
          },
          "metadata": {},
          "execution_count": 151
        }
      ]
    },
    {
      "cell_type": "code",
      "source": [
        "#Valores minimos de nuestros datos númericos\n",
        "df_explore.min()"
      ],
      "metadata": {
        "colab": {
          "base_uri": "https://localhost:8080/"
        },
        "id": "4Yr2IP5UYQlB",
        "outputId": "ecea2195-57ad-49a6-c458-1e3dd42475b7"
      },
      "execution_count": 153,
      "outputs": [
        {
          "output_type": "execute_result",
          "data": {
            "text/plain": [
              "ALC_mg/L                26.6400\n",
              "CONDUCT_mS/cm          110.0000\n",
              "SDT_M_mg/L             101.2000\n",
              "FLUORUROS_mg/L           0.2000\n",
              "DUR_mg/L                20.0000\n",
              "COLI_FEC_NMP/100_mL      1.1000\n",
              "N_NO3_mg/L               0.0200\n",
              "AS_TOT_mg/L              0.0100\n",
              "CD_TOT_mg/L              0.0030\n",
              "CR_TOT_mg/L              0.0050\n",
              "HG_TOT_mg/L              0.0005\n",
              "PB_TOT_mg/L              0.0050\n",
              "MN_TOT_mg/L              0.0015\n",
              "FE_TOT_mg/L              0.0250\n",
              "dtype: float64"
            ]
          },
          "metadata": {},
          "execution_count": 153
        }
      ]
    },
    {
      "cell_type": "code",
      "source": [
        "#Explemos nuestros datos a traves de Boxplot\n",
        "b_plot = df_explore.boxplot(column = [\"ALC_mg/L\",\"CONDUCT_mS/cm\",\"SDT_M_mg/L\",]) \n",
        "b_plot.plot()\n",
        "#plot.show()"
      ],
      "metadata": {
        "colab": {
          "base_uri": "https://localhost:8080/",
          "height": 283
        },
        "id": "BI2lMjt2Z2VC",
        "outputId": "2a72b738-880b-49e8-eae2-afc33883043e"
      },
      "execution_count": 170,
      "outputs": [
        {
          "output_type": "execute_result",
          "data": {
            "text/plain": [
              "[]"
            ]
          },
          "metadata": {},
          "execution_count": 170
        },
        {
          "output_type": "display_data",
          "data": {
            "text/plain": [
              "<Figure size 432x288 with 1 Axes>"
            ],
            "image/png": "[encoded data removed]"
          },
          "metadata": {
            "needs_background": "light"
          }
        }
      ]
    },
    {
      "cell_type": "code",
      "source": [
        "boxplot = df_explore.boxplot(column=[\"DUR_mg/L\",\"COLI_FEC_NMP/100_mL\",\"N_NO3_mg/L\",\"AS_TOT_mg/L\"])  "
      ],
      "metadata": {
        "colab": {
          "base_uri": "https://localhost:8080/",
          "height": 267
        },
        "id": "XS2j05206_F8",
        "outputId": "3ed142cf-22f0-4d5c-82e6-67327d14326d"
      },
      "execution_count": 171,
      "outputs": [
        {
          "output_type": "display_data",
          "data": {
            "text/plain": [
              "<Figure size 432x288 with 1 Axes>"
            ],
            "image/png": "[encoded data removed]"
          },
          "metadata": {
            "needs_background": "light"
          }
        }
      ]
    },
    {
      "cell_type": "code",
      "source": [
        "boxplot = df_explore.boxplot(column=[\"CD_TOT_mg/L\",\"CR_TOT_mg/L\",\"HG_TOT_mg/L\",\"PB_TOT_mg/L\"])  "
      ],
      "metadata": {
        "colab": {
          "base_uri": "https://localhost:8080/",
          "height": 266
        },
        "id": "lpTRjjdyhLBc",
        "outputId": "f42357b7-ed77-4b56-e973-b72e35fdf7ad"
      },
      "execution_count": 172,
      "outputs": [
        {
          "output_type": "display_data",
          "data": {
            "text/plain": [
              "<Figure size 432x288 with 1 Axes>"
            ],
            "image/png": "[encoded data removed]"
          },
          "metadata": {
            "needs_background": "light"
          }
        }
      ]
    },
    {
      "cell_type": "code",
      "source": [
        "boxplot = df_explore.boxplot(column=[\"MN_TOT_mg/L\",\"FE_TOT_mg/L\"])"
      ],
      "metadata": {
        "colab": {
          "base_uri": "https://localhost:8080/",
          "height": 266
        },
        "id": "CY4tn7M-hgwq",
        "outputId": "b48e1dd3-2b66-4c62-a50c-4f7ebb7d9e16"
      },
      "execution_count": 174,
      "outputs": [
        {
          "output_type": "display_data",
          "data": {
            "text/plain": [
              "<Figure size 432x288 with 1 Axes>"
            ],
            "image/png": "[encoded data removed]"
          },
          "metadata": {
            "needs_background": "light"
          }
        }
      ]
    },
    {
      "cell_type": "code",
      "source": [
        "ax1 = df_explore.plot(kind='scatter', x='ALC_mg/L', y='CONDUCT_mS/cm', color='r')    \n",
        "#ax2 = df_explore.plot(kind='scatter', x='SDT_M_mg/L', y='FLUORUROS_mg/L', color='g', ax=ax1)    \n",
        "#ax3 = df.plot(kind='scatter', x='e', y='f', color='b', ax=ax1)\n",
        "\n",
        "print(ax1)  # True"
      ],
      "metadata": {
        "colab": {
          "base_uri": "https://localhost:8080/",
          "height": 297
        },
        "id": "H3AB3HQP_F_B",
        "outputId": "6f8260de-207e-4017-fd80-9c728fe2cc28"
      },
      "execution_count": 176,
      "outputs": [
        {
          "output_type": "stream",
          "name": "stdout",
          "text": [
            "AxesSubplot(0.125,0.125;0.775x0.755)\n"
          ]
        },
        {
          "output_type": "display_data",
          "data": {
            "text/plain": [
              "<Figure size 432x288 with 1 Axes>"
            ],
            "image/png": "[encoded data removed]"
          },
          "metadata": {
            "needs_background": "light"
          }
        }
      ]
    },
    {
      "cell_type": "code",
      "source": [
        "pd.plotting.scatter_matrix(df_explore.iloc[:, 0:5],figsize = (10,10))"
      ],
      "metadata": {
        "colab": {
          "base_uri": "https://localhost:8080/",
          "height": 1000
        },
        "id": "YNDhQR34CD8D",
        "outputId": "29d67e33-5fe5-4503-f14e-11ba0158aa36"
      },
      "execution_count": 42,
      "outputs": [
        {
          "output_type": "execute_result",
          "data": {
            "text/plain": [
              "array([[<matplotlib.axes._subplots.AxesSubplot object at 0x7f1410cda450>,\n",
              "        <matplotlib.axes._subplots.AxesSubplot object at 0x7f1410cedbd0>,\n",
              "        <matplotlib.axes._subplots.AxesSubplot object at 0x7f141294d1d0>,\n",
              "        <matplotlib.axes._subplots.AxesSubplot object at 0x7f14128f87d0>,\n",
              "        <matplotlib.axes._subplots.AxesSubplot object at 0x7f141287cdd0>],\n",
              "       [<matplotlib.axes._subplots.AxesSubplot object at 0x7f14128d6410>,\n",
              "        <matplotlib.axes._subplots.AxesSubplot object at 0x7f1410c91a90>,\n",
              "        <matplotlib.axes._subplots.AxesSubplot object at 0x7f1410c46fd0>,\n",
              "        <matplotlib.axes._subplots.AxesSubplot object at 0x7f1410c52090>,\n",
              "        <matplotlib.axes._subplots.AxesSubplot object at 0x7f1410c05750>],\n",
              "       [<matplotlib.axes._subplots.AxesSubplot object at 0x7f1410b7a290>,\n",
              "        <matplotlib.axes._subplots.AxesSubplot object at 0x7f1410bb1890>,\n",
              "        <matplotlib.axes._subplots.AxesSubplot object at 0x7f1410b68e90>,\n",
              "        <matplotlib.axes._subplots.AxesSubplot object at 0x7f1410b2d4d0>,\n",
              "        <matplotlib.axes._subplots.AxesSubplot object at 0x7f1410ae4ad0>],\n",
              "       [<matplotlib.axes._subplots.AxesSubplot object at 0x7f1410aa8110>,\n",
              "        <matplotlib.axes._subplots.AxesSubplot object at 0x7f1410a5e710>,\n",
              "        <matplotlib.axes._subplots.AxesSubplot object at 0x7f1410a14d10>,\n",
              "        <matplotlib.axes._subplots.AxesSubplot object at 0x7f14109d9350>,\n",
              "        <matplotlib.axes._subplots.AxesSubplot object at 0x7f141097fb90>],\n",
              "       [<matplotlib.axes._subplots.AxesSubplot object at 0x7f141094e590>,\n",
              "        <matplotlib.axes._subplots.AxesSubplot object at 0x7f1410903a90>,\n",
              "        <matplotlib.axes._subplots.AxesSubplot object at 0x7f14108bbf90>,\n",
              "        <matplotlib.axes._subplots.AxesSubplot object at 0x7f141087d4d0>,\n",
              "        <matplotlib.axes._subplots.AxesSubplot object at 0x7f14108b49d0>]],\n",
              "      dtype=object)"
            ]
          },
          "metadata": {},
          "execution_count": 42
        },
        {
          "output_type": "display_data",
          "data": {
            "text/plain": [
              "<Figure size 720x720 with 25 Axes>"
            ],
            "image/png": "[encoded data removed]"
          },
          "metadata": {
            "needs_background": "light"
          }
        }
      ]
    },
    {
      "cell_type": "code",
      "source": [
        "sns.pairplot(df_explore)"
      ],
      "metadata": {
        "colab": {
          "base_uri": "https://localhost:8080/",
          "height": 467
        },
        "id": "vEAIJK7jKyTO",
        "outputId": "d1ff7276-4e4c-4978-8613-9b8b6bcb5a98"
      },
      "execution_count": 43,
      "outputs": [
        {
          "output_type": "execute_result",
          "data": {
            "text/plain": [
              "<seaborn.axisgrid.PairGrid at 0x7f14108125d0>"
            ]
          },
          "metadata": {},
          "execution_count": 43
        },
        {
          "output_type": "stream",
          "name": "stdout",
          "text": [
            "Error in callback <function flush_figures at 0x7f142c577050> (for post_execute):\n"
          ]
        },
        {
          "output_type": "error",
          "ename": "KeyboardInterrupt",
          "evalue": "ignored",
          "traceback": [
            "\u001b[0;31m---------------------------------------------------------------------------\u001b[0m",
            "\u001b[0;31mKeyboardInterrupt\u001b[0m                         Traceback (most recent call last)",
            "\u001b[0;32m/usr/local/lib/python3.7/dist-packages/ipykernel/pylab/backend_inline.py\u001b[0m in \u001b[0;36mflush_figures\u001b[0;34m()\u001b[0m\n\u001b[1;32m    119\u001b[0m         \u001b[0;31m# ignore the tracking, just draw and close all figures\u001b[0m\u001b[0;34m\u001b[0m\u001b[0;34m\u001b[0m\u001b[0;34m\u001b[0m\u001b[0m\n\u001b[1;32m    120\u001b[0m         \u001b[0;32mtry\u001b[0m\u001b[0;34m:\u001b[0m\u001b[0;34m\u001b[0m\u001b[0;34m\u001b[0m\u001b[0m\n\u001b[0;32m--> 121\u001b[0;31m             \u001b[0;32mreturn\u001b[0m \u001b[0mshow\u001b[0m\u001b[0;34m(\u001b[0m\u001b[0;32mTrue\u001b[0m\u001b[0;34m)\u001b[0m\u001b[0;34m\u001b[0m\u001b[0;34m\u001b[0m\u001b[0m\n\u001b[0m\u001b[1;32m    122\u001b[0m         \u001b[0;32mexcept\u001b[0m \u001b[0mException\u001b[0m \u001b[0;32mas\u001b[0m \u001b[0me\u001b[0m\u001b[0;34m:\u001b[0m\u001b[0;34m\u001b[0m\u001b[0;34m\u001b[0m\u001b[0m\n\u001b[1;32m    123\u001b[0m             \u001b[0;31m# safely show traceback if in IPython, else raise\u001b[0m\u001b[0;34m\u001b[0m\u001b[0;34m\u001b[0m\u001b[0;34m\u001b[0m\u001b[0m\n",
            "\u001b[0;32m/usr/local/lib/python3.7/dist-packages/ipykernel/pylab/backend_inline.py\u001b[0m in \u001b[0;36mshow\u001b[0;34m(close, block)\u001b[0m\n\u001b[1;32m     41\u001b[0m             display(\n\u001b[1;32m     42\u001b[0m                 \u001b[0mfigure_manager\u001b[0m\u001b[0;34m.\u001b[0m\u001b[0mcanvas\u001b[0m\u001b[0;34m.\u001b[0m\u001b[0mfigure\u001b[0m\u001b[0;34m,\u001b[0m\u001b[0;34m\u001b[0m\u001b[0;34m\u001b[0m\u001b[0m\n\u001b[0;32m---> 43\u001b[0;31m                 \u001b[0mmetadata\u001b[0m\u001b[0;34m=\u001b[0m\u001b[0m_fetch_figure_metadata\u001b[0m\u001b[0;34m(\u001b[0m\u001b[0mfigure_manager\u001b[0m\u001b[0;34m.\u001b[0m\u001b[0mcanvas\u001b[0m\u001b[0;34m.\u001b[0m\u001b[0mfigure\u001b[0m\u001b[0;34m)\u001b[0m\u001b[0;34m\u001b[0m\u001b[0;34m\u001b[0m\u001b[0m\n\u001b[0m\u001b[1;32m     44\u001b[0m             )\n\u001b[1;32m     45\u001b[0m     \u001b[0;32mfinally\u001b[0m\u001b[0;34m:\u001b[0m\u001b[0;34m\u001b[0m\u001b[0;34m\u001b[0m\u001b[0m\n",
            "\u001b[0;32m/usr/local/lib/python3.7/dist-packages/IPython/core/display.py\u001b[0m in \u001b[0;36mdisplay\u001b[0;34m(include, exclude, metadata, transient, display_id, *objs, **kwargs)\u001b[0m\n\u001b[1;32m    311\u001b[0m             \u001b[0mpublish_display_data\u001b[0m\u001b[0;34m(\u001b[0m\u001b[0mdata\u001b[0m\u001b[0;34m=\u001b[0m\u001b[0mobj\u001b[0m\u001b[0;34m,\u001b[0m \u001b[0mmetadata\u001b[0m\u001b[0;34m=\u001b[0m\u001b[0mmetadata\u001b[0m\u001b[0;34m,\u001b[0m \u001b[0;34m**\u001b[0m\u001b[0mkwargs\u001b[0m\u001b[0;34m)\u001b[0m\u001b[0;34m\u001b[0m\u001b[0;34m\u001b[0m\u001b[0m\n\u001b[1;32m    312\u001b[0m         \u001b[0;32melse\u001b[0m\u001b[0;34m:\u001b[0m\u001b[0;34m\u001b[0m\u001b[0;34m\u001b[0m\u001b[0m\n\u001b[0;32m--> 313\u001b[0;31m             \u001b[0mformat_dict\u001b[0m\u001b[0;34m,\u001b[0m \u001b[0mmd_dict\u001b[0m \u001b[0;34m=\u001b[0m \u001b[0mformat\u001b[0m\u001b[0;34m(\u001b[0m\u001b[0mobj\u001b[0m\u001b[0;34m,\u001b[0m \u001b[0minclude\u001b[0m\u001b[0;34m=\u001b[0m\u001b[0minclude\u001b[0m\u001b[0;34m,\u001b[0m \u001b[0mexclude\u001b[0m\u001b[0;34m=\u001b[0m\u001b[0mexclude\u001b[0m\u001b[0;34m)\u001b[0m\u001b[0;34m\u001b[0m\u001b[0;34m\u001b[0m\u001b[0m\n\u001b[0m\u001b[1;32m    314\u001b[0m             \u001b[0;32mif\u001b[0m \u001b[0;32mnot\u001b[0m \u001b[0mformat_dict\u001b[0m\u001b[0;34m:\u001b[0m\u001b[0;34m\u001b[0m\u001b[0;34m\u001b[0m\u001b[0m\n\u001b[1;32m    315\u001b[0m                 \u001b[0;31m# nothing to display (e.g. _ipython_display_ took over)\u001b[0m\u001b[0;34m\u001b[0m\u001b[0;34m\u001b[0m\u001b[0;34m\u001b[0m\u001b[0m\n",
            "\u001b[0;32m/usr/local/lib/python3.7/dist-packages/IPython/core/formatters.py\u001b[0m in \u001b[0;36mformat\u001b[0;34m(self, obj, include, exclude)\u001b[0m\n\u001b[1;32m    178\u001b[0m             \u001b[0mmd\u001b[0m \u001b[0;34m=\u001b[0m \u001b[0;32mNone\u001b[0m\u001b[0;34m\u001b[0m\u001b[0;34m\u001b[0m\u001b[0m\n\u001b[1;32m    179\u001b[0m             \u001b[0;32mtry\u001b[0m\u001b[0;34m:\u001b[0m\u001b[0;34m\u001b[0m\u001b[0;34m\u001b[0m\u001b[0m\n\u001b[0;32m--> 180\u001b[0;31m                 \u001b[0mdata\u001b[0m \u001b[0;34m=\u001b[0m \u001b[0mformatter\u001b[0m\u001b[0;34m(\u001b[0m\u001b[0mobj\u001b[0m\u001b[0;34m)\u001b[0m\u001b[0;34m\u001b[0m\u001b[0;34m\u001b[0m\u001b[0m\n\u001b[0m\u001b[1;32m    181\u001b[0m             \u001b[0;32mexcept\u001b[0m\u001b[0;34m:\u001b[0m\u001b[0;34m\u001b[0m\u001b[0;34m\u001b[0m\u001b[0m\n\u001b[1;32m    182\u001b[0m                 \u001b[0;31m# FIXME: log the exception\u001b[0m\u001b[0;34m\u001b[0m\u001b[0;34m\u001b[0m\u001b[0;34m\u001b[0m\u001b[0m\n",
            "\u001b[0;32m<decorator-gen-2>\u001b[0m in \u001b[0;36m__call__\u001b[0;34m(self, obj)\u001b[0m\n",
            "\u001b[0;32m/usr/local/lib/python3.7/dist-packages/IPython/core/formatters.py\u001b[0m in \u001b[0;36mcatch_format_error\u001b[0;34m(method, self, *args, **kwargs)\u001b[0m\n\u001b[1;32m    222\u001b[0m     \u001b[0;34m\"\"\"show traceback on failed format call\"\"\"\u001b[0m\u001b[0;34m\u001b[0m\u001b[0;34m\u001b[0m\u001b[0m\n\u001b[1;32m    223\u001b[0m     \u001b[0;32mtry\u001b[0m\u001b[0;34m:\u001b[0m\u001b[0;34m\u001b[0m\u001b[0;34m\u001b[0m\u001b[0m\n\u001b[0;32m--> 224\u001b[0;31m         \u001b[0mr\u001b[0m \u001b[0;34m=\u001b[0m \u001b[0mmethod\u001b[0m\u001b[0;34m(\u001b[0m\u001b[0mself\u001b[0m\u001b[0;34m,\u001b[0m \u001b[0;34m*\u001b[0m\u001b[0margs\u001b[0m\u001b[0;34m,\u001b[0m \u001b[0;34m**\u001b[0m\u001b[0mkwargs\u001b[0m\u001b[0;34m)\u001b[0m\u001b[0;34m\u001b[0m\u001b[0;34m\u001b[0m\u001b[0m\n\u001b[0m\u001b[1;32m    225\u001b[0m     \u001b[0;32mexcept\u001b[0m \u001b[0mNotImplementedError\u001b[0m\u001b[0;34m:\u001b[0m\u001b[0;34m\u001b[0m\u001b[0;34m\u001b[0m\u001b[0m\n\u001b[1;32m    226\u001b[0m         \u001b[0;31m# don't warn on NotImplementedErrors\u001b[0m\u001b[0;34m\u001b[0m\u001b[0;34m\u001b[0m\u001b[0;34m\u001b[0m\u001b[0m\n",
            "\u001b[0;32m/usr/local/lib/python3.7/dist-packages/IPython/core/formatters.py\u001b[0m in \u001b[0;36m__call__\u001b[0;34m(self, obj)\u001b[0m\n\u001b[1;32m    339\u001b[0m                 \u001b[0;32mpass\u001b[0m\u001b[0;34m\u001b[0m\u001b[0;34m\u001b[0m\u001b[0m\n\u001b[1;32m    340\u001b[0m             \u001b[0;32melse\u001b[0m\u001b[0;34m:\u001b[0m\u001b[0;34m\u001b[0m\u001b[0;34m\u001b[0m\u001b[0m\n\u001b[0;32m--> 341\u001b[0;31m                 \u001b[0;32mreturn\u001b[0m \u001b[0mprinter\u001b[0m\u001b[0;34m(\u001b[0m\u001b[0mobj\u001b[0m\u001b[0;34m)\u001b[0m\u001b[0;34m\u001b[0m\u001b[0;34m\u001b[0m\u001b[0m\n\u001b[0m\u001b[1;32m    342\u001b[0m             \u001b[0;31m# Finally look for special method names\u001b[0m\u001b[0;34m\u001b[0m\u001b[0;34m\u001b[0m\u001b[0;34m\u001b[0m\u001b[0m\n\u001b[1;32m    343\u001b[0m             \u001b[0mmethod\u001b[0m \u001b[0;34m=\u001b[0m \u001b[0mget_real_method\u001b[0m\u001b[0;34m(\u001b[0m\u001b[0mobj\u001b[0m\u001b[0;34m,\u001b[0m \u001b[0mself\u001b[0m\u001b[0;34m.\u001b[0m\u001b[0mprint_method\u001b[0m\u001b[0;34m)\u001b[0m\u001b[0;34m\u001b[0m\u001b[0;34m\u001b[0m\u001b[0m\n",
            "\u001b[0;32m/usr/local/lib/python3.7/dist-packages/IPython/core/pylabtools.py\u001b[0m in \u001b[0;36m<lambda>\u001b[0;34m(fig)\u001b[0m\n\u001b[1;32m    242\u001b[0m \u001b[0;34m\u001b[0m\u001b[0m\n\u001b[1;32m    243\u001b[0m     \u001b[0;32mif\u001b[0m \u001b[0;34m'png'\u001b[0m \u001b[0;32min\u001b[0m \u001b[0mformats\u001b[0m\u001b[0;34m:\u001b[0m\u001b[0;34m\u001b[0m\u001b[0;34m\u001b[0m\u001b[0m\n\u001b[0;32m--> 244\u001b[0;31m         \u001b[0mpng_formatter\u001b[0m\u001b[0;34m.\u001b[0m\u001b[0mfor_type\u001b[0m\u001b[0;34m(\u001b[0m\u001b[0mFigure\u001b[0m\u001b[0;34m,\u001b[0m \u001b[0;32mlambda\u001b[0m \u001b[0mfig\u001b[0m\u001b[0;34m:\u001b[0m \u001b[0mprint_figure\u001b[0m\u001b[0;34m(\u001b[0m\u001b[0mfig\u001b[0m\u001b[0;34m,\u001b[0m \u001b[0;34m'png'\u001b[0m\u001b[0;34m,\u001b[0m \u001b[0;34m**\u001b[0m\u001b[0mkwargs\u001b[0m\u001b[0;34m)\u001b[0m\u001b[0;34m)\u001b[0m\u001b[0;34m\u001b[0m\u001b[0;34m\u001b[0m\u001b[0m\n\u001b[0m\u001b[1;32m    245\u001b[0m     \u001b[0;32mif\u001b[0m \u001b[0;34m'retina'\u001b[0m \u001b[0;32min\u001b[0m \u001b[0mformats\u001b[0m \u001b[0;32mor\u001b[0m \u001b[0;34m'png2x'\u001b[0m \u001b[0;32min\u001b[0m \u001b[0mformats\u001b[0m\u001b[0;34m:\u001b[0m\u001b[0;34m\u001b[0m\u001b[0;34m\u001b[0m\u001b[0m\n\u001b[1;32m    246\u001b[0m         \u001b[0mpng_formatter\u001b[0m\u001b[0;34m.\u001b[0m\u001b[0mfor_type\u001b[0m\u001b[0;34m(\u001b[0m\u001b[0mFigure\u001b[0m\u001b[0;34m,\u001b[0m \u001b[0;32mlambda\u001b[0m \u001b[0mfig\u001b[0m\u001b[0;34m:\u001b[0m \u001b[0mretina_figure\u001b[0m\u001b[0;34m(\u001b[0m\u001b[0mfig\u001b[0m\u001b[0;34m,\u001b[0m \u001b[0;34m**\u001b[0m\u001b[0mkwargs\u001b[0m\u001b[0;34m)\u001b[0m\u001b[0;34m)\u001b[0m\u001b[0;34m\u001b[0m\u001b[0;34m\u001b[0m\u001b[0m\n",
            "\u001b[0;32m/usr/local/lib/python3.7/dist-packages/IPython/core/pylabtools.py\u001b[0m in \u001b[0;36mprint_figure\u001b[0;34m(fig, fmt, bbox_inches, **kwargs)\u001b[0m\n\u001b[1;32m    126\u001b[0m \u001b[0;34m\u001b[0m\u001b[0m\n\u001b[1;32m    127\u001b[0m     \u001b[0mbytes_io\u001b[0m \u001b[0;34m=\u001b[0m \u001b[0mBytesIO\u001b[0m\u001b[0;34m(\u001b[0m\u001b[0;34m)\u001b[0m\u001b[0;34m\u001b[0m\u001b[0;34m\u001b[0m\u001b[0m\n\u001b[0;32m--> 128\u001b[0;31m     \u001b[0mfig\u001b[0m\u001b[0;34m.\u001b[0m\u001b[0mcanvas\u001b[0m\u001b[0;34m.\u001b[0m\u001b[0mprint_figure\u001b[0m\u001b[0;34m(\u001b[0m\u001b[0mbytes_io\u001b[0m\u001b[0;34m,\u001b[0m \u001b[0;34m**\u001b[0m\u001b[0mkw\u001b[0m\u001b[0;34m)\u001b[0m\u001b[0;34m\u001b[0m\u001b[0;34m\u001b[0m\u001b[0m\n\u001b[0m\u001b[1;32m    129\u001b[0m     \u001b[0mdata\u001b[0m \u001b[0;34m=\u001b[0m \u001b[0mbytes_io\u001b[0m\u001b[0;34m.\u001b[0m\u001b[0mgetvalue\u001b[0m\u001b[0;34m(\u001b[0m\u001b[0;34m)\u001b[0m\u001b[0;34m\u001b[0m\u001b[0;34m\u001b[0m\u001b[0m\n\u001b[1;32m    130\u001b[0m     \u001b[0;32mif\u001b[0m \u001b[0mfmt\u001b[0m \u001b[0;34m==\u001b[0m \u001b[0;34m'svg'\u001b[0m\u001b[0;34m:\u001b[0m\u001b[0;34m\u001b[0m\u001b[0;34m\u001b[0m\u001b[0m\n",
            "\u001b[0;32m/usr/local/lib/python3.7/dist-packages/matplotlib/backend_bases.py\u001b[0m in \u001b[0;36mprint_figure\u001b[0;34m(self, filename, dpi, facecolor, edgecolor, orientation, format, bbox_inches, **kwargs)\u001b[0m\n\u001b[1;32m   2101\u001b[0m                     \u001b[0mbbox_artists\u001b[0m \u001b[0;34m=\u001b[0m \u001b[0mkwargs\u001b[0m\u001b[0;34m.\u001b[0m\u001b[0mpop\u001b[0m\u001b[0;34m(\u001b[0m\u001b[0;34m\"bbox_extra_artists\"\u001b[0m\u001b[0;34m,\u001b[0m \u001b[0;32mNone\u001b[0m\u001b[0;34m)\u001b[0m\u001b[0;34m\u001b[0m\u001b[0;34m\u001b[0m\u001b[0m\n\u001b[1;32m   2102\u001b[0m                     bbox_inches = self.figure.get_tightbbox(renderer,\n\u001b[0;32m-> 2103\u001b[0;31m                             bbox_extra_artists=bbox_artists)\n\u001b[0m\u001b[1;32m   2104\u001b[0m                     \u001b[0mpad\u001b[0m \u001b[0;34m=\u001b[0m \u001b[0mkwargs\u001b[0m\u001b[0;34m.\u001b[0m\u001b[0mpop\u001b[0m\u001b[0;34m(\u001b[0m\u001b[0;34m\"pad_inches\"\u001b[0m\u001b[0;34m,\u001b[0m \u001b[0;32mNone\u001b[0m\u001b[0;34m)\u001b[0m\u001b[0;34m\u001b[0m\u001b[0;34m\u001b[0m\u001b[0m\n\u001b[1;32m   2105\u001b[0m                     \u001b[0;32mif\u001b[0m \u001b[0mpad\u001b[0m \u001b[0;32mis\u001b[0m \u001b[0;32mNone\u001b[0m\u001b[0;34m:\u001b[0m\u001b[0;34m\u001b[0m\u001b[0;34m\u001b[0m\u001b[0m\n",
            "\u001b[0;32m/usr/local/lib/python3.7/dist-packages/matplotlib/figure.py\u001b[0m in \u001b[0;36mget_tightbbox\u001b[0;34m(self, renderer, bbox_extra_artists)\u001b[0m\n\u001b[1;32m   2393\u001b[0m                 \u001b[0;32mtry\u001b[0m\u001b[0;34m:\u001b[0m\u001b[0;34m\u001b[0m\u001b[0;34m\u001b[0m\u001b[0m\n\u001b[1;32m   2394\u001b[0m                     bbox = ax.get_tightbbox(renderer,\n\u001b[0;32m-> 2395\u001b[0;31m                             bbox_extra_artists=bbox_extra_artists)\n\u001b[0m\u001b[1;32m   2396\u001b[0m                 \u001b[0;32mexcept\u001b[0m \u001b[0mTypeError\u001b[0m\u001b[0;34m:\u001b[0m\u001b[0;34m\u001b[0m\u001b[0;34m\u001b[0m\u001b[0m\n\u001b[1;32m   2397\u001b[0m                     \u001b[0mbbox\u001b[0m \u001b[0;34m=\u001b[0m \u001b[0max\u001b[0m\u001b[0;34m.\u001b[0m\u001b[0mget_tightbbox\u001b[0m\u001b[0;34m(\u001b[0m\u001b[0mrenderer\u001b[0m\u001b[0;34m)\u001b[0m\u001b[0;34m\u001b[0m\u001b[0;34m\u001b[0m\u001b[0m\n",
            "\u001b[0;32m/usr/local/lib/python3.7/dist-packages/matplotlib/axes/_base.py\u001b[0m in \u001b[0;36mget_tightbbox\u001b[0;34m(self, renderer, call_axes_locator, bbox_extra_artists)\u001b[0m\n\u001b[1;32m   4333\u001b[0m         \u001b[0mbb\u001b[0m\u001b[0;34m.\u001b[0m\u001b[0mappend\u001b[0m\u001b[0;34m(\u001b[0m\u001b[0maxbbox\u001b[0m\u001b[0;34m)\u001b[0m\u001b[0;34m\u001b[0m\u001b[0;34m\u001b[0m\u001b[0m\n\u001b[1;32m   4334\u001b[0m \u001b[0;34m\u001b[0m\u001b[0m\n\u001b[0;32m-> 4335\u001b[0;31m         \u001b[0mself\u001b[0m\u001b[0;34m.\u001b[0m\u001b[0m_update_title_position\u001b[0m\u001b[0;34m(\u001b[0m\u001b[0mrenderer\u001b[0m\u001b[0;34m)\u001b[0m\u001b[0;34m\u001b[0m\u001b[0;34m\u001b[0m\u001b[0m\n\u001b[0m\u001b[1;32m   4336\u001b[0m         \u001b[0;32mif\u001b[0m \u001b[0mself\u001b[0m\u001b[0;34m.\u001b[0m\u001b[0mtitle\u001b[0m\u001b[0;34m.\u001b[0m\u001b[0mget_visible\u001b[0m\u001b[0;34m(\u001b[0m\u001b[0;34m)\u001b[0m\u001b[0;34m:\u001b[0m\u001b[0;34m\u001b[0m\u001b[0;34m\u001b[0m\u001b[0m\n\u001b[1;32m   4337\u001b[0m             \u001b[0mbb\u001b[0m\u001b[0;34m.\u001b[0m\u001b[0mappend\u001b[0m\u001b[0;34m(\u001b[0m\u001b[0mself\u001b[0m\u001b[0;34m.\u001b[0m\u001b[0mtitle\u001b[0m\u001b[0;34m.\u001b[0m\u001b[0mget_window_extent\u001b[0m\u001b[0;34m(\u001b[0m\u001b[0mrenderer\u001b[0m\u001b[0;34m)\u001b[0m\u001b[0;34m)\u001b[0m\u001b[0;34m\u001b[0m\u001b[0;34m\u001b[0m\u001b[0m\n",
            "\u001b[0;32m/usr/local/lib/python3.7/dist-packages/matplotlib/axes/_base.py\u001b[0m in \u001b[0;36m_update_title_position\u001b[0;34m(self, renderer)\u001b[0m\n\u001b[1;32m   2531\u001b[0m                 if (ax.xaxis.get_ticks_position() in ['top', 'unknown']\n\u001b[1;32m   2532\u001b[0m                         or ax.xaxis.get_label_position() == 'top'):\n\u001b[0;32m-> 2533\u001b[0;31m                     \u001b[0mbb\u001b[0m \u001b[0;34m=\u001b[0m \u001b[0max\u001b[0m\u001b[0;34m.\u001b[0m\u001b[0mxaxis\u001b[0m\u001b[0;34m.\u001b[0m\u001b[0mget_tightbbox\u001b[0m\u001b[0;34m(\u001b[0m\u001b[0mrenderer\u001b[0m\u001b[0;34m)\u001b[0m\u001b[0;34m\u001b[0m\u001b[0;34m\u001b[0m\u001b[0m\n\u001b[0m\u001b[1;32m   2534\u001b[0m                 \u001b[0;32melse\u001b[0m\u001b[0;34m:\u001b[0m\u001b[0;34m\u001b[0m\u001b[0;34m\u001b[0m\u001b[0m\n\u001b[1;32m   2535\u001b[0m                     \u001b[0mbb\u001b[0m \u001b[0;34m=\u001b[0m \u001b[0max\u001b[0m\u001b[0;34m.\u001b[0m\u001b[0mget_window_extent\u001b[0m\u001b[0;34m(\u001b[0m\u001b[0mrenderer\u001b[0m\u001b[0;34m)\u001b[0m\u001b[0;34m\u001b[0m\u001b[0;34m\u001b[0m\u001b[0m\n",
            "\u001b[0;32m/usr/local/lib/python3.7/dist-packages/matplotlib/axis.py\u001b[0m in \u001b[0;36mget_tightbbox\u001b[0;34m(self, renderer)\u001b[0m\n\u001b[1;32m   1186\u001b[0m         \u001b[0mticks_to_draw\u001b[0m \u001b[0;34m=\u001b[0m \u001b[0mself\u001b[0m\u001b[0;34m.\u001b[0m\u001b[0m_update_ticks\u001b[0m\u001b[0;34m(\u001b[0m\u001b[0;34m)\u001b[0m\u001b[0;34m\u001b[0m\u001b[0;34m\u001b[0m\u001b[0m\n\u001b[1;32m   1187\u001b[0m \u001b[0;34m\u001b[0m\u001b[0m\n\u001b[0;32m-> 1188\u001b[0;31m         \u001b[0mself\u001b[0m\u001b[0;34m.\u001b[0m\u001b[0m_update_label_position\u001b[0m\u001b[0;34m(\u001b[0m\u001b[0mrenderer\u001b[0m\u001b[0;34m)\u001b[0m\u001b[0;34m\u001b[0m\u001b[0;34m\u001b[0m\u001b[0m\n\u001b[0m\u001b[1;32m   1189\u001b[0m \u001b[0;34m\u001b[0m\u001b[0m\n\u001b[1;32m   1190\u001b[0m         \u001b[0;31m# go back to just this axis's tick labels\u001b[0m\u001b[0;34m\u001b[0m\u001b[0;34m\u001b[0m\u001b[0;34m\u001b[0m\u001b[0m\n",
            "\u001b[0;32m/usr/local/lib/python3.7/dist-packages/matplotlib/axis.py\u001b[0m in \u001b[0;36m_update_label_position\u001b[0;34m(self, renderer)\u001b[0m\n\u001b[1;32m   2019\u001b[0m         \u001b[0;31m# get bounding boxes for this axis and any siblings\u001b[0m\u001b[0;34m\u001b[0m\u001b[0;34m\u001b[0m\u001b[0;34m\u001b[0m\u001b[0m\n\u001b[1;32m   2020\u001b[0m         \u001b[0;31m# that have been set by `fig.align_xlabels()`\u001b[0m\u001b[0;34m\u001b[0m\u001b[0;34m\u001b[0m\u001b[0;34m\u001b[0m\u001b[0m\n\u001b[0;32m-> 2021\u001b[0;31m         \u001b[0mbboxes\u001b[0m\u001b[0;34m,\u001b[0m \u001b[0mbboxes2\u001b[0m \u001b[0;34m=\u001b[0m \u001b[0mself\u001b[0m\u001b[0;34m.\u001b[0m\u001b[0m_get_tick_boxes_siblings\u001b[0m\u001b[0;34m(\u001b[0m\u001b[0mrenderer\u001b[0m\u001b[0;34m=\u001b[0m\u001b[0mrenderer\u001b[0m\u001b[0;34m)\u001b[0m\u001b[0;34m\u001b[0m\u001b[0;34m\u001b[0m\u001b[0m\n\u001b[0m\u001b[1;32m   2022\u001b[0m \u001b[0;34m\u001b[0m\u001b[0m\n\u001b[1;32m   2023\u001b[0m         \u001b[0mx\u001b[0m\u001b[0;34m,\u001b[0m \u001b[0my\u001b[0m \u001b[0;34m=\u001b[0m \u001b[0mself\u001b[0m\u001b[0;34m.\u001b[0m\u001b[0mlabel\u001b[0m\u001b[0;34m.\u001b[0m\u001b[0mget_position\u001b[0m\u001b[0;34m(\u001b[0m\u001b[0;34m)\u001b[0m\u001b[0;34m\u001b[0m\u001b[0;34m\u001b[0m\u001b[0m\n",
            "\u001b[0;32m/usr/local/lib/python3.7/dist-packages/matplotlib/axis.py\u001b[0m in \u001b[0;36m_get_tick_boxes_siblings\u001b[0;34m(self, renderer)\u001b[0m\n\u001b[1;32m   2003\u001b[0m         \u001b[0;31m# if we want to align labels from other axes:\u001b[0m\u001b[0;34m\u001b[0m\u001b[0;34m\u001b[0m\u001b[0;34m\u001b[0m\u001b[0m\n\u001b[1;32m   2004\u001b[0m         \u001b[0;32mfor\u001b[0m \u001b[0mnn\u001b[0m\u001b[0;34m,\u001b[0m \u001b[0maxx\u001b[0m \u001b[0;32min\u001b[0m \u001b[0menumerate\u001b[0m\u001b[0;34m(\u001b[0m\u001b[0mgrp\u001b[0m\u001b[0;34m.\u001b[0m\u001b[0mget_siblings\u001b[0m\u001b[0;34m(\u001b[0m\u001b[0mself\u001b[0m\u001b[0;34m.\u001b[0m\u001b[0maxes\u001b[0m\u001b[0;34m)\u001b[0m\u001b[0;34m)\u001b[0m\u001b[0;34m:\u001b[0m\u001b[0;34m\u001b[0m\u001b[0;34m\u001b[0m\u001b[0m\n\u001b[0;32m-> 2005\u001b[0;31m             \u001b[0mticks_to_draw\u001b[0m \u001b[0;34m=\u001b[0m \u001b[0maxx\u001b[0m\u001b[0;34m.\u001b[0m\u001b[0mxaxis\u001b[0m\u001b[0;34m.\u001b[0m\u001b[0m_update_ticks\u001b[0m\u001b[0;34m(\u001b[0m\u001b[0;34m)\u001b[0m\u001b[0;34m\u001b[0m\u001b[0;34m\u001b[0m\u001b[0m\n\u001b[0m\u001b[1;32m   2006\u001b[0m             \u001b[0mtlb\u001b[0m\u001b[0;34m,\u001b[0m \u001b[0mtlb2\u001b[0m \u001b[0;34m=\u001b[0m \u001b[0maxx\u001b[0m\u001b[0;34m.\u001b[0m\u001b[0mxaxis\u001b[0m\u001b[0;34m.\u001b[0m\u001b[0m_get_tick_bboxes\u001b[0m\u001b[0;34m(\u001b[0m\u001b[0mticks_to_draw\u001b[0m\u001b[0;34m,\u001b[0m \u001b[0mrenderer\u001b[0m\u001b[0;34m)\u001b[0m\u001b[0;34m\u001b[0m\u001b[0;34m\u001b[0m\u001b[0m\n\u001b[1;32m   2007\u001b[0m             \u001b[0mbboxes\u001b[0m\u001b[0;34m.\u001b[0m\u001b[0mextend\u001b[0m\u001b[0;34m(\u001b[0m\u001b[0mtlb\u001b[0m\u001b[0;34m)\u001b[0m\u001b[0;34m\u001b[0m\u001b[0;34m\u001b[0m\u001b[0m\n",
            "\u001b[0;32m/usr/local/lib/python3.7/dist-packages/matplotlib/axis.py\u001b[0m in \u001b[0;36m_update_ticks\u001b[0;34m(self)\u001b[0m\n\u001b[1;32m   1109\u001b[0m             \u001b[0mtick\u001b[0m\u001b[0;34m.\u001b[0m\u001b[0mset_label1\u001b[0m\u001b[0;34m(\u001b[0m\u001b[0mlabel\u001b[0m\u001b[0;34m)\u001b[0m\u001b[0;34m\u001b[0m\u001b[0;34m\u001b[0m\u001b[0m\n\u001b[1;32m   1110\u001b[0m             \u001b[0mtick\u001b[0m\u001b[0;34m.\u001b[0m\u001b[0mset_label2\u001b[0m\u001b[0;34m(\u001b[0m\u001b[0mlabel\u001b[0m\u001b[0;34m)\u001b[0m\u001b[0;34m\u001b[0m\u001b[0;34m\u001b[0m\u001b[0m\n\u001b[0;32m-> 1111\u001b[0;31m         \u001b[0mminor_locs\u001b[0m \u001b[0;34m=\u001b[0m \u001b[0mself\u001b[0m\u001b[0;34m.\u001b[0m\u001b[0mget_minorticklocs\u001b[0m\u001b[0;34m(\u001b[0m\u001b[0;34m)\u001b[0m\u001b[0;34m\u001b[0m\u001b[0;34m\u001b[0m\u001b[0m\n\u001b[0m\u001b[1;32m   1112\u001b[0m         \u001b[0mminor_labels\u001b[0m \u001b[0;34m=\u001b[0m \u001b[0mself\u001b[0m\u001b[0;34m.\u001b[0m\u001b[0mminor\u001b[0m\u001b[0;34m.\u001b[0m\u001b[0mformatter\u001b[0m\u001b[0;34m.\u001b[0m\u001b[0mformat_ticks\u001b[0m\u001b[0;34m(\u001b[0m\u001b[0mminor_locs\u001b[0m\u001b[0;34m)\u001b[0m\u001b[0;34m\u001b[0m\u001b[0;34m\u001b[0m\u001b[0m\n\u001b[1;32m   1113\u001b[0m         \u001b[0mminor_ticks\u001b[0m \u001b[0;34m=\u001b[0m \u001b[0mself\u001b[0m\u001b[0;34m.\u001b[0m\u001b[0mget_minor_ticks\u001b[0m\u001b[0;34m(\u001b[0m\u001b[0mlen\u001b[0m\u001b[0;34m(\u001b[0m\u001b[0mminor_locs\u001b[0m\u001b[0;34m)\u001b[0m\u001b[0;34m)\u001b[0m\u001b[0;34m\u001b[0m\u001b[0;34m\u001b[0m\u001b[0m\n",
            "\u001b[0;32m/usr/local/lib/python3.7/dist-packages/matplotlib/axis.py\u001b[0m in \u001b[0;36mget_minorticklocs\u001b[0;34m(self)\u001b[0m\n\u001b[1;32m   1351\u001b[0m         \u001b[0;34m\"\"\"Get the array of minor tick locations in data coordinates.\"\"\"\u001b[0m\u001b[0;34m\u001b[0m\u001b[0;34m\u001b[0m\u001b[0m\n\u001b[1;32m   1352\u001b[0m         \u001b[0;31m# Remove minor ticks duplicating major ticks.\u001b[0m\u001b[0;34m\u001b[0m\u001b[0;34m\u001b[0m\u001b[0;34m\u001b[0m\u001b[0m\n\u001b[0;32m-> 1353\u001b[0;31m         \u001b[0mmajor_locs\u001b[0m \u001b[0;34m=\u001b[0m \u001b[0mself\u001b[0m\u001b[0;34m.\u001b[0m\u001b[0mmajor\u001b[0m\u001b[0;34m.\u001b[0m\u001b[0mlocator\u001b[0m\u001b[0;34m(\u001b[0m\u001b[0;34m)\u001b[0m\u001b[0;34m\u001b[0m\u001b[0;34m\u001b[0m\u001b[0m\n\u001b[0m\u001b[1;32m   1354\u001b[0m         \u001b[0mminor_locs\u001b[0m \u001b[0;34m=\u001b[0m \u001b[0mself\u001b[0m\u001b[0;34m.\u001b[0m\u001b[0mminor\u001b[0m\u001b[0;34m.\u001b[0m\u001b[0mlocator\u001b[0m\u001b[0;34m(\u001b[0m\u001b[0;34m)\u001b[0m\u001b[0;34m\u001b[0m\u001b[0;34m\u001b[0m\u001b[0m\n\u001b[1;32m   1355\u001b[0m         \u001b[0mtransform\u001b[0m \u001b[0;34m=\u001b[0m \u001b[0mself\u001b[0m\u001b[0;34m.\u001b[0m\u001b[0m_scale\u001b[0m\u001b[0;34m.\u001b[0m\u001b[0mget_transform\u001b[0m\u001b[0;34m(\u001b[0m\u001b[0;34m)\u001b[0m\u001b[0;34m\u001b[0m\u001b[0;34m\u001b[0m\u001b[0m\n",
            "\u001b[0;32m/usr/local/lib/python3.7/dist-packages/matplotlib/ticker.py\u001b[0m in \u001b[0;36m__call__\u001b[0;34m(self)\u001b[0m\n\u001b[1;32m   2201\u001b[0m     \u001b[0;32mdef\u001b[0m \u001b[0m__call__\u001b[0m\u001b[0;34m(\u001b[0m\u001b[0mself\u001b[0m\u001b[0;34m)\u001b[0m\u001b[0;34m:\u001b[0m\u001b[0;34m\u001b[0m\u001b[0;34m\u001b[0m\u001b[0m\n\u001b[1;32m   2202\u001b[0m         \u001b[0mvmin\u001b[0m\u001b[0;34m,\u001b[0m \u001b[0mvmax\u001b[0m \u001b[0;34m=\u001b[0m \u001b[0mself\u001b[0m\u001b[0;34m.\u001b[0m\u001b[0maxis\u001b[0m\u001b[0;34m.\u001b[0m\u001b[0mget_view_interval\u001b[0m\u001b[0;34m(\u001b[0m\u001b[0;34m)\u001b[0m\u001b[0;34m\u001b[0m\u001b[0;34m\u001b[0m\u001b[0m\n\u001b[0;32m-> 2203\u001b[0;31m         \u001b[0;32mreturn\u001b[0m \u001b[0mself\u001b[0m\u001b[0;34m.\u001b[0m\u001b[0mtick_values\u001b[0m\u001b[0;34m(\u001b[0m\u001b[0mvmin\u001b[0m\u001b[0;34m,\u001b[0m \u001b[0mvmax\u001b[0m\u001b[0;34m)\u001b[0m\u001b[0;34m\u001b[0m\u001b[0;34m\u001b[0m\u001b[0m\n\u001b[0m\u001b[1;32m   2204\u001b[0m \u001b[0;34m\u001b[0m\u001b[0m\n\u001b[1;32m   2205\u001b[0m     \u001b[0;32mdef\u001b[0m \u001b[0mtick_values\u001b[0m\u001b[0;34m(\u001b[0m\u001b[0mself\u001b[0m\u001b[0;34m,\u001b[0m \u001b[0mvmin\u001b[0m\u001b[0;34m,\u001b[0m \u001b[0mvmax\u001b[0m\u001b[0;34m)\u001b[0m\u001b[0;34m:\u001b[0m\u001b[0;34m\u001b[0m\u001b[0;34m\u001b[0m\u001b[0m\n",
            "\u001b[0;32m/usr/local/lib/python3.7/dist-packages/matplotlib/ticker.py\u001b[0m in \u001b[0;36mtick_values\u001b[0;34m(self, vmin, vmax)\u001b[0m\n\u001b[1;32m   2209\u001b[0m         vmin, vmax = mtransforms.nonsingular(\n\u001b[1;32m   2210\u001b[0m             vmin, vmax, expander=1e-13, tiny=1e-14)\n\u001b[0;32m-> 2211\u001b[0;31m         \u001b[0mlocs\u001b[0m \u001b[0;34m=\u001b[0m \u001b[0mself\u001b[0m\u001b[0;34m.\u001b[0m\u001b[0m_raw_ticks\u001b[0m\u001b[0;34m(\u001b[0m\u001b[0mvmin\u001b[0m\u001b[0;34m,\u001b[0m \u001b[0mvmax\u001b[0m\u001b[0;34m)\u001b[0m\u001b[0;34m\u001b[0m\u001b[0;34m\u001b[0m\u001b[0m\n\u001b[0m\u001b[1;32m   2212\u001b[0m \u001b[0;34m\u001b[0m\u001b[0m\n\u001b[1;32m   2213\u001b[0m         \u001b[0mprune\u001b[0m \u001b[0;34m=\u001b[0m \u001b[0mself\u001b[0m\u001b[0;34m.\u001b[0m\u001b[0m_prune\u001b[0m\u001b[0;34m\u001b[0m\u001b[0;34m\u001b[0m\u001b[0m\n",
            "\u001b[0;32m/usr/local/lib/python3.7/dist-packages/matplotlib/ticker.py\u001b[0m in \u001b[0;36m_raw_ticks\u001b[0;34m(self, vmin, vmax)\u001b[0m\n\u001b[1;32m   2149\u001b[0m             \u001b[0;32mif\u001b[0m \u001b[0mself\u001b[0m\u001b[0;34m.\u001b[0m\u001b[0maxis\u001b[0m \u001b[0;32mis\u001b[0m \u001b[0;32mnot\u001b[0m \u001b[0;32mNone\u001b[0m\u001b[0;34m:\u001b[0m\u001b[0;34m\u001b[0m\u001b[0;34m\u001b[0m\u001b[0m\n\u001b[1;32m   2150\u001b[0m                 nbins = np.clip(self.axis.get_tick_space(),\n\u001b[0;32m-> 2151\u001b[0;31m                                 max(1, self._min_n_ticks - 1), 9)\n\u001b[0m\u001b[1;32m   2152\u001b[0m             \u001b[0;32melse\u001b[0m\u001b[0;34m:\u001b[0m\u001b[0;34m\u001b[0m\u001b[0;34m\u001b[0m\u001b[0m\n\u001b[1;32m   2153\u001b[0m                 \u001b[0mnbins\u001b[0m \u001b[0;34m=\u001b[0m \u001b[0;36m9\u001b[0m\u001b[0;34m\u001b[0m\u001b[0;34m\u001b[0m\u001b[0m\n",
            "\u001b[0;32m<__array_function__ internals>\u001b[0m in \u001b[0;36mclip\u001b[0;34m(*args, **kwargs)\u001b[0m\n",
            "\u001b[0;32m/usr/local/lib/python3.7/dist-packages/numpy/core/fromnumeric.py\u001b[0m in \u001b[0;36mclip\u001b[0;34m(a, a_min, a_max, out, **kwargs)\u001b[0m\n\u001b[1;32m   2113\u001b[0m \u001b[0;34m\u001b[0m\u001b[0m\n\u001b[1;32m   2114\u001b[0m     \"\"\"\n\u001b[0;32m-> 2115\u001b[0;31m     \u001b[0;32mreturn\u001b[0m \u001b[0m_wrapfunc\u001b[0m\u001b[0;34m(\u001b[0m\u001b[0ma\u001b[0m\u001b[0;34m,\u001b[0m \u001b[0;34m'clip'\u001b[0m\u001b[0;34m,\u001b[0m \u001b[0ma_min\u001b[0m\u001b[0;34m,\u001b[0m \u001b[0ma_max\u001b[0m\u001b[0;34m,\u001b[0m \u001b[0mout\u001b[0m\u001b[0;34m=\u001b[0m\u001b[0mout\u001b[0m\u001b[0;34m,\u001b[0m \u001b[0;34m**\u001b[0m\u001b[0mkwargs\u001b[0m\u001b[0;34m)\u001b[0m\u001b[0;34m\u001b[0m\u001b[0;34m\u001b[0m\u001b[0m\n\u001b[0m\u001b[1;32m   2116\u001b[0m \u001b[0;34m\u001b[0m\u001b[0m\n\u001b[1;32m   2117\u001b[0m \u001b[0;34m\u001b[0m\u001b[0m\n",
            "\u001b[0;32m/usr/local/lib/python3.7/dist-packages/numpy/core/fromnumeric.py\u001b[0m in \u001b[0;36m_wrapfunc\u001b[0;34m(obj, method, *args, **kwds)\u001b[0m\n\u001b[1;32m     52\u001b[0m     \u001b[0mbound\u001b[0m \u001b[0;34m=\u001b[0m \u001b[0mgetattr\u001b[0m\u001b[0;34m(\u001b[0m\u001b[0mobj\u001b[0m\u001b[0;34m,\u001b[0m \u001b[0mmethod\u001b[0m\u001b[0;34m,\u001b[0m \u001b[0;32mNone\u001b[0m\u001b[0;34m)\u001b[0m\u001b[0;34m\u001b[0m\u001b[0;34m\u001b[0m\u001b[0m\n\u001b[1;32m     53\u001b[0m     \u001b[0;32mif\u001b[0m \u001b[0mbound\u001b[0m \u001b[0;32mis\u001b[0m \u001b[0;32mNone\u001b[0m\u001b[0;34m:\u001b[0m\u001b[0;34m\u001b[0m\u001b[0;34m\u001b[0m\u001b[0m\n\u001b[0;32m---> 54\u001b[0;31m         \u001b[0;32mreturn\u001b[0m \u001b[0m_wrapit\u001b[0m\u001b[0;34m(\u001b[0m\u001b[0mobj\u001b[0m\u001b[0;34m,\u001b[0m \u001b[0mmethod\u001b[0m\u001b[0;34m,\u001b[0m \u001b[0;34m*\u001b[0m\u001b[0margs\u001b[0m\u001b[0;34m,\u001b[0m \u001b[0;34m**\u001b[0m\u001b[0mkwds\u001b[0m\u001b[0;34m)\u001b[0m\u001b[0;34m\u001b[0m\u001b[0;34m\u001b[0m\u001b[0m\n\u001b[0m\u001b[1;32m     55\u001b[0m \u001b[0;34m\u001b[0m\u001b[0m\n\u001b[1;32m     56\u001b[0m     \u001b[0;32mtry\u001b[0m\u001b[0;34m:\u001b[0m\u001b[0;34m\u001b[0m\u001b[0;34m\u001b[0m\u001b[0m\n",
            "\u001b[0;32m/usr/local/lib/python3.7/dist-packages/numpy/core/fromnumeric.py\u001b[0m in \u001b[0;36m_wrapit\u001b[0;34m(obj, method, *args, **kwds)\u001b[0m\n\u001b[1;32m     41\u001b[0m     \u001b[0;32mexcept\u001b[0m \u001b[0mAttributeError\u001b[0m\u001b[0;34m:\u001b[0m\u001b[0;34m\u001b[0m\u001b[0;34m\u001b[0m\u001b[0m\n\u001b[1;32m     42\u001b[0m         \u001b[0mwrap\u001b[0m \u001b[0;34m=\u001b[0m \u001b[0;32mNone\u001b[0m\u001b[0;34m\u001b[0m\u001b[0;34m\u001b[0m\u001b[0m\n\u001b[0;32m---> 43\u001b[0;31m     \u001b[0mresult\u001b[0m \u001b[0;34m=\u001b[0m \u001b[0mgetattr\u001b[0m\u001b[0;34m(\u001b[0m\u001b[0masarray\u001b[0m\u001b[0;34m(\u001b[0m\u001b[0mobj\u001b[0m\u001b[0;34m)\u001b[0m\u001b[0;34m,\u001b[0m \u001b[0mmethod\u001b[0m\u001b[0;34m)\u001b[0m\u001b[0;34m(\u001b[0m\u001b[0;34m*\u001b[0m\u001b[0margs\u001b[0m\u001b[0;34m,\u001b[0m \u001b[0;34m**\u001b[0m\u001b[0mkwds\u001b[0m\u001b[0;34m)\u001b[0m\u001b[0;34m\u001b[0m\u001b[0;34m\u001b[0m\u001b[0m\n\u001b[0m\u001b[1;32m     44\u001b[0m     \u001b[0;32mif\u001b[0m \u001b[0mwrap\u001b[0m\u001b[0;34m:\u001b[0m\u001b[0;34m\u001b[0m\u001b[0;34m\u001b[0m\u001b[0m\n\u001b[1;32m     45\u001b[0m         \u001b[0;32mif\u001b[0m \u001b[0;32mnot\u001b[0m \u001b[0misinstance\u001b[0m\u001b[0;34m(\u001b[0m\u001b[0mresult\u001b[0m\u001b[0;34m,\u001b[0m \u001b[0mmu\u001b[0m\u001b[0;34m.\u001b[0m\u001b[0mndarray\u001b[0m\u001b[0;34m)\u001b[0m\u001b[0;34m:\u001b[0m\u001b[0;34m\u001b[0m\u001b[0;34m\u001b[0m\u001b[0m\n",
            "\u001b[0;32m/usr/local/lib/python3.7/dist-packages/numpy/core/_methods.py\u001b[0m in \u001b[0;36m_clip\u001b[0;34m(a, min, max, out, casting, **kwargs)\u001b[0m\n\u001b[1;32m    158\u001b[0m     \u001b[0;32melse\u001b[0m\u001b[0;34m:\u001b[0m\u001b[0;34m\u001b[0m\u001b[0;34m\u001b[0m\u001b[0m\n\u001b[1;32m    159\u001b[0m         return _clip_dep_invoke_with_casting(\n\u001b[0;32m--> 160\u001b[0;31m             um.clip, a, min, max, out=out, casting=casting, **kwargs)\n\u001b[0m\u001b[1;32m    161\u001b[0m \u001b[0;34m\u001b[0m\u001b[0m\n\u001b[1;32m    162\u001b[0m \u001b[0;32mdef\u001b[0m \u001b[0m_mean\u001b[0m\u001b[0;34m(\u001b[0m\u001b[0ma\u001b[0m\u001b[0;34m,\u001b[0m \u001b[0maxis\u001b[0m\u001b[0;34m=\u001b[0m\u001b[0;32mNone\u001b[0m\u001b[0;34m,\u001b[0m \u001b[0mdtype\u001b[0m\u001b[0;34m=\u001b[0m\u001b[0;32mNone\u001b[0m\u001b[0;34m,\u001b[0m \u001b[0mout\u001b[0m\u001b[0;34m=\u001b[0m\u001b[0;32mNone\u001b[0m\u001b[0;34m,\u001b[0m \u001b[0mkeepdims\u001b[0m\u001b[0;34m=\u001b[0m\u001b[0;32mFalse\u001b[0m\u001b[0;34m,\u001b[0m \u001b[0;34m*\u001b[0m\u001b[0;34m,\u001b[0m \u001b[0mwhere\u001b[0m\u001b[0;34m=\u001b[0m\u001b[0;32mTrue\u001b[0m\u001b[0;34m)\u001b[0m\u001b[0;34m:\u001b[0m\u001b[0;34m\u001b[0m\u001b[0;34m\u001b[0m\u001b[0m\n",
            "\u001b[0;32m/usr/local/lib/python3.7/dist-packages/numpy/core/_methods.py\u001b[0m in \u001b[0;36m_clip_dep_invoke_with_casting\u001b[0;34m(ufunc, out, casting, *args, **kwargs)\u001b[0m\n\u001b[1;32m    111\u001b[0m     \u001b[0;31m# try to deal with broken casting rules\u001b[0m\u001b[0;34m\u001b[0m\u001b[0;34m\u001b[0m\u001b[0;34m\u001b[0m\u001b[0m\n\u001b[1;32m    112\u001b[0m     \u001b[0;32mtry\u001b[0m\u001b[0;34m:\u001b[0m\u001b[0;34m\u001b[0m\u001b[0;34m\u001b[0m\u001b[0m\n\u001b[0;32m--> 113\u001b[0;31m         \u001b[0;32mreturn\u001b[0m \u001b[0mufunc\u001b[0m\u001b[0;34m(\u001b[0m\u001b[0;34m*\u001b[0m\u001b[0margs\u001b[0m\u001b[0;34m,\u001b[0m \u001b[0mout\u001b[0m\u001b[0;34m=\u001b[0m\u001b[0mout\u001b[0m\u001b[0;34m,\u001b[0m \u001b[0;34m**\u001b[0m\u001b[0mkwargs\u001b[0m\u001b[0;34m)\u001b[0m\u001b[0;34m\u001b[0m\u001b[0;34m\u001b[0m\u001b[0m\n\u001b[0m\u001b[1;32m    114\u001b[0m     \u001b[0;32mexcept\u001b[0m \u001b[0m_exceptions\u001b[0m\u001b[0;34m.\u001b[0m\u001b[0m_UFuncOutputCastingError\u001b[0m \u001b[0;32mas\u001b[0m \u001b[0me\u001b[0m\u001b[0;34m:\u001b[0m\u001b[0;34m\u001b[0m\u001b[0;34m\u001b[0m\u001b[0m\n\u001b[1;32m    115\u001b[0m         \u001b[0;31m# Numpy 1.17.0, 2019-02-24\u001b[0m\u001b[0;34m\u001b[0m\u001b[0;34m\u001b[0m\u001b[0;34m\u001b[0m\u001b[0m\n",
            "\u001b[0;31mKeyboardInterrupt\u001b[0m: "
          ]
        }
      ]
    },
    {
      "cell_type": "code",
      "source": [
        "import matplotlib.pyplot as plt\n",
        "plt.figure(figsize=(12,8))\n",
        "sns.heatmap(df_explore.corr(), annot=True, cmap='Dark2_r', linewidths = 2)\n",
        "plt.show()"
      ],
      "metadata": {
        "colab": {
          "base_uri": "https://localhost:8080/",
          "height": 593
        },
        "id": "zBoPUk5Z0ubg",
        "outputId": "4ef90709-fb1f-46b5-d52e-d68b0253e1a8"
      },
      "execution_count": 45,
      "outputs": [
        {
          "output_type": "display_data",
          "data": {
            "text/plain": [
              "<Figure size 864x576 with 2 Axes>"
            ],
            "image/png": "[encoded data removed]"
          },
          "metadata": {
            "needs_background": "light"
          }
        }
      ]
    },
    {
      "cell_type": "code",
      "source": [
        "new_df = df[[\"ESTADO\",\"LONGITUD\",\"LATITUD\",\"SEMAFORO\"]].copy()\n",
        "new_df"
      ],
      "metadata": {
        "colab": {
          "base_uri": "https://localhost:8080/",
          "height": 424
        },
        "id": "s09p4Osgu6hw",
        "outputId": "8af70a93-8fc3-4af8-b911-6777edd46915"
      },
      "execution_count": 47,
      "outputs": [
        {
          "output_type": "execute_result",
          "data": {
            "text/plain": [
              "                   ESTADO   LONGITUD   LATITUD SEMAFORO\n",
              "0          AGUASCALIENTES -102.02210  22.20887    Verde\n",
              "1          AGUASCALIENTES -102.20075  21.99958    Verde\n",
              "2          AGUASCALIENTES -102.28801  22.36685     Rojo\n",
              "3          AGUASCALIENTES -102.29449  22.18435    Verde\n",
              "4     BAJA CALIFORNIA SUR -110.24480  23.45138     Rojo\n",
              "...                   ...        ...       ...      ...\n",
              "1063           NUEVO LEON  -99.54191  24.76036     Rojo\n",
              "1064           NUEVO LEON  -99.70099  24.78280     Rojo\n",
              "1065           NUEVO LEON  -99.82249  25.55197     Rojo\n",
              "1066           NUEVO LEON -100.32683  24.80118    Verde\n",
              "1067           NUEVO LEON -100.73302  25.09380    Verde\n",
              "\n",
              "[1068 rows x 4 columns]"
            ],
            "text/html": [
              "\n",
              "  <div id=\"df-4c4076ad-57d6-4ab1-a2d8-1f4a1fbcf416\">\n",
              "    <div class=\"colab-df-container\">\n",
              "      <div>\n",
              "<style scoped>\n",
              "    .dataframe tbody tr th:only-of-type {\n",
              "        vertical-align: middle;\n",
              "    }\n",
              "\n",
              "    .dataframe tbody tr th {\n",
              "        vertical-align: top;\n",
              "    }\n",
              "\n",
              "    .dataframe thead th {\n",
              "        text-align: right;\n",
              "    }\n",
              "</style>\n",
              "<table border=\"1\" class=\"dataframe\">\n",
              "  <thead>\n",
              "    <tr style=\"text-align: right;\">\n",
              "      <th></th>\n",
              "      <th>ESTADO</th>\n",
              "      <th>LONGITUD</th>\n",
              "      <th>LATITUD</th>\n",
              "      <th>SEMAFORO</th>\n",
              "    </tr>\n",
              "  </thead>\n",
              "  <tbody>\n",
              "    <tr>\n",
              "      <th>0</th>\n",
              "      <td>AGUASCALIENTES</td>\n",
              "      <td>-102.02210</td>\n",
              "      <td>22.20887</td>\n",
              "      <td>Verde</td>\n",
              "    </tr>\n",
              "    <tr>\n",
              "      <th>1</th>\n",
              "      <td>AGUASCALIENTES</td>\n",
              "      <td>-102.20075</td>\n",
              "      <td>21.99958</td>\n",
              "      <td>Verde</td>\n",
              "    </tr>\n",
              "    <tr>\n",
              "      <th>2</th>\n",
              "      <td>AGUASCALIENTES</td>\n",
              "      <td>-102.28801</td>\n",
              "      <td>22.36685</td>\n",
              "      <td>Rojo</td>\n",
              "    </tr>\n",
              "    <tr>\n",
              "      <th>3</th>\n",
              "      <td>AGUASCALIENTES</td>\n",
              "      <td>-102.29449</td>\n",
              "      <td>22.18435</td>\n",
              "      <td>Verde</td>\n",
              "    </tr>\n",
              "    <tr>\n",
              "      <th>4</th>\n",
              "      <td>BAJA CALIFORNIA SUR</td>\n",
              "      <td>-110.24480</td>\n",
              "      <td>23.45138</td>\n",
              "      <td>Rojo</td>\n",
              "    </tr>\n",
              "    <tr>\n",
              "      <th>...</th>\n",
              "      <td>...</td>\n",
              "      <td>...</td>\n",
              "      <td>...</td>\n",
              "      <td>...</td>\n",
              "    </tr>\n",
              "    <tr>\n",
              "      <th>1063</th>\n",
              "      <td>NUEVO LEON</td>\n",
              "      <td>-99.54191</td>\n",
              "      <td>24.76036</td>\n",
              "      <td>Rojo</td>\n",
              "    </tr>\n",
              "    <tr>\n",
              "      <th>1064</th>\n",
              "      <td>NUEVO LEON</td>\n",
              "      <td>-99.70099</td>\n",
              "      <td>24.78280</td>\n",
              "      <td>Rojo</td>\n",
              "    </tr>\n",
              "    <tr>\n",
              "      <th>1065</th>\n",
              "      <td>NUEVO LEON</td>\n",
              "      <td>-99.82249</td>\n",
              "      <td>25.55197</td>\n",
              "      <td>Rojo</td>\n",
              "    </tr>\n",
              "    <tr>\n",
              "      <th>1066</th>\n",
              "      <td>NUEVO LEON</td>\n",
              "      <td>-100.32683</td>\n",
              "      <td>24.80118</td>\n",
              "      <td>Verde</td>\n",
              "    </tr>\n",
              "    <tr>\n",
              "      <th>1067</th>\n",
              "      <td>NUEVO LEON</td>\n",
              "      <td>-100.73302</td>\n",
              "      <td>25.09380</td>\n",
              "      <td>Verde</td>\n",
              "    </tr>\n",
              "  </tbody>\n",
              "</table>\n",
              "<p>1068 rows × 4 columns</p>\n",
              "</div>\n",
              "      <button class=\"colab-df-convert\" onclick=\"convertToInteractive('df-4c4076ad-57d6-4ab1-a2d8-1f4a1fbcf416')\"\n",
              "              title=\"Convert this dataframe to an interactive table.\"\n",
              "              style=\"display:none;\">\n",
              "        \n",
              "  <svg xmlns=\"http://www.w3.org/2000/svg\" height=\"24px\"viewBox=\"0 0 24 24\"\n",
              "       width=\"24px\">\n",
              "    <path d=\"M0 0h24v24H0V0z\" fill=\"none\"/>\n",
              "    <path d=\"M18.56 5.44l.94 2.06.94-2.06 2.06-.94-2.06-.94-.94-2.06-.94 2.06-2.06.94zm-11 1L8.5 8.5l.94-2.06 2.06-.94-2.06-.94L8.5 2.5l-.94 2.06-2.06.94zm10 10l.94 2.06.94-2.06 2.06-.94-2.06-.94-.94-2.06-.94 2.06-2.06.94z\"/><path d=\"M17.41 7.96l-1.37-1.37c-.4-.4-.92-.59-1.43-.59-.52 0-1.04.2-1.43.59L10.3 9.45l-7.72 7.72c-.78.78-.78 2.05 0 2.83L4 21.41c.39.39.9.59 1.41.59.51 0 1.02-.2 1.41-.59l7.78-7.78 2.81-2.81c.8-.78.8-2.07 0-2.86zM5.41 20L4 18.59l7.72-7.72 1.47 1.35L5.41 20z\"/>\n",
              "  </svg>\n",
              "      </button>\n",
              "      \n",
              "  <style>\n",
              "    .colab-df-container {\n",
              "      display:flex;\n",
              "      flex-wrap:wrap;\n",
              "      gap: 12px;\n",
              "    }\n",
              "\n",
              "    .colab-df-convert {\n",
              "      background-color: #E8F0FE;\n",
              "      border: none;\n",
              "      border-radius: 50%;\n",
              "      cursor: pointer;\n",
              "      display: none;\n",
              "      fill: #1967D2;\n",
              "      height: 32px;\n",
              "      padding: 0 0 0 0;\n",
              "      width: 32px;\n",
              "    }\n",
              "\n",
              "    .colab-df-convert:hover {\n",
              "      background-color: #E2EBFA;\n",
              "      box-shadow: 0px 1px 2px rgba(60, 64, 67, 0.3), 0px 1px 3px 1px rgba(60, 64, 67, 0.15);\n",
              "      fill: #174EA6;\n",
              "    }\n",
              "\n",
              "    [theme=dark] .colab-df-convert {\n",
              "      background-color: #3B4455;\n",
              "      fill: #D2E3FC;\n",
              "    }\n",
              "\n",
              "    [theme=dark] .colab-df-convert:hover {\n",
              "      background-color: #434B5C;\n",
              "      box-shadow: 0px 1px 3px 1px rgba(0, 0, 0, 0.15);\n",
              "      filter: drop-shadow(0px 1px 2px rgba(0, 0, 0, 0.3));\n",
              "      fill: #FFFFFF;\n",
              "    }\n",
              "  </style>\n",
              "\n",
              "      <script>\n",
              "        const buttonEl =\n",
              "          document.querySelector('#df-4c4076ad-57d6-4ab1-a2d8-1f4a1fbcf416 button.colab-df-convert');\n",
              "        buttonEl.style.display =\n",
              "          google.colab.kernel.accessAllowed ? 'block' : 'none';\n",
              "\n",
              "        async function convertToInteractive(key) {\n",
              "          const element = document.querySelector('#df-4c4076ad-57d6-4ab1-a2d8-1f4a1fbcf416');\n",
              "          const dataTable =\n",
              "            await google.colab.kernel.invokeFunction('convertToInteractive',\n",
              "                                                     [key], {});\n",
              "          if (!dataTable) return;\n",
              "\n",
              "          const docLinkHtml = 'Like what you see? Visit the ' +\n",
              "            '<a target=\"_blank\" href=https://colab.research.google.com/notebooks/data_table.ipynb>data table notebook</a>'\n",
              "            + ' to learn more about interactive tables.';\n",
              "          element.innerHTML = '';\n",
              "          dataTable['output_type'] = 'display_data';\n",
              "          await google.colab.output.renderOutput(dataTable, element);\n",
              "          const docLink = document.createElement('div');\n",
              "          docLink.innerHTML = docLinkHtml;\n",
              "          element.appendChild(docLink);\n",
              "        }\n",
              "      </script>\n",
              "    </div>\n",
              "  </div>\n",
              "  "
            ]
          },
          "metadata": {},
          "execution_count": 47
        }
      ]
    },
    {
      "cell_type": "code",
      "source": [
        "new_df.isna().values.any()"
      ],
      "metadata": {
        "colab": {
          "base_uri": "https://localhost:8080/"
        },
        "id": "TBrBBDIRrcrv",
        "outputId": "5bd02360-5240-4a21-a20c-edf8b2a1096f"
      },
      "execution_count": 48,
      "outputs": [
        {
          "output_type": "execute_result",
          "data": {
            "text/plain": [
              "False"
            ]
          },
          "metadata": {},
          "execution_count": 48
        }
      ]
    },
    {
      "cell_type": "code",
      "source": [
        "df.isna().any()\n"
      ],
      "metadata": {
        "colab": {
          "base_uri": "https://localhost:8080/"
        },
        "id": "ap56u29asrPX",
        "outputId": "98487588-40b9-4ada-ff6f-c4ae8569882c"
      },
      "execution_count": 49,
      "outputs": [
        {
          "output_type": "execute_result",
          "data": {
            "text/plain": [
              "CLAVE                   False\n",
              "SITIO                   False\n",
              "ORGANISMO_DE_CUENCA     False\n",
              "ESTADO                  False\n",
              "MUNICIPIO               False\n",
              "ACUIFERO                False\n",
              "SUBTIPO                 False\n",
              "LONGITUD                False\n",
              "LATITUD                 False\n",
              "ALC_mg/L                 True\n",
              "CALIDAD_ALC              True\n",
              "CONDUCT_mS/cm            True\n",
              "CALIDAD_CONDUC           True\n",
              "SDT_M_mg/L               True\n",
              "CALIDAD_SDT_ra           True\n",
              "CALIDAD_SDT_salin        True\n",
              "FLUORUROS_mg/L          False\n",
              "CALIDAD_FLUO            False\n",
              "DUR_mg/L                 True\n",
              "CALIDAD_DUR              True\n",
              "COLI_FEC_NMP/100_mL     False\n",
              "CALIDAD_COLI_FEC        False\n",
              "N_NO3_mg/L               True\n",
              "CALIDAD_N_NO3            True\n",
              "AS_TOT_mg/L             False\n",
              "CALIDAD_AS              False\n",
              "CD_TOT_mg/L             False\n",
              "CALIDAD_CD              False\n",
              "CR_TOT_mg/L             False\n",
              "CALIDAD_CR              False\n",
              "HG_TOT_mg/L             False\n",
              "CALIDAD_HG              False\n",
              "PB_TOT_mg/L             False\n",
              "CALIDAD_PB              False\n",
              "MN_TOT_mg/L             False\n",
              "CALIDAD_MN              False\n",
              "FE_TOT_mg/L             False\n",
              "CALIDAD_FE              False\n",
              "SEMAFORO                False\n",
              "CONTAMINANTES            True\n",
              "CUMPLE_CON_ALC          False\n",
              "CUMPLE_CON_COND         False\n",
              "CUMPLE_CON_SDT_ra       False\n",
              "CUMPLE_CON_SDT_salin    False\n",
              "CUMPLE_CON_FLUO         False\n",
              "CUMPLE_CON_DUR          False\n",
              "CUMPLE_CON_CF           False\n",
              "CUMPLE_CON_NO3          False\n",
              "CUMPLE_CON_AS           False\n",
              "CUMPLE_CON_CD           False\n",
              "CUMPLE_CON_CR           False\n",
              "CUMPLE_CON_HG           False\n",
              "CUMPLE_CON_PB           False\n",
              "CUMPLE_CON_MN           False\n",
              "CUMPLE_CON_FE           False\n",
              "dtype: bool"
            ]
          },
          "metadata": {},
          "execution_count": 49
        }
      ]
    },
    {
      "cell_type": "code",
      "source": [
        "import geopandas\n",
        "from geopy.geocoders import Nominatim"
      ],
      "metadata": {
        "id": "tSNZJ_B7R9vE"
      },
      "execution_count": 50,
      "outputs": []
    },
    {
      "cell_type": "code",
      "source": [
        "latlong=df[[\"LATITUD\",\"LONGITUD\"]]\n",
        "latlong.plot.scatter( \"LONGITUD\",\"LATITUD\")"
      ],
      "metadata": {
        "colab": {
          "base_uri": "https://localhost:8080/",
          "height": 296
        },
        "id": "aZwWdw4CRrVL",
        "outputId": "f779b845-047b-4e09-8446-861bb9b6236b"
      },
      "execution_count": 51,
      "outputs": [
        {
          "output_type": "execute_result",
          "data": {
            "text/plain": [
              "<matplotlib.axes._subplots.AxesSubplot at 0x7f13efe7a490>"
            ]
          },
          "metadata": {},
          "execution_count": 51
        },
        {
          "output_type": "display_data",
          "data": {
            "text/plain": [
              "<Figure size 432x288 with 1 Axes>"
            ],
            "image/png": "[encoded data removed]"
          },
          "metadata": {
            "needs_background": "light"
          }
        }
      ]
    },
    {
      "cell_type": "code",
      "source": [
        "import geopandas as gpd\n",
        "from shapely.geometry import Point\n",
        "import qeds\n",
        "qeds.themes.mpl_style();"
      ],
      "metadata": {
        "id": "UUIqGEvvTCiW"
      },
      "execution_count": 52,
      "outputs": []
    },
    {
      "cell_type": "code",
      "source": [
        "latlong[\"Coordinates\"] = list(zip(latlong.LONGITUD, latlong.LATITUD))\n",
        "latlong[\"Coordinates\"] = latlong[\"Coordinates\"].apply(Point)\n",
        "latlong.head()"
      ],
      "metadata": {
        "colab": {
          "base_uri": "https://localhost:8080/",
          "height": 414
        },
        "id": "3t597tMRTkVk",
        "outputId": "8e70d403-65a5-4ac1-bd9b-d413ac4cb039"
      },
      "execution_count": 53,
      "outputs": [
        {
          "output_type": "stream",
          "name": "stderr",
          "text": [
            "/usr/local/lib/python3.7/dist-packages/ipykernel_launcher.py:1: SettingWithCopyWarning: \n",
            "A value is trying to be set on a copy of a slice from a DataFrame.\n",
            "Try using .loc[row_indexer,col_indexer] = value instead\n",
            "\n",
            "See the caveats in the documentation: https://pandas.pydata.org/pandas-docs/stable/user_guide/indexing.html#returning-a-view-versus-a-copy\n",
            "  \"\"\"Entry point for launching an IPython kernel.\n",
            "/usr/local/lib/python3.7/dist-packages/ipykernel_launcher.py:2: SettingWithCopyWarning: \n",
            "A value is trying to be set on a copy of a slice from a DataFrame.\n",
            "Try using .loc[row_indexer,col_indexer] = value instead\n",
            "\n",
            "See the caveats in the documentation: https://pandas.pydata.org/pandas-docs/stable/user_guide/indexing.html#returning-a-view-versus-a-copy\n",
            "  \n"
          ]
        },
        {
          "output_type": "execute_result",
          "data": {
            "text/plain": [
              "    LATITUD   LONGITUD                  Coordinates\n",
              "0  22.20887 -102.02210   POINT (-102.0221 22.20887)\n",
              "1  21.99958 -102.20075  POINT (-102.20075 21.99958)\n",
              "2  22.36685 -102.28801  POINT (-102.28801 22.36685)\n",
              "3  22.18435 -102.29449  POINT (-102.29449 22.18435)\n",
              "4  23.45138 -110.24480   POINT (-110.2448 23.45138)"
            ],
            "text/html": [
              "\n",
              "  <div id=\"df-4a0c9b8b-cdb9-41be-8188-b5371b5f3d3d\">\n",
              "    <div class=\"colab-df-container\">\n",
              "      <div>\n",
              "<style scoped>\n",
              "    .dataframe tbody tr th:only-of-type {\n",
              "        vertical-align: middle;\n",
              "    }\n",
              "\n",
              "    .dataframe tbody tr th {\n",
              "        vertical-align: top;\n",
              "    }\n",
              "\n",
              "    .dataframe thead th {\n",
              "        text-align: right;\n",
              "    }\n",
              "</style>\n",
              "<table border=\"1\" class=\"dataframe\">\n",
              "  <thead>\n",
              "    <tr style=\"text-align: right;\">\n",
              "      <th></th>\n",
              "      <th>LATITUD</th>\n",
              "      <th>LONGITUD</th>\n",
              "      <th>Coordinates</th>\n",
              "    </tr>\n",
              "  </thead>\n",
              "  <tbody>\n",
              "    <tr>\n",
              "      <th>0</th>\n",
              "      <td>22.20887</td>\n",
              "      <td>-102.02210</td>\n",
              "      <td>POINT (-102.0221 22.20887)</td>\n",
              "    </tr>\n",
              "    <tr>\n",
              "      <th>1</th>\n",
              "      <td>21.99958</td>\n",
              "      <td>-102.20075</td>\n",
              "      <td>POINT (-102.20075 21.99958)</td>\n",
              "    </tr>\n",
              "    <tr>\n",
              "      <th>2</th>\n",
              "      <td>22.36685</td>\n",
              "      <td>-102.28801</td>\n",
              "      <td>POINT (-102.28801 22.36685)</td>\n",
              "    </tr>\n",
              "    <tr>\n",
              "      <th>3</th>\n",
              "      <td>22.18435</td>\n",
              "      <td>-102.29449</td>\n",
              "      <td>POINT (-102.29449 22.18435)</td>\n",
              "    </tr>\n",
              "    <tr>\n",
              "      <th>4</th>\n",
              "      <td>23.45138</td>\n",
              "      <td>-110.24480</td>\n",
              "      <td>POINT (-110.2448 23.45138)</td>\n",
              "    </tr>\n",
              "  </tbody>\n",
              "</table>\n",
              "</div>\n",
              "      <button class=\"colab-df-convert\" onclick=\"convertToInteractive('df-4a0c9b8b-cdb9-41be-8188-b5371b5f3d3d')\"\n",
              "              title=\"Convert this dataframe to an interactive table.\"\n",
              "              style=\"display:none;\">\n",
              "        \n",
              "  <svg xmlns=\"http://www.w3.org/2000/svg\" height=\"24px\"viewBox=\"0 0 24 24\"\n",
              "       width=\"24px\">\n",
              "    <path d=\"M0 0h24v24H0V0z\" fill=\"none\"/>\n",
              "    <path d=\"M18.56 5.44l.94 2.06.94-2.06 2.06-.94-2.06-.94-.94-2.06-.94 2.06-2.06.94zm-11 1L8.5 8.5l.94-2.06 2.06-.94-2.06-.94L8.5 2.5l-.94 2.06-2.06.94zm10 10l.94 2.06.94-2.06 2.06-.94-2.06-.94-.94-2.06-.94 2.06-2.06.94z\"/><path d=\"M17.41 7.96l-1.37-1.37c-.4-.4-.92-.59-1.43-.59-.52 0-1.04.2-1.43.59L10.3 9.45l-7.72 7.72c-.78.78-.78 2.05 0 2.83L4 21.41c.39.39.9.59 1.41.59.51 0 1.02-.2 1.41-.59l7.78-7.78 2.81-2.81c.8-.78.8-2.07 0-2.86zM5.41 20L4 18.59l7.72-7.72 1.47 1.35L5.41 20z\"/>\n",
              "  </svg>\n",
              "      </button>\n",
              "      \n",
              "  <style>\n",
              "    .colab-df-container {\n",
              "      display:flex;\n",
              "      flex-wrap:wrap;\n",
              "      gap: 12px;\n",
              "    }\n",
              "\n",
              "    .colab-df-convert {\n",
              "      background-color: #E8F0FE;\n",
              "      border: none;\n",
              "      border-radius: 50%;\n",
              "      cursor: pointer;\n",
              "      display: none;\n",
              "      fill: #1967D2;\n",
              "      height: 32px;\n",
              "      padding: 0 0 0 0;\n",
              "      width: 32px;\n",
              "    }\n",
              "\n",
              "    .colab-df-convert:hover {\n",
              "      background-color: #E2EBFA;\n",
              "      box-shadow: 0px 1px 2px rgba(60, 64, 67, 0.3), 0px 1px 3px 1px rgba(60, 64, 67, 0.15);\n",
              "      fill: #174EA6;\n",
              "    }\n",
              "\n",
              "    [theme=dark] .colab-df-convert {\n",
              "      background-color: #3B4455;\n",
              "      fill: #D2E3FC;\n",
              "    }\n",
              "\n",
              "    [theme=dark] .colab-df-convert:hover {\n",
              "      background-color: #434B5C;\n",
              "      box-shadow: 0px 1px 3px 1px rgba(0, 0, 0, 0.15);\n",
              "      filter: drop-shadow(0px 1px 2px rgba(0, 0, 0, 0.3));\n",
              "      fill: #FFFFFF;\n",
              "    }\n",
              "  </style>\n",
              "\n",
              "      <script>\n",
              "        const buttonEl =\n",
              "          document.querySelector('#df-4a0c9b8b-cdb9-41be-8188-b5371b5f3d3d button.colab-df-convert');\n",
              "        buttonEl.style.display =\n",
              "          google.colab.kernel.accessAllowed ? 'block' : 'none';\n",
              "\n",
              "        async function convertToInteractive(key) {\n",
              "          const element = document.querySelector('#df-4a0c9b8b-cdb9-41be-8188-b5371b5f3d3d');\n",
              "          const dataTable =\n",
              "            await google.colab.kernel.invokeFunction('convertToInteractive',\n",
              "                                                     [key], {});\n",
              "          if (!dataTable) return;\n",
              "\n",
              "          const docLinkHtml = 'Like what you see? Visit the ' +\n",
              "            '<a target=\"_blank\" href=https://colab.research.google.com/notebooks/data_table.ipynb>data table notebook</a>'\n",
              "            + ' to learn more about interactive tables.';\n",
              "          element.innerHTML = '';\n",
              "          dataTable['output_type'] = 'display_data';\n",
              "          await google.colab.output.renderOutput(dataTable, element);\n",
              "          const docLink = document.createElement('div');\n",
              "          docLink.innerHTML = docLinkHtml;\n",
              "          element.appendChild(docLink);\n",
              "        }\n",
              "      </script>\n",
              "    </div>\n",
              "  </div>\n",
              "  "
            ]
          },
          "metadata": {},
          "execution_count": 53
        }
      ]
    },
    {
      "cell_type": "code",
      "source": [
        "gdf = gpd.GeoDataFrame(latlong, geometry=\"Coordinates\")\n",
        "gdf.head()\n"
      ],
      "metadata": {
        "colab": {
          "base_uri": "https://localhost:8080/",
          "height": 206
        },
        "id": "e7o7cxWsXO-I",
        "outputId": "321a0e76-abf4-4520-beac-79ca3faa88e1"
      },
      "execution_count": 54,
      "outputs": [
        {
          "output_type": "execute_result",
          "data": {
            "text/plain": [
              "    LATITUD   LONGITUD                  Coordinates\n",
              "0  22.20887 -102.02210  POINT (-102.02210 22.20887)\n",
              "1  21.99958 -102.20075  POINT (-102.20075 21.99958)\n",
              "2  22.36685 -102.28801  POINT (-102.28801 22.36685)\n",
              "3  22.18435 -102.29449  POINT (-102.29449 22.18435)\n",
              "4  23.45138 -110.24480  POINT (-110.24480 23.45138)"
            ],
            "text/html": [
              "\n",
              "  <div id=\"df-003840df-1d70-46fb-a820-1b83e1d45862\">\n",
              "    <div class=\"colab-df-container\">\n",
              "      <div>\n",
              "<style scoped>\n",
              "    .dataframe tbody tr th:only-of-type {\n",
              "        vertical-align: middle;\n",
              "    }\n",
              "\n",
              "    .dataframe tbody tr th {\n",
              "        vertical-align: top;\n",
              "    }\n",
              "\n",
              "    .dataframe thead th {\n",
              "        text-align: right;\n",
              "    }\n",
              "</style>\n",
              "<table border=\"1\" class=\"dataframe\">\n",
              "  <thead>\n",
              "    <tr style=\"text-align: right;\">\n",
              "      <th></th>\n",
              "      <th>LATITUD</th>\n",
              "      <th>LONGITUD</th>\n",
              "      <th>Coordinates</th>\n",
              "    </tr>\n",
              "  </thead>\n",
              "  <tbody>\n",
              "    <tr>\n",
              "      <th>0</th>\n",
              "      <td>22.20887</td>\n",
              "      <td>-102.02210</td>\n",
              "      <td>POINT (-102.02210 22.20887)</td>\n",
              "    </tr>\n",
              "    <tr>\n",
              "      <th>1</th>\n",
              "      <td>21.99958</td>\n",
              "      <td>-102.20075</td>\n",
              "      <td>POINT (-102.20075 21.99958)</td>\n",
              "    </tr>\n",
              "    <tr>\n",
              "      <th>2</th>\n",
              "      <td>22.36685</td>\n",
              "      <td>-102.28801</td>\n",
              "      <td>POINT (-102.28801 22.36685)</td>\n",
              "    </tr>\n",
              "    <tr>\n",
              "      <th>3</th>\n",
              "      <td>22.18435</td>\n",
              "      <td>-102.29449</td>\n",
              "      <td>POINT (-102.29449 22.18435)</td>\n",
              "    </tr>\n",
              "    <tr>\n",
              "      <th>4</th>\n",
              "      <td>23.45138</td>\n",
              "      <td>-110.24480</td>\n",
              "      <td>POINT (-110.24480 23.45138)</td>\n",
              "    </tr>\n",
              "  </tbody>\n",
              "</table>\n",
              "</div>\n",
              "      <button class=\"colab-df-convert\" onclick=\"convertToInteractive('df-003840df-1d70-46fb-a820-1b83e1d45862')\"\n",
              "              title=\"Convert this dataframe to an interactive table.\"\n",
              "              style=\"display:none;\">\n",
              "        \n",
              "  <svg xmlns=\"http://www.w3.org/2000/svg\" height=\"24px\"viewBox=\"0 0 24 24\"\n",
              "       width=\"24px\">\n",
              "    <path d=\"M0 0h24v24H0V0z\" fill=\"none\"/>\n",
              "    <path d=\"M18.56 5.44l.94 2.06.94-2.06 2.06-.94-2.06-.94-.94-2.06-.94 2.06-2.06.94zm-11 1L8.5 8.5l.94-2.06 2.06-.94-2.06-.94L8.5 2.5l-.94 2.06-2.06.94zm10 10l.94 2.06.94-2.06 2.06-.94-2.06-.94-.94-2.06-.94 2.06-2.06.94z\"/><path d=\"M17.41 7.96l-1.37-1.37c-.4-.4-.92-.59-1.43-.59-.52 0-1.04.2-1.43.59L10.3 9.45l-7.72 7.72c-.78.78-.78 2.05 0 2.83L4 21.41c.39.39.9.59 1.41.59.51 0 1.02-.2 1.41-.59l7.78-7.78 2.81-2.81c.8-.78.8-2.07 0-2.86zM5.41 20L4 18.59l7.72-7.72 1.47 1.35L5.41 20z\"/>\n",
              "  </svg>\n",
              "      </button>\n",
              "      \n",
              "  <style>\n",
              "    .colab-df-container {\n",
              "      display:flex;\n",
              "      flex-wrap:wrap;\n",
              "      gap: 12px;\n",
              "    }\n",
              "\n",
              "    .colab-df-convert {\n",
              "      background-color: #E8F0FE;\n",
              "      border: none;\n",
              "      border-radius: 50%;\n",
              "      cursor: pointer;\n",
              "      display: none;\n",
              "      fill: #1967D2;\n",
              "      height: 32px;\n",
              "      padding: 0 0 0 0;\n",
              "      width: 32px;\n",
              "    }\n",
              "\n",
              "    .colab-df-convert:hover {\n",
              "      background-color: #E2EBFA;\n",
              "      box-shadow: 0px 1px 2px rgba(60, 64, 67, 0.3), 0px 1px 3px 1px rgba(60, 64, 67, 0.15);\n",
              "      fill: #174EA6;\n",
              "    }\n",
              "\n",
              "    [theme=dark] .colab-df-convert {\n",
              "      background-color: #3B4455;\n",
              "      fill: #D2E3FC;\n",
              "    }\n",
              "\n",
              "    [theme=dark] .colab-df-convert:hover {\n",
              "      background-color: #434B5C;\n",
              "      box-shadow: 0px 1px 3px 1px rgba(0, 0, 0, 0.15);\n",
              "      filter: drop-shadow(0px 1px 2px rgba(0, 0, 0, 0.3));\n",
              "      fill: #FFFFFF;\n",
              "    }\n",
              "  </style>\n",
              "\n",
              "      <script>\n",
              "        const buttonEl =\n",
              "          document.querySelector('#df-003840df-1d70-46fb-a820-1b83e1d45862 button.colab-df-convert');\n",
              "        buttonEl.style.display =\n",
              "          google.colab.kernel.accessAllowed ? 'block' : 'none';\n",
              "\n",
              "        async function convertToInteractive(key) {\n",
              "          const element = document.querySelector('#df-003840df-1d70-46fb-a820-1b83e1d45862');\n",
              "          const dataTable =\n",
              "            await google.colab.kernel.invokeFunction('convertToInteractive',\n",
              "                                                     [key], {});\n",
              "          if (!dataTable) return;\n",
              "\n",
              "          const docLinkHtml = 'Like what you see? Visit the ' +\n",
              "            '<a target=\"_blank\" href=https://colab.research.google.com/notebooks/data_table.ipynb>data table notebook</a>'\n",
              "            + ' to learn more about interactive tables.';\n",
              "          element.innerHTML = '';\n",
              "          dataTable['output_type'] = 'display_data';\n",
              "          await google.colab.output.renderOutput(dataTable, element);\n",
              "          const docLink = document.createElement('div');\n",
              "          docLink.innerHTML = docLinkHtml;\n",
              "          element.appendChild(docLink);\n",
              "        }\n",
              "      </script>\n",
              "    </div>\n",
              "  </div>\n",
              "  "
            ]
          },
          "metadata": {},
          "execution_count": 54
        }
      ]
    },
    {
      "cell_type": "code",
      "source": [
        "world = gpd.read_file(gpd.datasets.get_path(\"naturalearth_lowres\"))\n",
        "world = world.set_index(\"iso_a3\")\n",
        "world.head()\n"
      ],
      "metadata": {
        "colab": {
          "base_uri": "https://localhost:8080/",
          "height": 237
        },
        "id": "cVKSQGOpUOkE",
        "outputId": "468b875f-f57c-4e24-8ba2-6e3591380de9"
      },
      "execution_count": 55,
      "outputs": [
        {
          "output_type": "execute_result",
          "data": {
            "text/plain": [
              "          pop_est      continent                      name  gdp_md_est  \\\n",
              "iso_a3                                                                   \n",
              "FJI        920938        Oceania                      Fiji      8374.0   \n",
              "TZA      53950935         Africa                  Tanzania    150600.0   \n",
              "ESH        603253         Africa                 W. Sahara       906.5   \n",
              "CAN      35623680  North America                    Canada   1674000.0   \n",
              "USA     326625791  North America  United States of America  18560000.0   \n",
              "\n",
              "                                                 geometry  \n",
              "iso_a3                                                     \n",
              "FJI     MULTIPOLYGON (((180.00000 -16.06713, 180.00000...  \n",
              "TZA     POLYGON ((33.90371 -0.95000, 34.07262 -1.05982...  \n",
              "ESH     POLYGON ((-8.66559 27.65643, -8.66512 27.58948...  \n",
              "CAN     MULTIPOLYGON (((-122.84000 49.00000, -122.9742...  \n",
              "USA     MULTIPOLYGON (((-122.84000 49.00000, -120.0000...  "
            ],
            "text/html": [
              "\n",
              "  <div id=\"df-634b777e-fbb0-4603-b0a4-2eb28992e464\">\n",
              "    <div class=\"colab-df-container\">\n",
              "      <div>\n",
              "<style scoped>\n",
              "    .dataframe tbody tr th:only-of-type {\n",
              "        vertical-align: middle;\n",
              "    }\n",
              "\n",
              "    .dataframe tbody tr th {\n",
              "        vertical-align: top;\n",
              "    }\n",
              "\n",
              "    .dataframe thead th {\n",
              "        text-align: right;\n",
              "    }\n",
              "</style>\n",
              "<table border=\"1\" class=\"dataframe\">\n",
              "  <thead>\n",
              "    <tr style=\"text-align: right;\">\n",
              "      <th></th>\n",
              "      <th>pop_est</th>\n",
              "      <th>continent</th>\n",
              "      <th>name</th>\n",
              "      <th>gdp_md_est</th>\n",
              "      <th>geometry</th>\n",
              "    </tr>\n",
              "    <tr>\n",
              "      <th>iso_a3</th>\n",
              "      <th></th>\n",
              "      <th></th>\n",
              "      <th></th>\n",
              "      <th></th>\n",
              "      <th></th>\n",
              "    </tr>\n",
              "  </thead>\n",
              "  <tbody>\n",
              "    <tr>\n",
              "      <th>FJI</th>\n",
              "      <td>920938</td>\n",
              "      <td>Oceania</td>\n",
              "      <td>Fiji</td>\n",
              "      <td>8374.0</td>\n",
              "      <td>MULTIPOLYGON (((180.00000 -16.06713, 180.00000...</td>\n",
              "    </tr>\n",
              "    <tr>\n",
              "      <th>TZA</th>\n",
              "      <td>53950935</td>\n",
              "      <td>Africa</td>\n",
              "      <td>Tanzania</td>\n",
              "      <td>150600.0</td>\n",
              "      <td>POLYGON ((33.90371 -0.95000, 34.07262 -1.05982...</td>\n",
              "    </tr>\n",
              "    <tr>\n",
              "      <th>ESH</th>\n",
              "      <td>603253</td>\n",
              "      <td>Africa</td>\n",
              "      <td>W. Sahara</td>\n",
              "      <td>906.5</td>\n",
              "      <td>POLYGON ((-8.66559 27.65643, -8.66512 27.58948...</td>\n",
              "    </tr>\n",
              "    <tr>\n",
              "      <th>CAN</th>\n",
              "      <td>35623680</td>\n",
              "      <td>North America</td>\n",
              "      <td>Canada</td>\n",
              "      <td>1674000.0</td>\n",
              "      <td>MULTIPOLYGON (((-122.84000 49.00000, -122.9742...</td>\n",
              "    </tr>\n",
              "    <tr>\n",
              "      <th>USA</th>\n",
              "      <td>326625791</td>\n",
              "      <td>North America</td>\n",
              "      <td>United States of America</td>\n",
              "      <td>18560000.0</td>\n",
              "      <td>MULTIPOLYGON (((-122.84000 49.00000, -120.0000...</td>\n",
              "    </tr>\n",
              "  </tbody>\n",
              "</table>\n",
              "</div>\n",
              "      <button class=\"colab-df-convert\" onclick=\"convertToInteractive('df-634b777e-fbb0-4603-b0a4-2eb28992e464')\"\n",
              "              title=\"Convert this dataframe to an interactive table.\"\n",
              "              style=\"display:none;\">\n",
              "        \n",
              "  <svg xmlns=\"http://www.w3.org/2000/svg\" height=\"24px\"viewBox=\"0 0 24 24\"\n",
              "       width=\"24px\">\n",
              "    <path d=\"M0 0h24v24H0V0z\" fill=\"none\"/>\n",
              "    <path d=\"M18.56 5.44l.94 2.06.94-2.06 2.06-.94-2.06-.94-.94-2.06-.94 2.06-2.06.94zm-11 1L8.5 8.5l.94-2.06 2.06-.94-2.06-.94L8.5 2.5l-.94 2.06-2.06.94zm10 10l.94 2.06.94-2.06 2.06-.94-2.06-.94-.94-2.06-.94 2.06-2.06.94z\"/><path d=\"M17.41 7.96l-1.37-1.37c-.4-.4-.92-.59-1.43-.59-.52 0-1.04.2-1.43.59L10.3 9.45l-7.72 7.72c-.78.78-.78 2.05 0 2.83L4 21.41c.39.39.9.59 1.41.59.51 0 1.02-.2 1.41-.59l7.78-7.78 2.81-2.81c.8-.78.8-2.07 0-2.86zM5.41 20L4 18.59l7.72-7.72 1.47 1.35L5.41 20z\"/>\n",
              "  </svg>\n",
              "      </button>\n",
              "      \n",
              "  <style>\n",
              "    .colab-df-container {\n",
              "      display:flex;\n",
              "      flex-wrap:wrap;\n",
              "      gap: 12px;\n",
              "    }\n",
              "\n",
              "    .colab-df-convert {\n",
              "      background-color: #E8F0FE;\n",
              "      border: none;\n",
              "      border-radius: 50%;\n",
              "      cursor: pointer;\n",
              "      display: none;\n",
              "      fill: #1967D2;\n",
              "      height: 32px;\n",
              "      padding: 0 0 0 0;\n",
              "      width: 32px;\n",
              "    }\n",
              "\n",
              "    .colab-df-convert:hover {\n",
              "      background-color: #E2EBFA;\n",
              "      box-shadow: 0px 1px 2px rgba(60, 64, 67, 0.3), 0px 1px 3px 1px rgba(60, 64, 67, 0.15);\n",
              "      fill: #174EA6;\n",
              "    }\n",
              "\n",
              "    [theme=dark] .colab-df-convert {\n",
              "      background-color: #3B4455;\n",
              "      fill: #D2E3FC;\n",
              "    }\n",
              "\n",
              "    [theme=dark] .colab-df-convert:hover {\n",
              "      background-color: #434B5C;\n",
              "      box-shadow: 0px 1px 3px 1px rgba(0, 0, 0, 0.15);\n",
              "      filter: drop-shadow(0px 1px 2px rgba(0, 0, 0, 0.3));\n",
              "      fill: #FFFFFF;\n",
              "    }\n",
              "  </style>\n",
              "\n",
              "      <script>\n",
              "        const buttonEl =\n",
              "          document.querySelector('#df-634b777e-fbb0-4603-b0a4-2eb28992e464 button.colab-df-convert');\n",
              "        buttonEl.style.display =\n",
              "          google.colab.kernel.accessAllowed ? 'block' : 'none';\n",
              "\n",
              "        async function convertToInteractive(key) {\n",
              "          const element = document.querySelector('#df-634b777e-fbb0-4603-b0a4-2eb28992e464');\n",
              "          const dataTable =\n",
              "            await google.colab.kernel.invokeFunction('convertToInteractive',\n",
              "                                                     [key], {});\n",
              "          if (!dataTable) return;\n",
              "\n",
              "          const docLinkHtml = 'Like what you see? Visit the ' +\n",
              "            '<a target=\"_blank\" href=https://colab.research.google.com/notebooks/data_table.ipynb>data table notebook</a>'\n",
              "            + ' to learn more about interactive tables.';\n",
              "          element.innerHTML = '';\n",
              "          dataTable['output_type'] = 'display_data';\n",
              "          await google.colab.output.renderOutput(dataTable, element);\n",
              "          const docLink = document.createElement('div');\n",
              "          docLink.innerHTML = docLinkHtml;\n",
              "          element.appendChild(docLink);\n",
              "        }\n",
              "      </script>\n",
              "    </div>\n",
              "  </div>\n",
              "  "
            ]
          },
          "metadata": {},
          "execution_count": 55
        }
      ]
    },
    {
      "cell_type": "code",
      "source": [
        "world.name.unique()"
      ],
      "metadata": {
        "colab": {
          "base_uri": "https://localhost:8080/"
        },
        "id": "70CsUmbXUX-c",
        "outputId": "57fcbe64-76fb-4073-9fb0-ceebe0761d2f"
      },
      "execution_count": 56,
      "outputs": [
        {
          "output_type": "execute_result",
          "data": {
            "text/plain": [
              "array(['Fiji', 'Tanzania', 'W. Sahara', 'Canada',\n",
              "       'United States of America', 'Kazakhstan', 'Uzbekistan',\n",
              "       'Papua New Guinea', 'Indonesia', 'Argentina', 'Chile',\n",
              "       'Dem. Rep. Congo', 'Somalia', 'Kenya', 'Sudan', 'Chad', 'Haiti',\n",
              "       'Dominican Rep.', 'Russia', 'Bahamas', 'Falkland Is.', 'Norway',\n",
              "       'Greenland', 'Fr. S. Antarctic Lands', 'Timor-Leste',\n",
              "       'South Africa', 'Lesotho', 'Mexico', 'Uruguay', 'Brazil',\n",
              "       'Bolivia', 'Peru', 'Colombia', 'Panama', 'Costa Rica', 'Nicaragua',\n",
              "       'Honduras', 'El Salvador', 'Guatemala', 'Belize', 'Venezuela',\n",
              "       'Guyana', 'Suriname', 'France', 'Ecuador', 'Puerto Rico',\n",
              "       'Jamaica', 'Cuba', 'Zimbabwe', 'Botswana', 'Namibia', 'Senegal',\n",
              "       'Mali', 'Mauritania', 'Benin', 'Niger', 'Nigeria', 'Cameroon',\n",
              "       'Togo', 'Ghana', \"Côte d'Ivoire\", 'Guinea', 'Guinea-Bissau',\n",
              "       'Liberia', 'Sierra Leone', 'Burkina Faso', 'Central African Rep.',\n",
              "       'Congo', 'Gabon', 'Eq. Guinea', 'Zambia', 'Malawi', 'Mozambique',\n",
              "       'eSwatini', 'Angola', 'Burundi', 'Israel', 'Lebanon', 'Madagascar',\n",
              "       'Palestine', 'Gambia', 'Tunisia', 'Algeria', 'Jordan',\n",
              "       'United Arab Emirates', 'Qatar', 'Kuwait', 'Iraq', 'Oman',\n",
              "       'Vanuatu', 'Cambodia', 'Thailand', 'Laos', 'Myanmar', 'Vietnam',\n",
              "       'North Korea', 'South Korea', 'Mongolia', 'India', 'Bangladesh',\n",
              "       'Bhutan', 'Nepal', 'Pakistan', 'Afghanistan', 'Tajikistan',\n",
              "       'Kyrgyzstan', 'Turkmenistan', 'Iran', 'Syria', 'Armenia', 'Sweden',\n",
              "       'Belarus', 'Ukraine', 'Poland', 'Austria', 'Hungary', 'Moldova',\n",
              "       'Romania', 'Lithuania', 'Latvia', 'Estonia', 'Germany', 'Bulgaria',\n",
              "       'Greece', 'Turkey', 'Albania', 'Croatia', 'Switzerland',\n",
              "       'Luxembourg', 'Belgium', 'Netherlands', 'Portugal', 'Spain',\n",
              "       'Ireland', 'New Caledonia', 'Solomon Is.', 'New Zealand',\n",
              "       'Australia', 'Sri Lanka', 'China', 'Taiwan', 'Italy', 'Denmark',\n",
              "       'United Kingdom', 'Iceland', 'Azerbaijan', 'Georgia',\n",
              "       'Philippines', 'Malaysia', 'Brunei', 'Slovenia', 'Finland',\n",
              "       'Slovakia', 'Czechia', 'Eritrea', 'Japan', 'Paraguay', 'Yemen',\n",
              "       'Saudi Arabia', 'Antarctica', 'N. Cyprus', 'Cyprus', 'Morocco',\n",
              "       'Egypt', 'Libya', 'Ethiopia', 'Djibouti', 'Somaliland', 'Uganda',\n",
              "       'Rwanda', 'Bosnia and Herz.', 'Macedonia', 'Serbia', 'Montenegro',\n",
              "       'Kosovo', 'Trinidad and Tobago', 'S. Sudan'], dtype=object)"
            ]
          },
          "metadata": {},
          "execution_count": 56
        }
      ]
    },
    {
      "cell_type": "code",
      "source": [
        "import matplotlib.pyplot as plt\n",
        "fig, gax = plt.subplots(figsize=(10,10))\n",
        "\n",
        "world.query(\"name == 'Mexico'\").plot(ax=gax,\n",
        "edgecolor='black',color='white')\n",
        "\n",
        "gdf.plot(ax=gax, color='red', alpha = 0.5)\n",
        "gax.set_xlabel('Longitud')\n",
        "gax.set_ylabel('Latitud')\n",
        "gax.set_title('Aguas Subterraneas en México')\n",
        "gax.spines['top'].set_visible(False)\n",
        "gax.spines['right'].set_visible(False)\n",
        "plt.show()"
      ],
      "metadata": {
        "colab": {
          "base_uri": "https://localhost:8080/",
          "height": 437
        },
        "id": "6y6fqJloU1sl",
        "outputId": "1b0edb34-5b79-400d-8fb5-f7b971ef1c3a"
      },
      "execution_count": 57,
      "outputs": [
        {
          "output_type": "display_data",
          "data": {
            "text/plain": [
              "<Figure size 720x720 with 1 Axes>"
            ],
            "image/png": "[encoded data removed]"
          },
          "metadata": {}
        }
      ]
    },
    {
      "cell_type": "markdown",
      "source": [
        "#*Realizar un análisis para encontrar si existe una relación entre la calidad de agua y su ubicación geográfica a través de K-means.\n",
        "\n",
        "\n",
        "\n"
      ],
      "metadata": {
        "id": "swTLzPIBnD0T"
      }
    },
    {
      "cell_type": "code",
      "source": [
        "! pip install haversine"
      ],
      "metadata": {
        "colab": {
          "base_uri": "https://localhost:8080/"
        },
        "id": "eRSexZRFoOZB",
        "outputId": "b91c0bc4-d9e3-46b3-b3e6-2e3cf4f24edc"
      },
      "execution_count": 58,
      "outputs": [
        {
          "output_type": "stream",
          "name": "stdout",
          "text": [
            "Looking in indexes: https://pypi.org/simple, https://us-python.pkg.dev/colab-wheels/public/simple/\n",
            "Requirement already satisfied: haversine in /usr/local/lib/python3.7/dist-packages (2.7.0)\n"
          ]
        }
      ]
    },
    {
      "cell_type": "code",
      "source": [
        "#Librerias para el análisis de K-MEANS\n",
        "import scipy.spatial\n",
        "from haversine import haversine\n",
        "from sklearn.cluster import KMeans\n"
      ],
      "metadata": {
        "id": "Utc9gdS4nBpG"
      },
      "execution_count": 59,
      "outputs": []
    },
    {
      "cell_type": "code",
      "source": [
        "#Revisión de los datos de latitud y longitud\n",
        "latlong.info()"
      ],
      "metadata": {
        "colab": {
          "base_uri": "https://localhost:8080/"
        },
        "id": "SUvfMYYMnrZ8",
        "outputId": "115ef02c-47de-4c4c-afe1-b401d94765df"
      },
      "execution_count": 76,
      "outputs": [
        {
          "output_type": "stream",
          "name": "stdout",
          "text": [
            "<class 'pandas.core.frame.DataFrame'>\n",
            "RangeIndex: 1068 entries, 0 to 1067\n",
            "Data columns (total 4 columns):\n",
            " #   Column       Non-Null Count  Dtype   \n",
            "---  ------       --------------  -----   \n",
            " 0   LATITUD      1068 non-null   float64 \n",
            " 1   LONGITUD     1068 non-null   float64 \n",
            " 2   Coordinates  1068 non-null   geometry\n",
            " 3   Semaforo     1068 non-null   object  \n",
            "dtypes: float64(2), geometry(1), object(1)\n",
            "memory usage: 33.5+ KB\n"
          ]
        }
      ]
    },
    {
      "cell_type": "code",
      "source": [
        "#Ajuste del modelo\n",
        "kmeans = KMeans(n_clusters=3)\n",
        "kmeans.fit(latlong)"
      ],
      "metadata": {
        "colab": {
          "base_uri": "https://localhost:8080/",
          "height": 346
        },
        "id": "DBR1gbBCoWYA",
        "outputId": "bf3ff53c-1eff-4781-df94-0617e955f242"
      },
      "execution_count": 77,
      "outputs": [
        {
          "output_type": "error",
          "ename": "TypeError",
          "evalue": "ignored",
          "traceback": [
            "\u001b[0;31m---------------------------------------------------------------------------\u001b[0m",
            "\u001b[0;31mTypeError\u001b[0m                                 Traceback (most recent call last)",
            "\u001b[0;32m<ipython-input-77-3bf8f2514289>\u001b[0m in \u001b[0;36m<module>\u001b[0;34m\u001b[0m\n\u001b[1;32m      1\u001b[0m \u001b[0;31m#Ajuste del modelo\u001b[0m\u001b[0;34m\u001b[0m\u001b[0;34m\u001b[0m\u001b[0;34m\u001b[0m\u001b[0m\n\u001b[1;32m      2\u001b[0m \u001b[0mkmeans\u001b[0m \u001b[0;34m=\u001b[0m \u001b[0mKMeans\u001b[0m\u001b[0;34m(\u001b[0m\u001b[0mn_clusters\u001b[0m\u001b[0;34m=\u001b[0m\u001b[0;36m3\u001b[0m\u001b[0;34m)\u001b[0m\u001b[0;34m\u001b[0m\u001b[0;34m\u001b[0m\u001b[0m\n\u001b[0;32m----> 3\u001b[0;31m \u001b[0mkmeans\u001b[0m\u001b[0;34m.\u001b[0m\u001b[0mfit\u001b[0m\u001b[0;34m(\u001b[0m\u001b[0mlatlong\u001b[0m\u001b[0;34m)\u001b[0m\u001b[0;34m\u001b[0m\u001b[0;34m\u001b[0m\u001b[0m\n\u001b[0m",
            "\u001b[0;32m/usr/local/lib/python3.7/dist-packages/sklearn/cluster/_kmeans.py\u001b[0m in \u001b[0;36mfit\u001b[0;34m(self, X, y, sample_weight)\u001b[0m\n\u001b[1;32m   1141\u001b[0m             \u001b[0morder\u001b[0m\u001b[0;34m=\u001b[0m\u001b[0;34m\"C\"\u001b[0m\u001b[0;34m,\u001b[0m\u001b[0;34m\u001b[0m\u001b[0;34m\u001b[0m\u001b[0m\n\u001b[1;32m   1142\u001b[0m             \u001b[0mcopy\u001b[0m\u001b[0;34m=\u001b[0m\u001b[0mself\u001b[0m\u001b[0;34m.\u001b[0m\u001b[0mcopy_x\u001b[0m\u001b[0;34m,\u001b[0m\u001b[0;34m\u001b[0m\u001b[0;34m\u001b[0m\u001b[0m\n\u001b[0;32m-> 1143\u001b[0;31m             \u001b[0maccept_large_sparse\u001b[0m\u001b[0;34m=\u001b[0m\u001b[0;32mFalse\u001b[0m\u001b[0;34m,\u001b[0m\u001b[0;34m\u001b[0m\u001b[0;34m\u001b[0m\u001b[0m\n\u001b[0m\u001b[1;32m   1144\u001b[0m         )\n\u001b[1;32m   1145\u001b[0m \u001b[0;34m\u001b[0m\u001b[0m\n",
            "\u001b[0;32m/usr/local/lib/python3.7/dist-packages/sklearn/base.py\u001b[0m in \u001b[0;36m_validate_data\u001b[0;34m(self, X, y, reset, validate_separately, **check_params)\u001b[0m\n\u001b[1;32m    564\u001b[0m             \u001b[0;32mraise\u001b[0m \u001b[0mValueError\u001b[0m\u001b[0;34m(\u001b[0m\u001b[0;34m\"Validation should be done on X, y or both.\"\u001b[0m\u001b[0;34m)\u001b[0m\u001b[0;34m\u001b[0m\u001b[0;34m\u001b[0m\u001b[0m\n\u001b[1;32m    565\u001b[0m         \u001b[0;32melif\u001b[0m \u001b[0;32mnot\u001b[0m \u001b[0mno_val_X\u001b[0m \u001b[0;32mand\u001b[0m \u001b[0mno_val_y\u001b[0m\u001b[0;34m:\u001b[0m\u001b[0;34m\u001b[0m\u001b[0;34m\u001b[0m\u001b[0m\n\u001b[0;32m--> 566\u001b[0;31m             \u001b[0mX\u001b[0m \u001b[0;34m=\u001b[0m \u001b[0mcheck_array\u001b[0m\u001b[0;34m(\u001b[0m\u001b[0mX\u001b[0m\u001b[0;34m,\u001b[0m \u001b[0;34m**\u001b[0m\u001b[0mcheck_params\u001b[0m\u001b[0;34m)\u001b[0m\u001b[0;34m\u001b[0m\u001b[0;34m\u001b[0m\u001b[0m\n\u001b[0m\u001b[1;32m    567\u001b[0m             \u001b[0mout\u001b[0m \u001b[0;34m=\u001b[0m \u001b[0mX\u001b[0m\u001b[0;34m\u001b[0m\u001b[0;34m\u001b[0m\u001b[0m\n\u001b[1;32m    568\u001b[0m         \u001b[0;32melif\u001b[0m \u001b[0mno_val_X\u001b[0m \u001b[0;32mand\u001b[0m \u001b[0;32mnot\u001b[0m \u001b[0mno_val_y\u001b[0m\u001b[0;34m:\u001b[0m\u001b[0;34m\u001b[0m\u001b[0;34m\u001b[0m\u001b[0m\n",
            "\u001b[0;32m/usr/local/lib/python3.7/dist-packages/sklearn/utils/validation.py\u001b[0m in \u001b[0;36mcheck_array\u001b[0;34m(array, accept_sparse, accept_large_sparse, dtype, order, copy, force_all_finite, ensure_2d, allow_nd, ensure_min_samples, ensure_min_features, estimator)\u001b[0m\n\u001b[1;32m    744\u001b[0m                     \u001b[0marray\u001b[0m \u001b[0;34m=\u001b[0m \u001b[0marray\u001b[0m\u001b[0;34m.\u001b[0m\u001b[0mastype\u001b[0m\u001b[0;34m(\u001b[0m\u001b[0mdtype\u001b[0m\u001b[0;34m,\u001b[0m \u001b[0mcasting\u001b[0m\u001b[0;34m=\u001b[0m\u001b[0;34m\"unsafe\"\u001b[0m\u001b[0;34m,\u001b[0m \u001b[0mcopy\u001b[0m\u001b[0;34m=\u001b[0m\u001b[0;32mFalse\u001b[0m\u001b[0;34m)\u001b[0m\u001b[0;34m\u001b[0m\u001b[0;34m\u001b[0m\u001b[0m\n\u001b[1;32m    745\u001b[0m                 \u001b[0;32melse\u001b[0m\u001b[0;34m:\u001b[0m\u001b[0;34m\u001b[0m\u001b[0;34m\u001b[0m\u001b[0m\n\u001b[0;32m--> 746\u001b[0;31m                     \u001b[0marray\u001b[0m \u001b[0;34m=\u001b[0m \u001b[0mnp\u001b[0m\u001b[0;34m.\u001b[0m\u001b[0masarray\u001b[0m\u001b[0;34m(\u001b[0m\u001b[0marray\u001b[0m\u001b[0;34m,\u001b[0m \u001b[0morder\u001b[0m\u001b[0;34m=\u001b[0m\u001b[0morder\u001b[0m\u001b[0;34m,\u001b[0m \u001b[0mdtype\u001b[0m\u001b[0;34m=\u001b[0m\u001b[0mdtype\u001b[0m\u001b[0;34m)\u001b[0m\u001b[0;34m\u001b[0m\u001b[0;34m\u001b[0m\u001b[0m\n\u001b[0m\u001b[1;32m    747\u001b[0m             \u001b[0;32mexcept\u001b[0m \u001b[0mComplexWarning\u001b[0m \u001b[0;32mas\u001b[0m \u001b[0mcomplex_warning\u001b[0m\u001b[0;34m:\u001b[0m\u001b[0;34m\u001b[0m\u001b[0;34m\u001b[0m\u001b[0m\n\u001b[1;32m    748\u001b[0m                 raise ValueError(\n",
            "\u001b[0;32m/usr/local/lib/python3.7/dist-packages/pandas/core/generic.py\u001b[0m in \u001b[0;36m__array__\u001b[0;34m(self, dtype)\u001b[0m\n\u001b[1;32m   1991\u001b[0m \u001b[0;34m\u001b[0m\u001b[0m\n\u001b[1;32m   1992\u001b[0m     \u001b[0;32mdef\u001b[0m \u001b[0m__array__\u001b[0m\u001b[0;34m(\u001b[0m\u001b[0mself\u001b[0m\u001b[0;34m,\u001b[0m \u001b[0mdtype\u001b[0m\u001b[0;34m:\u001b[0m \u001b[0mNpDtype\u001b[0m \u001b[0;34m|\u001b[0m \u001b[0;32mNone\u001b[0m \u001b[0;34m=\u001b[0m \u001b[0;32mNone\u001b[0m\u001b[0;34m)\u001b[0m \u001b[0;34m->\u001b[0m \u001b[0mnp\u001b[0m\u001b[0;34m.\u001b[0m\u001b[0mndarray\u001b[0m\u001b[0;34m:\u001b[0m\u001b[0;34m\u001b[0m\u001b[0;34m\u001b[0m\u001b[0m\n\u001b[0;32m-> 1993\u001b[0;31m         \u001b[0;32mreturn\u001b[0m \u001b[0mnp\u001b[0m\u001b[0;34m.\u001b[0m\u001b[0masarray\u001b[0m\u001b[0;34m(\u001b[0m\u001b[0mself\u001b[0m\u001b[0;34m.\u001b[0m\u001b[0m_values\u001b[0m\u001b[0;34m,\u001b[0m \u001b[0mdtype\u001b[0m\u001b[0;34m=\u001b[0m\u001b[0mdtype\u001b[0m\u001b[0;34m)\u001b[0m\u001b[0;34m\u001b[0m\u001b[0;34m\u001b[0m\u001b[0m\n\u001b[0m\u001b[1;32m   1994\u001b[0m \u001b[0;34m\u001b[0m\u001b[0m\n\u001b[1;32m   1995\u001b[0m     def __array_wrap__(\n",
            "\u001b[0;31mTypeError\u001b[0m: float() argument must be a string or a number, not 'Point'"
          ]
        }
      ]
    },
    {
      "cell_type": "code",
      "source": [
        "centers = kmeans.cluster_centers_\n",
        "print(\"'kmeans' model intances is trained and the cluster centroids are stored in 'centers'\")\n",
        "centers"
      ],
      "metadata": {
        "colab": {
          "base_uri": "https://localhost:8080/",
          "height": 201
        },
        "id": "AOTpGm2gpL4K",
        "outputId": "2de81663-dd5b-49f6-8b40-911db23441e7"
      },
      "execution_count": 78,
      "outputs": [
        {
          "output_type": "error",
          "ename": "AttributeError",
          "evalue": "ignored",
          "traceback": [
            "\u001b[0;31m---------------------------------------------------------------------------\u001b[0m",
            "\u001b[0;31mAttributeError\u001b[0m                            Traceback (most recent call last)",
            "\u001b[0;32m<ipython-input-78-9d4a00c579d2>\u001b[0m in \u001b[0;36m<module>\u001b[0;34m\u001b[0m\n\u001b[0;32m----> 1\u001b[0;31m \u001b[0mcenters\u001b[0m \u001b[0;34m=\u001b[0m \u001b[0mkmeans\u001b[0m\u001b[0;34m.\u001b[0m\u001b[0mcluster_centers_\u001b[0m\u001b[0;34m\u001b[0m\u001b[0;34m\u001b[0m\u001b[0m\n\u001b[0m\u001b[1;32m      2\u001b[0m \u001b[0mprint\u001b[0m\u001b[0;34m(\u001b[0m\u001b[0;34m\"'kmeans' model intances is trained and the cluster centroids are stored in 'centers'\"\u001b[0m\u001b[0;34m)\u001b[0m\u001b[0;34m\u001b[0m\u001b[0;34m\u001b[0m\u001b[0m\n\u001b[1;32m      3\u001b[0m \u001b[0mcenters\u001b[0m\u001b[0;34m\u001b[0m\u001b[0;34m\u001b[0m\u001b[0m\n",
            "\u001b[0;31mAttributeError\u001b[0m: 'KMeans' object has no attribute 'cluster_centers_'"
          ]
        }
      ]
    },
    {
      "cell_type": "code",
      "source": [
        "sum_square = {}\n",
        "for k in range(1, 10):\n",
        " kmeans = KMeans(n_clusters=k).fit(latlong)\n",
        " sum_square[k] = kmeans.inertia_\n",
        "\n",
        "fig,ax = plt.subplots(figsize=(18,5))\n",
        "ax.plot(list(sum_square.keys()),\n",
        "list(sum_square.values()),ls='-',marker='H', color='DarkBlue', lw=2, markersize=12,markerfacecolor = 'DarkGreen')\n",
        "ax.set_xlabel(\"Value of k\")\n",
        "ax.set_ylabel(\"Kmeans.inertia_\")"
      ],
      "metadata": {
        "colab": {
          "base_uri": "https://localhost:8080/",
          "height": 381
        },
        "id": "m-kOYqGip0qS",
        "outputId": "4017e6eb-952b-43c2-a2fa-7a0f7a033e8c"
      },
      "execution_count": 79,
      "outputs": [
        {
          "output_type": "error",
          "ename": "TypeError",
          "evalue": "ignored",
          "traceback": [
            "\u001b[0;31m---------------------------------------------------------------------------\u001b[0m",
            "\u001b[0;31mTypeError\u001b[0m                                 Traceback (most recent call last)",
            "\u001b[0;32m<ipython-input-79-5c14a745478a>\u001b[0m in \u001b[0;36m<module>\u001b[0;34m\u001b[0m\n\u001b[1;32m      1\u001b[0m \u001b[0msum_square\u001b[0m \u001b[0;34m=\u001b[0m \u001b[0;34m{\u001b[0m\u001b[0;34m}\u001b[0m\u001b[0;34m\u001b[0m\u001b[0;34m\u001b[0m\u001b[0m\n\u001b[1;32m      2\u001b[0m \u001b[0;32mfor\u001b[0m \u001b[0mk\u001b[0m \u001b[0;32min\u001b[0m \u001b[0mrange\u001b[0m\u001b[0;34m(\u001b[0m\u001b[0;36m1\u001b[0m\u001b[0;34m,\u001b[0m \u001b[0;36m10\u001b[0m\u001b[0;34m)\u001b[0m\u001b[0;34m:\u001b[0m\u001b[0;34m\u001b[0m\u001b[0;34m\u001b[0m\u001b[0m\n\u001b[0;32m----> 3\u001b[0;31m  \u001b[0mkmeans\u001b[0m \u001b[0;34m=\u001b[0m \u001b[0mKMeans\u001b[0m\u001b[0;34m(\u001b[0m\u001b[0mn_clusters\u001b[0m\u001b[0;34m=\u001b[0m\u001b[0mk\u001b[0m\u001b[0;34m)\u001b[0m\u001b[0;34m.\u001b[0m\u001b[0mfit\u001b[0m\u001b[0;34m(\u001b[0m\u001b[0mlatlong\u001b[0m\u001b[0;34m)\u001b[0m\u001b[0;34m\u001b[0m\u001b[0;34m\u001b[0m\u001b[0m\n\u001b[0m\u001b[1;32m      4\u001b[0m  \u001b[0msum_square\u001b[0m\u001b[0;34m[\u001b[0m\u001b[0mk\u001b[0m\u001b[0;34m]\u001b[0m \u001b[0;34m=\u001b[0m \u001b[0mkmeans\u001b[0m\u001b[0;34m.\u001b[0m\u001b[0minertia_\u001b[0m\u001b[0;34m\u001b[0m\u001b[0;34m\u001b[0m\u001b[0m\n\u001b[1;32m      5\u001b[0m \u001b[0;34m\u001b[0m\u001b[0m\n",
            "\u001b[0;32m/usr/local/lib/python3.7/dist-packages/sklearn/cluster/_kmeans.py\u001b[0m in \u001b[0;36mfit\u001b[0;34m(self, X, y, sample_weight)\u001b[0m\n\u001b[1;32m   1141\u001b[0m             \u001b[0morder\u001b[0m\u001b[0;34m=\u001b[0m\u001b[0;34m\"C\"\u001b[0m\u001b[0;34m,\u001b[0m\u001b[0;34m\u001b[0m\u001b[0;34m\u001b[0m\u001b[0m\n\u001b[1;32m   1142\u001b[0m             \u001b[0mcopy\u001b[0m\u001b[0;34m=\u001b[0m\u001b[0mself\u001b[0m\u001b[0;34m.\u001b[0m\u001b[0mcopy_x\u001b[0m\u001b[0;34m,\u001b[0m\u001b[0;34m\u001b[0m\u001b[0;34m\u001b[0m\u001b[0m\n\u001b[0;32m-> 1143\u001b[0;31m             \u001b[0maccept_large_sparse\u001b[0m\u001b[0;34m=\u001b[0m\u001b[0;32mFalse\u001b[0m\u001b[0;34m,\u001b[0m\u001b[0;34m\u001b[0m\u001b[0;34m\u001b[0m\u001b[0m\n\u001b[0m\u001b[1;32m   1144\u001b[0m         )\n\u001b[1;32m   1145\u001b[0m \u001b[0;34m\u001b[0m\u001b[0m\n",
            "\u001b[0;32m/usr/local/lib/python3.7/dist-packages/sklearn/base.py\u001b[0m in \u001b[0;36m_validate_data\u001b[0;34m(self, X, y, reset, validate_separately, **check_params)\u001b[0m\n\u001b[1;32m    564\u001b[0m             \u001b[0;32mraise\u001b[0m \u001b[0mValueError\u001b[0m\u001b[0;34m(\u001b[0m\u001b[0;34m\"Validation should be done on X, y or both.\"\u001b[0m\u001b[0;34m)\u001b[0m\u001b[0;34m\u001b[0m\u001b[0;34m\u001b[0m\u001b[0m\n\u001b[1;32m    565\u001b[0m         \u001b[0;32melif\u001b[0m \u001b[0;32mnot\u001b[0m \u001b[0mno_val_X\u001b[0m \u001b[0;32mand\u001b[0m \u001b[0mno_val_y\u001b[0m\u001b[0;34m:\u001b[0m\u001b[0;34m\u001b[0m\u001b[0;34m\u001b[0m\u001b[0m\n\u001b[0;32m--> 566\u001b[0;31m             \u001b[0mX\u001b[0m \u001b[0;34m=\u001b[0m \u001b[0mcheck_array\u001b[0m\u001b[0;34m(\u001b[0m\u001b[0mX\u001b[0m\u001b[0;34m,\u001b[0m \u001b[0;34m**\u001b[0m\u001b[0mcheck_params\u001b[0m\u001b[0;34m)\u001b[0m\u001b[0;34m\u001b[0m\u001b[0;34m\u001b[0m\u001b[0m\n\u001b[0m\u001b[1;32m    567\u001b[0m             \u001b[0mout\u001b[0m \u001b[0;34m=\u001b[0m \u001b[0mX\u001b[0m\u001b[0;34m\u001b[0m\u001b[0;34m\u001b[0m\u001b[0m\n\u001b[1;32m    568\u001b[0m         \u001b[0;32melif\u001b[0m \u001b[0mno_val_X\u001b[0m \u001b[0;32mand\u001b[0m \u001b[0;32mnot\u001b[0m \u001b[0mno_val_y\u001b[0m\u001b[0;34m:\u001b[0m\u001b[0;34m\u001b[0m\u001b[0;34m\u001b[0m\u001b[0m\n",
            "\u001b[0;32m/usr/local/lib/python3.7/dist-packages/sklearn/utils/validation.py\u001b[0m in \u001b[0;36mcheck_array\u001b[0;34m(array, accept_sparse, accept_large_sparse, dtype, order, copy, force_all_finite, ensure_2d, allow_nd, ensure_min_samples, ensure_min_features, estimator)\u001b[0m\n\u001b[1;32m    744\u001b[0m                     \u001b[0marray\u001b[0m \u001b[0;34m=\u001b[0m \u001b[0marray\u001b[0m\u001b[0;34m.\u001b[0m\u001b[0mastype\u001b[0m\u001b[0;34m(\u001b[0m\u001b[0mdtype\u001b[0m\u001b[0;34m,\u001b[0m \u001b[0mcasting\u001b[0m\u001b[0;34m=\u001b[0m\u001b[0;34m\"unsafe\"\u001b[0m\u001b[0;34m,\u001b[0m \u001b[0mcopy\u001b[0m\u001b[0;34m=\u001b[0m\u001b[0;32mFalse\u001b[0m\u001b[0;34m)\u001b[0m\u001b[0;34m\u001b[0m\u001b[0;34m\u001b[0m\u001b[0m\n\u001b[1;32m    745\u001b[0m                 \u001b[0;32melse\u001b[0m\u001b[0;34m:\u001b[0m\u001b[0;34m\u001b[0m\u001b[0;34m\u001b[0m\u001b[0m\n\u001b[0;32m--> 746\u001b[0;31m                     \u001b[0marray\u001b[0m \u001b[0;34m=\u001b[0m \u001b[0mnp\u001b[0m\u001b[0;34m.\u001b[0m\u001b[0masarray\u001b[0m\u001b[0;34m(\u001b[0m\u001b[0marray\u001b[0m\u001b[0;34m,\u001b[0m \u001b[0morder\u001b[0m\u001b[0;34m=\u001b[0m\u001b[0morder\u001b[0m\u001b[0;34m,\u001b[0m \u001b[0mdtype\u001b[0m\u001b[0;34m=\u001b[0m\u001b[0mdtype\u001b[0m\u001b[0;34m)\u001b[0m\u001b[0;34m\u001b[0m\u001b[0;34m\u001b[0m\u001b[0m\n\u001b[0m\u001b[1;32m    747\u001b[0m             \u001b[0;32mexcept\u001b[0m \u001b[0mComplexWarning\u001b[0m \u001b[0;32mas\u001b[0m \u001b[0mcomplex_warning\u001b[0m\u001b[0;34m:\u001b[0m\u001b[0;34m\u001b[0m\u001b[0;34m\u001b[0m\u001b[0m\n\u001b[1;32m    748\u001b[0m                 raise ValueError(\n",
            "\u001b[0;32m/usr/local/lib/python3.7/dist-packages/pandas/core/generic.py\u001b[0m in \u001b[0;36m__array__\u001b[0;34m(self, dtype)\u001b[0m\n\u001b[1;32m   1991\u001b[0m \u001b[0;34m\u001b[0m\u001b[0m\n\u001b[1;32m   1992\u001b[0m     \u001b[0;32mdef\u001b[0m \u001b[0m__array__\u001b[0m\u001b[0;34m(\u001b[0m\u001b[0mself\u001b[0m\u001b[0;34m,\u001b[0m \u001b[0mdtype\u001b[0m\u001b[0;34m:\u001b[0m \u001b[0mNpDtype\u001b[0m \u001b[0;34m|\u001b[0m \u001b[0;32mNone\u001b[0m \u001b[0;34m=\u001b[0m \u001b[0;32mNone\u001b[0m\u001b[0;34m)\u001b[0m \u001b[0;34m->\u001b[0m \u001b[0mnp\u001b[0m\u001b[0;34m.\u001b[0m\u001b[0mndarray\u001b[0m\u001b[0;34m:\u001b[0m\u001b[0;34m\u001b[0m\u001b[0;34m\u001b[0m\u001b[0m\n\u001b[0;32m-> 1993\u001b[0;31m         \u001b[0;32mreturn\u001b[0m \u001b[0mnp\u001b[0m\u001b[0;34m.\u001b[0m\u001b[0masarray\u001b[0m\u001b[0;34m(\u001b[0m\u001b[0mself\u001b[0m\u001b[0;34m.\u001b[0m\u001b[0m_values\u001b[0m\u001b[0;34m,\u001b[0m \u001b[0mdtype\u001b[0m\u001b[0;34m=\u001b[0m\u001b[0mdtype\u001b[0m\u001b[0;34m)\u001b[0m\u001b[0;34m\u001b[0m\u001b[0;34m\u001b[0m\u001b[0m\n\u001b[0m\u001b[1;32m   1994\u001b[0m \u001b[0;34m\u001b[0m\u001b[0m\n\u001b[1;32m   1995\u001b[0m     def __array_wrap__(\n",
            "\u001b[0;31mTypeError\u001b[0m: float() argument must be a string or a number, not 'Point'"
          ]
        }
      ]
    },
    {
      "cell_type": "code",
      "source": [
        "clustering = KMeans(n_clusters = 3, max_iter= 10000)\n",
        "clustering.fit(latlong)\n",
        "\n",
        "Optimal_centers =  pd.DataFrame(clustering.cluster_centers_)\n",
        "\n",
        "print(\"Los centroides se encuentran en las siguientes coordenadas:\\n\", clustering.cluster_centers_)\n",
        "\n",
        "latlong[\"Cluster\"] = clustering.labels_\n",
        "\n",
        "latlong"
      ],
      "metadata": {
        "id": "GDqvj3mDBRLR"
      },
      "execution_count": null,
      "outputs": []
    },
    {
      "cell_type": "code",
      "source": [
        "latlong[\"Semaforo\"] = df['SEMAFORO']\n",
        "#latlong.drop(['colormap'],axis=1, inplace=True)\n",
        "latlong\n"
      ],
      "metadata": {
        "id": "3GZuFKURE4Th"
      },
      "execution_count": null,
      "outputs": []
    },
    {
      "cell_type": "code",
      "source": [
        "geb_count = latlong.groupby('Semaforo').apply(len)\n",
        "geb_count"
      ],
      "metadata": {
        "id": "gMi1rniVSMNq"
      },
      "execution_count": null,
      "outputs": []
    },
    {
      "cell_type": "code",
      "source": [
        "x_values = latlong['Semaforo'].unique()\n",
        "y_values = latlong['Semaforo'].value_counts().tolist()\n",
        "plt.bar(x_values, y_values)\n",
        "plt.show()\n",
        "plt.close('all')\n",
        "y_values"
      ],
      "metadata": {
        "colab": {
          "base_uri": "https://localhost:8080/",
          "height": 293
        },
        "id": "BVLlADAiPcoW",
        "outputId": "2e6f13ac-5046-45d3-da30-56faf0ed0131"
      },
      "execution_count": 80,
      "outputs": [
        {
          "output_type": "display_data",
          "data": {
            "text/plain": [
              "<Figure size 432x288 with 1 Axes>"
            ],
            "image/png": "[encoded data removed]"
          },
          "metadata": {}
        },
        {
          "output_type": "execute_result",
          "data": {
            "text/plain": [
              "[434, 387, 247]"
            ]
          },
          "metadata": {},
          "execution_count": 80
        }
      ]
    },
    {
      "cell_type": "code",
      "source": [
        "rslt_df_clt_0 = latlong[latlong['Cluster'] == 0]\n",
        "rslt_df_clt_1 = latlong[latlong['Cluster'] == 1]\n",
        "rslt_df_clt_2 = latlong[latlong['Cluster'] == 2]\n"
      ],
      "metadata": {
        "id": "QHcQmBM1NJbF",
        "colab": {
          "base_uri": "https://localhost:8080/",
          "height": 502
        },
        "outputId": "d474815f-0ad6-40e2-ec6f-b1400b4869d8"
      },
      "execution_count": 81,
      "outputs": [
        {
          "output_type": "error",
          "ename": "KeyError",
          "evalue": "ignored",
          "traceback": [
            "\u001b[0;31m---------------------------------------------------------------------------\u001b[0m",
            "\u001b[0;31mKeyError\u001b[0m                                  Traceback (most recent call last)",
            "\u001b[0;32m/usr/local/lib/python3.7/dist-packages/pandas/core/indexes/base.py\u001b[0m in \u001b[0;36mget_loc\u001b[0;34m(self, key, method, tolerance)\u001b[0m\n\u001b[1;32m   3360\u001b[0m             \u001b[0;32mtry\u001b[0m\u001b[0;34m:\u001b[0m\u001b[0;34m\u001b[0m\u001b[0;34m\u001b[0m\u001b[0m\n\u001b[0;32m-> 3361\u001b[0;31m                 \u001b[0;32mreturn\u001b[0m \u001b[0mself\u001b[0m\u001b[0;34m.\u001b[0m\u001b[0m_engine\u001b[0m\u001b[0;34m.\u001b[0m\u001b[0mget_loc\u001b[0m\u001b[0;34m(\u001b[0m\u001b[0mcasted_key\u001b[0m\u001b[0;34m)\u001b[0m\u001b[0;34m\u001b[0m\u001b[0;34m\u001b[0m\u001b[0m\n\u001b[0m\u001b[1;32m   3362\u001b[0m             \u001b[0;32mexcept\u001b[0m \u001b[0mKeyError\u001b[0m \u001b[0;32mas\u001b[0m \u001b[0merr\u001b[0m\u001b[0;34m:\u001b[0m\u001b[0;34m\u001b[0m\u001b[0;34m\u001b[0m\u001b[0m\n",
            "\u001b[0;32m/usr/local/lib/python3.7/dist-packages/pandas/_libs/index.pyx\u001b[0m in \u001b[0;36mpandas._libs.index.IndexEngine.get_loc\u001b[0;34m()\u001b[0m\n",
            "\u001b[0;32m/usr/local/lib/python3.7/dist-packages/pandas/_libs/index.pyx\u001b[0m in \u001b[0;36mpandas._libs.index.IndexEngine.get_loc\u001b[0;34m()\u001b[0m\n",
            "\u001b[0;32mpandas/_libs/hashtable_class_helper.pxi\u001b[0m in \u001b[0;36mpandas._libs.hashtable.PyObjectHashTable.get_item\u001b[0;34m()\u001b[0m\n",
            "\u001b[0;32mpandas/_libs/hashtable_class_helper.pxi\u001b[0m in \u001b[0;36mpandas._libs.hashtable.PyObjectHashTable.get_item\u001b[0;34m()\u001b[0m\n",
            "\u001b[0;31mKeyError\u001b[0m: 'Cluster'",
            "\nThe above exception was the direct cause of the following exception:\n",
            "\u001b[0;31mKeyError\u001b[0m                                  Traceback (most recent call last)",
            "\u001b[0;32m<ipython-input-81-118d13e1e68f>\u001b[0m in \u001b[0;36m<module>\u001b[0;34m\u001b[0m\n\u001b[0;32m----> 1\u001b[0;31m \u001b[0mrslt_df_clt_0\u001b[0m \u001b[0;34m=\u001b[0m \u001b[0mlatlong\u001b[0m\u001b[0;34m[\u001b[0m\u001b[0mlatlong\u001b[0m\u001b[0;34m[\u001b[0m\u001b[0;34m'Cluster'\u001b[0m\u001b[0;34m]\u001b[0m \u001b[0;34m==\u001b[0m \u001b[0;36m0\u001b[0m\u001b[0;34m]\u001b[0m\u001b[0;34m\u001b[0m\u001b[0;34m\u001b[0m\u001b[0m\n\u001b[0m\u001b[1;32m      2\u001b[0m \u001b[0mrslt_df_clt_1\u001b[0m \u001b[0;34m=\u001b[0m \u001b[0mlatlong\u001b[0m\u001b[0;34m[\u001b[0m\u001b[0mlatlong\u001b[0m\u001b[0;34m[\u001b[0m\u001b[0;34m'Cluster'\u001b[0m\u001b[0;34m]\u001b[0m \u001b[0;34m==\u001b[0m \u001b[0;36m1\u001b[0m\u001b[0;34m]\u001b[0m\u001b[0;34m\u001b[0m\u001b[0;34m\u001b[0m\u001b[0m\n\u001b[1;32m      3\u001b[0m \u001b[0mrslt_df_clt_2\u001b[0m \u001b[0;34m=\u001b[0m \u001b[0mlatlong\u001b[0m\u001b[0;34m[\u001b[0m\u001b[0mlatlong\u001b[0m\u001b[0;34m[\u001b[0m\u001b[0;34m'Cluster'\u001b[0m\u001b[0;34m]\u001b[0m \u001b[0;34m==\u001b[0m \u001b[0;36m2\u001b[0m\u001b[0;34m]\u001b[0m\u001b[0;34m\u001b[0m\u001b[0;34m\u001b[0m\u001b[0m\n",
            "\u001b[0;32m/usr/local/lib/python3.7/dist-packages/pandas/core/frame.py\u001b[0m in \u001b[0;36m__getitem__\u001b[0;34m(self, key)\u001b[0m\n\u001b[1;32m   3456\u001b[0m             \u001b[0;32mif\u001b[0m \u001b[0mself\u001b[0m\u001b[0;34m.\u001b[0m\u001b[0mcolumns\u001b[0m\u001b[0;34m.\u001b[0m\u001b[0mnlevels\u001b[0m \u001b[0;34m>\u001b[0m \u001b[0;36m1\u001b[0m\u001b[0;34m:\u001b[0m\u001b[0;34m\u001b[0m\u001b[0;34m\u001b[0m\u001b[0m\n\u001b[1;32m   3457\u001b[0m                 \u001b[0;32mreturn\u001b[0m \u001b[0mself\u001b[0m\u001b[0;34m.\u001b[0m\u001b[0m_getitem_multilevel\u001b[0m\u001b[0;34m(\u001b[0m\u001b[0mkey\u001b[0m\u001b[0;34m)\u001b[0m\u001b[0;34m\u001b[0m\u001b[0;34m\u001b[0m\u001b[0m\n\u001b[0;32m-> 3458\u001b[0;31m             \u001b[0mindexer\u001b[0m \u001b[0;34m=\u001b[0m \u001b[0mself\u001b[0m\u001b[0;34m.\u001b[0m\u001b[0mcolumns\u001b[0m\u001b[0;34m.\u001b[0m\u001b[0mget_loc\u001b[0m\u001b[0;34m(\u001b[0m\u001b[0mkey\u001b[0m\u001b[0;34m)\u001b[0m\u001b[0;34m\u001b[0m\u001b[0;34m\u001b[0m\u001b[0m\n\u001b[0m\u001b[1;32m   3459\u001b[0m             \u001b[0;32mif\u001b[0m \u001b[0mis_integer\u001b[0m\u001b[0;34m(\u001b[0m\u001b[0mindexer\u001b[0m\u001b[0;34m)\u001b[0m\u001b[0;34m:\u001b[0m\u001b[0;34m\u001b[0m\u001b[0;34m\u001b[0m\u001b[0m\n\u001b[1;32m   3460\u001b[0m                 \u001b[0mindexer\u001b[0m \u001b[0;34m=\u001b[0m \u001b[0;34m[\u001b[0m\u001b[0mindexer\u001b[0m\u001b[0;34m]\u001b[0m\u001b[0;34m\u001b[0m\u001b[0;34m\u001b[0m\u001b[0m\n",
            "\u001b[0;32m/usr/local/lib/python3.7/dist-packages/pandas/core/indexes/base.py\u001b[0m in \u001b[0;36mget_loc\u001b[0;34m(self, key, method, tolerance)\u001b[0m\n\u001b[1;32m   3361\u001b[0m                 \u001b[0;32mreturn\u001b[0m \u001b[0mself\u001b[0m\u001b[0;34m.\u001b[0m\u001b[0m_engine\u001b[0m\u001b[0;34m.\u001b[0m\u001b[0mget_loc\u001b[0m\u001b[0;34m(\u001b[0m\u001b[0mcasted_key\u001b[0m\u001b[0;34m)\u001b[0m\u001b[0;34m\u001b[0m\u001b[0;34m\u001b[0m\u001b[0m\n\u001b[1;32m   3362\u001b[0m             \u001b[0;32mexcept\u001b[0m \u001b[0mKeyError\u001b[0m \u001b[0;32mas\u001b[0m \u001b[0merr\u001b[0m\u001b[0;34m:\u001b[0m\u001b[0;34m\u001b[0m\u001b[0;34m\u001b[0m\u001b[0m\n\u001b[0;32m-> 3363\u001b[0;31m                 \u001b[0;32mraise\u001b[0m \u001b[0mKeyError\u001b[0m\u001b[0;34m(\u001b[0m\u001b[0mkey\u001b[0m\u001b[0;34m)\u001b[0m \u001b[0;32mfrom\u001b[0m \u001b[0merr\u001b[0m\u001b[0;34m\u001b[0m\u001b[0;34m\u001b[0m\u001b[0m\n\u001b[0m\u001b[1;32m   3364\u001b[0m \u001b[0;34m\u001b[0m\u001b[0m\n\u001b[1;32m   3365\u001b[0m         \u001b[0;32mif\u001b[0m \u001b[0mis_scalar\u001b[0m\u001b[0;34m(\u001b[0m\u001b[0mkey\u001b[0m\u001b[0;34m)\u001b[0m \u001b[0;32mand\u001b[0m \u001b[0misna\u001b[0m\u001b[0;34m(\u001b[0m\u001b[0mkey\u001b[0m\u001b[0;34m)\u001b[0m \u001b[0;32mand\u001b[0m \u001b[0;32mnot\u001b[0m \u001b[0mself\u001b[0m\u001b[0;34m.\u001b[0m\u001b[0mhasnans\u001b[0m\u001b[0;34m:\u001b[0m\u001b[0;34m\u001b[0m\u001b[0;34m\u001b[0m\u001b[0m\n",
            "\u001b[0;31mKeyError\u001b[0m: 'Cluster'"
          ]
        }
      ]
    },
    {
      "cell_type": "code",
      "source": [
        "x_values = rslt_df_clt_0['Semaforo'].unique()\n",
        "y_values = rslt_df_clt_0['Semaforo'].value_counts().tolist()\n",
        "plt.bar(x_values, y_values)\n",
        "plt.show()\n",
        "plt.close('all')\n",
        "y_values"
      ],
      "metadata": {
        "colab": {
          "base_uri": "https://localhost:8080/",
          "height": 235
        },
        "id": "veLE2VYKIYRX",
        "outputId": "b6f6e321-1b47-4924-c3e6-8031079bbb8a"
      },
      "execution_count": 82,
      "outputs": [
        {
          "output_type": "error",
          "ename": "NameError",
          "evalue": "ignored",
          "traceback": [
            "\u001b[0;31m---------------------------------------------------------------------------\u001b[0m",
            "\u001b[0;31mNameError\u001b[0m                                 Traceback (most recent call last)",
            "\u001b[0;32m<ipython-input-82-0baea23a3c38>\u001b[0m in \u001b[0;36m<module>\u001b[0;34m\u001b[0m\n\u001b[0;32m----> 1\u001b[0;31m \u001b[0mx_values\u001b[0m \u001b[0;34m=\u001b[0m \u001b[0mrslt_df_clt_0\u001b[0m\u001b[0;34m[\u001b[0m\u001b[0;34m'Semaforo'\u001b[0m\u001b[0;34m]\u001b[0m\u001b[0;34m.\u001b[0m\u001b[0munique\u001b[0m\u001b[0;34m(\u001b[0m\u001b[0;34m)\u001b[0m\u001b[0;34m\u001b[0m\u001b[0;34m\u001b[0m\u001b[0m\n\u001b[0m\u001b[1;32m      2\u001b[0m \u001b[0my_values\u001b[0m \u001b[0;34m=\u001b[0m \u001b[0mrslt_df_clt_0\u001b[0m\u001b[0;34m[\u001b[0m\u001b[0;34m'Semaforo'\u001b[0m\u001b[0;34m]\u001b[0m\u001b[0;34m.\u001b[0m\u001b[0mvalue_counts\u001b[0m\u001b[0;34m(\u001b[0m\u001b[0;34m)\u001b[0m\u001b[0;34m.\u001b[0m\u001b[0mtolist\u001b[0m\u001b[0;34m(\u001b[0m\u001b[0;34m)\u001b[0m\u001b[0;34m\u001b[0m\u001b[0;34m\u001b[0m\u001b[0m\n\u001b[1;32m      3\u001b[0m \u001b[0mplt\u001b[0m\u001b[0;34m.\u001b[0m\u001b[0mbar\u001b[0m\u001b[0;34m(\u001b[0m\u001b[0mx_values\u001b[0m\u001b[0;34m,\u001b[0m \u001b[0my_values\u001b[0m\u001b[0;34m)\u001b[0m\u001b[0;34m\u001b[0m\u001b[0;34m\u001b[0m\u001b[0m\n\u001b[1;32m      4\u001b[0m \u001b[0mplt\u001b[0m\u001b[0;34m.\u001b[0m\u001b[0mshow\u001b[0m\u001b[0;34m(\u001b[0m\u001b[0;34m)\u001b[0m\u001b[0;34m\u001b[0m\u001b[0;34m\u001b[0m\u001b[0m\n\u001b[1;32m      5\u001b[0m \u001b[0mplt\u001b[0m\u001b[0;34m.\u001b[0m\u001b[0mclose\u001b[0m\u001b[0;34m(\u001b[0m\u001b[0;34m'all'\u001b[0m\u001b[0;34m)\u001b[0m\u001b[0;34m\u001b[0m\u001b[0;34m\u001b[0m\u001b[0m\n",
            "\u001b[0;31mNameError\u001b[0m: name 'rslt_df_clt_0' is not defined"
          ]
        }
      ]
    },
    {
      "cell_type": "code",
      "source": [
        "x_values = rslt_df_clt_1['Semaforo'].unique()\n",
        "y_values = rslt_df_clt_1['Semaforo'].value_counts().tolist()\n",
        "plt.bar(x_values, y_values)\n",
        "plt.show()\n",
        "plt.close('all')\n",
        "y_values"
      ],
      "metadata": {
        "colab": {
          "base_uri": "https://localhost:8080/",
          "height": 235
        },
        "id": "ZhCAJFk5ONrc",
        "outputId": "876955e4-6bd5-467d-c037-497104dfd931"
      },
      "execution_count": 83,
      "outputs": [
        {
          "output_type": "error",
          "ename": "NameError",
          "evalue": "ignored",
          "traceback": [
            "\u001b[0;31m---------------------------------------------------------------------------\u001b[0m",
            "\u001b[0;31mNameError\u001b[0m                                 Traceback (most recent call last)",
            "\u001b[0;32m<ipython-input-83-07f37a1d736c>\u001b[0m in \u001b[0;36m<module>\u001b[0;34m\u001b[0m\n\u001b[0;32m----> 1\u001b[0;31m \u001b[0mx_values\u001b[0m \u001b[0;34m=\u001b[0m \u001b[0mrslt_df_clt_1\u001b[0m\u001b[0;34m[\u001b[0m\u001b[0;34m'Semaforo'\u001b[0m\u001b[0;34m]\u001b[0m\u001b[0;34m.\u001b[0m\u001b[0munique\u001b[0m\u001b[0;34m(\u001b[0m\u001b[0;34m)\u001b[0m\u001b[0;34m\u001b[0m\u001b[0;34m\u001b[0m\u001b[0m\n\u001b[0m\u001b[1;32m      2\u001b[0m \u001b[0my_values\u001b[0m \u001b[0;34m=\u001b[0m \u001b[0mrslt_df_clt_1\u001b[0m\u001b[0;34m[\u001b[0m\u001b[0;34m'Semaforo'\u001b[0m\u001b[0;34m]\u001b[0m\u001b[0;34m.\u001b[0m\u001b[0mvalue_counts\u001b[0m\u001b[0;34m(\u001b[0m\u001b[0;34m)\u001b[0m\u001b[0;34m.\u001b[0m\u001b[0mtolist\u001b[0m\u001b[0;34m(\u001b[0m\u001b[0;34m)\u001b[0m\u001b[0;34m\u001b[0m\u001b[0;34m\u001b[0m\u001b[0m\n\u001b[1;32m      3\u001b[0m \u001b[0mplt\u001b[0m\u001b[0;34m.\u001b[0m\u001b[0mbar\u001b[0m\u001b[0;34m(\u001b[0m\u001b[0mx_values\u001b[0m\u001b[0;34m,\u001b[0m \u001b[0my_values\u001b[0m\u001b[0;34m)\u001b[0m\u001b[0;34m\u001b[0m\u001b[0;34m\u001b[0m\u001b[0m\n\u001b[1;32m      4\u001b[0m \u001b[0mplt\u001b[0m\u001b[0;34m.\u001b[0m\u001b[0mshow\u001b[0m\u001b[0;34m(\u001b[0m\u001b[0;34m)\u001b[0m\u001b[0;34m\u001b[0m\u001b[0;34m\u001b[0m\u001b[0m\n\u001b[1;32m      5\u001b[0m \u001b[0mplt\u001b[0m\u001b[0;34m.\u001b[0m\u001b[0mclose\u001b[0m\u001b[0;34m(\u001b[0m\u001b[0;34m'all'\u001b[0m\u001b[0;34m)\u001b[0m\u001b[0;34m\u001b[0m\u001b[0;34m\u001b[0m\u001b[0m\n",
            "\u001b[0;31mNameError\u001b[0m: name 'rslt_df_clt_1' is not defined"
          ]
        }
      ]
    },
    {
      "cell_type": "code",
      "source": [
        "x_values = rslt_df_clt_2['Semaforo'].unique()\n",
        "y_values = rslt_df_clt_2['Semaforo'].value_counts().tolist()\n",
        "plt.bar(x_values, y_values)\n",
        "plt.show()\n",
        "plt.close('all')\n",
        "y_values"
      ],
      "metadata": {
        "colab": {
          "base_uri": "https://localhost:8080/",
          "height": 235
        },
        "id": "OgmpqGC_OZJk",
        "outputId": "a420691a-9340-4529-dd08-7ffe98e3b8de"
      },
      "execution_count": 84,
      "outputs": [
        {
          "output_type": "error",
          "ename": "NameError",
          "evalue": "ignored",
          "traceback": [
            "\u001b[0;31m---------------------------------------------------------------------------\u001b[0m",
            "\u001b[0;31mNameError\u001b[0m                                 Traceback (most recent call last)",
            "\u001b[0;32m<ipython-input-84-86c5be2286c1>\u001b[0m in \u001b[0;36m<module>\u001b[0;34m\u001b[0m\n\u001b[0;32m----> 1\u001b[0;31m \u001b[0mx_values\u001b[0m \u001b[0;34m=\u001b[0m \u001b[0mrslt_df_clt_2\u001b[0m\u001b[0;34m[\u001b[0m\u001b[0;34m'Semaforo'\u001b[0m\u001b[0;34m]\u001b[0m\u001b[0;34m.\u001b[0m\u001b[0munique\u001b[0m\u001b[0;34m(\u001b[0m\u001b[0;34m)\u001b[0m\u001b[0;34m\u001b[0m\u001b[0;34m\u001b[0m\u001b[0m\n\u001b[0m\u001b[1;32m      2\u001b[0m \u001b[0my_values\u001b[0m \u001b[0;34m=\u001b[0m \u001b[0mrslt_df_clt_2\u001b[0m\u001b[0;34m[\u001b[0m\u001b[0;34m'Semaforo'\u001b[0m\u001b[0;34m]\u001b[0m\u001b[0;34m.\u001b[0m\u001b[0mvalue_counts\u001b[0m\u001b[0;34m(\u001b[0m\u001b[0;34m)\u001b[0m\u001b[0;34m.\u001b[0m\u001b[0mtolist\u001b[0m\u001b[0;34m(\u001b[0m\u001b[0;34m)\u001b[0m\u001b[0;34m\u001b[0m\u001b[0;34m\u001b[0m\u001b[0m\n\u001b[1;32m      3\u001b[0m \u001b[0mplt\u001b[0m\u001b[0;34m.\u001b[0m\u001b[0mbar\u001b[0m\u001b[0;34m(\u001b[0m\u001b[0mx_values\u001b[0m\u001b[0;34m,\u001b[0m \u001b[0my_values\u001b[0m\u001b[0;34m)\u001b[0m\u001b[0;34m\u001b[0m\u001b[0;34m\u001b[0m\u001b[0m\n\u001b[1;32m      4\u001b[0m \u001b[0mplt\u001b[0m\u001b[0;34m.\u001b[0m\u001b[0mshow\u001b[0m\u001b[0;34m(\u001b[0m\u001b[0;34m)\u001b[0m\u001b[0;34m\u001b[0m\u001b[0;34m\u001b[0m\u001b[0m\n\u001b[1;32m      5\u001b[0m \u001b[0mplt\u001b[0m\u001b[0;34m.\u001b[0m\u001b[0mclose\u001b[0m\u001b[0;34m(\u001b[0m\u001b[0;34m'all'\u001b[0m\u001b[0;34m)\u001b[0m\u001b[0;34m\u001b[0m\u001b[0;34m\u001b[0m\u001b[0m\n",
            "\u001b[0;31mNameError\u001b[0m: name 'rslt_df_clt_2' is not defined"
          ]
        }
      ]
    },
    {
      "cell_type": "code",
      "source": [
        "latlong.info()"
      ],
      "metadata": {
        "colab": {
          "base_uri": "https://localhost:8080/"
        },
        "id": "THtqQ-TzGjG4",
        "outputId": "df15af72-9862-4446-cf63-f5e40d0dfecc"
      },
      "execution_count": 85,
      "outputs": [
        {
          "output_type": "stream",
          "name": "stdout",
          "text": [
            "<class 'pandas.core.frame.DataFrame'>\n",
            "RangeIndex: 1068 entries, 0 to 1067\n",
            "Data columns (total 4 columns):\n",
            " #   Column       Non-Null Count  Dtype   \n",
            "---  ------       --------------  -----   \n",
            " 0   LATITUD      1068 non-null   float64 \n",
            " 1   LONGITUD     1068 non-null   float64 \n",
            " 2   Coordinates  1068 non-null   geometry\n",
            " 3   Semaforo     1068 non-null   object  \n",
            "dtypes: float64(2), geometry(1), object(1)\n",
            "memory usage: 33.5+ KB\n"
          ]
        }
      ]
    },
    {
      "cell_type": "code",
      "source": [
        "colors = [\"#DF2020\", \"#81DF20\", \"#2095DF\"]\n",
        "latlong[\"colormap\"] = latlong.Cluster.map({0:colors[0], 1:colors[1], 2:colors[2]})\n",
        "\n",
        "Lat = pd.DataFrame(latlong[\"LATITUD\"])\n",
        "Long = pd.DataFrame(latlong[\"LONGITUD\"])\n",
        "Clus = pd.DataFrame(latlong[\"colormap\"])\n",
        "\n",
        "plt.scatter(latlong.LONGITUD, latlong.LATITUD, c=latlong.colormap)\n",
        "plt.scatter(Optimal_centers[1], Optimal_centers[0], marker = \"d\", s=150, color= \"#0A0A0A\")\n",
        "plt.gcf().set_size_inches((7.5,5))\n",
        "\n",
        "plt.xlabel(\"longitude\")\n",
        "plt.ylabel(\"longitude\")\n",
        "plt.show()"
      ],
      "metadata": {
        "colab": {
          "base_uri": "https://localhost:8080/",
          "height": 357
        },
        "id": "9ZFYftLsBjzq",
        "outputId": "082199a2-6865-454a-b6c0-490d011481b5"
      },
      "execution_count": 86,
      "outputs": [
        {
          "output_type": "error",
          "ename": "AttributeError",
          "evalue": "ignored",
          "traceback": [
            "\u001b[0;31m---------------------------------------------------------------------------\u001b[0m",
            "\u001b[0;31mAttributeError\u001b[0m                            Traceback (most recent call last)",
            "\u001b[0;32m<ipython-input-86-d14dd7a8ab2e>\u001b[0m in \u001b[0;36m<module>\u001b[0;34m\u001b[0m\n\u001b[1;32m      1\u001b[0m \u001b[0mcolors\u001b[0m \u001b[0;34m=\u001b[0m \u001b[0;34m[\u001b[0m\u001b[0;34m\"#DF2020\"\u001b[0m\u001b[0;34m,\u001b[0m \u001b[0;34m\"#81DF20\"\u001b[0m\u001b[0;34m,\u001b[0m \u001b[0;34m\"#2095DF\"\u001b[0m\u001b[0;34m]\u001b[0m\u001b[0;34m\u001b[0m\u001b[0;34m\u001b[0m\u001b[0m\n\u001b[0;32m----> 2\u001b[0;31m \u001b[0mlatlong\u001b[0m\u001b[0;34m[\u001b[0m\u001b[0;34m\"colormap\"\u001b[0m\u001b[0;34m]\u001b[0m \u001b[0;34m=\u001b[0m \u001b[0mlatlong\u001b[0m\u001b[0;34m.\u001b[0m\u001b[0mCluster\u001b[0m\u001b[0;34m.\u001b[0m\u001b[0mmap\u001b[0m\u001b[0;34m(\u001b[0m\u001b[0;34m{\u001b[0m\u001b[0;36m0\u001b[0m\u001b[0;34m:\u001b[0m\u001b[0mcolors\u001b[0m\u001b[0;34m[\u001b[0m\u001b[0;36m0\u001b[0m\u001b[0;34m]\u001b[0m\u001b[0;34m,\u001b[0m \u001b[0;36m1\u001b[0m\u001b[0;34m:\u001b[0m\u001b[0mcolors\u001b[0m\u001b[0;34m[\u001b[0m\u001b[0;36m1\u001b[0m\u001b[0;34m]\u001b[0m\u001b[0;34m,\u001b[0m \u001b[0;36m2\u001b[0m\u001b[0;34m:\u001b[0m\u001b[0mcolors\u001b[0m\u001b[0;34m[\u001b[0m\u001b[0;36m2\u001b[0m\u001b[0;34m]\u001b[0m\u001b[0;34m}\u001b[0m\u001b[0;34m)\u001b[0m\u001b[0;34m\u001b[0m\u001b[0;34m\u001b[0m\u001b[0m\n\u001b[0m\u001b[1;32m      3\u001b[0m \u001b[0;34m\u001b[0m\u001b[0m\n\u001b[1;32m      4\u001b[0m \u001b[0mLat\u001b[0m \u001b[0;34m=\u001b[0m \u001b[0mpd\u001b[0m\u001b[0;34m.\u001b[0m\u001b[0mDataFrame\u001b[0m\u001b[0;34m(\u001b[0m\u001b[0mlatlong\u001b[0m\u001b[0;34m[\u001b[0m\u001b[0;34m\"LATITUD\"\u001b[0m\u001b[0;34m]\u001b[0m\u001b[0;34m)\u001b[0m\u001b[0;34m\u001b[0m\u001b[0;34m\u001b[0m\u001b[0m\n\u001b[1;32m      5\u001b[0m \u001b[0mLong\u001b[0m \u001b[0;34m=\u001b[0m \u001b[0mpd\u001b[0m\u001b[0;34m.\u001b[0m\u001b[0mDataFrame\u001b[0m\u001b[0;34m(\u001b[0m\u001b[0mlatlong\u001b[0m\u001b[0;34m[\u001b[0m\u001b[0;34m\"LONGITUD\"\u001b[0m\u001b[0;34m]\u001b[0m\u001b[0;34m)\u001b[0m\u001b[0;34m\u001b[0m\u001b[0;34m\u001b[0m\u001b[0m\n",
            "\u001b[0;32m/usr/local/lib/python3.7/dist-packages/pandas/core/generic.py\u001b[0m in \u001b[0;36m__getattr__\u001b[0;34m(self, name)\u001b[0m\n\u001b[1;32m   5485\u001b[0m         ):\n\u001b[1;32m   5486\u001b[0m             \u001b[0;32mreturn\u001b[0m \u001b[0mself\u001b[0m\u001b[0;34m[\u001b[0m\u001b[0mname\u001b[0m\u001b[0;34m]\u001b[0m\u001b[0;34m\u001b[0m\u001b[0;34m\u001b[0m\u001b[0m\n\u001b[0;32m-> 5487\u001b[0;31m         \u001b[0;32mreturn\u001b[0m \u001b[0mobject\u001b[0m\u001b[0;34m.\u001b[0m\u001b[0m__getattribute__\u001b[0m\u001b[0;34m(\u001b[0m\u001b[0mself\u001b[0m\u001b[0;34m,\u001b[0m \u001b[0mname\u001b[0m\u001b[0;34m)\u001b[0m\u001b[0;34m\u001b[0m\u001b[0;34m\u001b[0m\u001b[0m\n\u001b[0m\u001b[1;32m   5488\u001b[0m \u001b[0;34m\u001b[0m\u001b[0m\n\u001b[1;32m   5489\u001b[0m     \u001b[0;32mdef\u001b[0m \u001b[0m__setattr__\u001b[0m\u001b[0;34m(\u001b[0m\u001b[0mself\u001b[0m\u001b[0;34m,\u001b[0m \u001b[0mname\u001b[0m\u001b[0;34m:\u001b[0m \u001b[0mstr\u001b[0m\u001b[0;34m,\u001b[0m \u001b[0mvalue\u001b[0m\u001b[0;34m)\u001b[0m \u001b[0;34m->\u001b[0m \u001b[0;32mNone\u001b[0m\u001b[0;34m:\u001b[0m\u001b[0;34m\u001b[0m\u001b[0;34m\u001b[0m\u001b[0m\n",
            "\u001b[0;31mAttributeError\u001b[0m: 'DataFrame' object has no attribute 'Cluster'"
          ]
        }
      ]
    },
    {
      "cell_type": "code",
      "source": [
        "latlong."
      ],
      "metadata": {
        "id": "lTGKMubJB3fR",
        "colab": {
          "base_uri": "https://localhost:8080/",
          "height": 131
        },
        "outputId": "c6a75b55-b0d3-49bd-f12c-48509d4aabd8"
      },
      "execution_count": 87,
      "outputs": [
        {
          "output_type": "error",
          "ename": "SyntaxError",
          "evalue": "ignored",
          "traceback": [
            "\u001b[0;36m  File \u001b[0;32m\"<ipython-input-87-f36fe275c7a4>\"\u001b[0;36m, line \u001b[0;32m1\u001b[0m\n\u001b[0;31m    latlong.\u001b[0m\n\u001b[0m            ^\u001b[0m\n\u001b[0;31mSyntaxError\u001b[0m\u001b[0;31m:\u001b[0m invalid syntax\n"
          ]
        }
      ]
    },
    {
      "cell_type": "code",
      "source": [
        "#%matplotlib inline\n",
        "#import matplotlib.pyplot as plt\n",
        "#import seaborn as sns; sns.set()\n",
        "\n",
        "#kmeans = KMeans(n_clusters=3)\n",
        "#kmeans.fit(latlong)\n",
        "#centers \n",
        "#kmeans.labels_\n",
        "#y_kmeans = kmeans.predict(latlong)\n",
        "#y_kmeans"
      ],
      "metadata": {
        "id": "AaZa-TbOy09u"
      },
      "execution_count": null,
      "outputs": []
    },
    {
      "cell_type": "code",
      "source": [
        "#y_kmeans = kmeans.predict(latlong)\n",
        "#plt.scatter(latlong[:, 0], latlong[:, 1], c=y_kmeans, s=50, cmap='viridis')\n",
        "\n",
        "#centers = kmeans.cluster_centers_\n",
        "#plt.scatter(centers[:, 0], centers[:, 1], c='black', s=200, alpha=0.5)"
      ],
      "metadata": {
        "id": "eZJEQZ3I6XpM"
      },
      "execution_count": null,
      "outputs": []
    },
    {
      "cell_type": "code",
      "source": [
        "new_latlong = pd.DataFrame(centers, columns =['Latitude','Longitude'])\n",
        "new_latlong"
      ],
      "metadata": {
        "colab": {
          "base_uri": "https://localhost:8080/",
          "height": 183
        },
        "id": "ZIQVpBykzHKd",
        "outputId": "4470040b-d95f-4e46-f446-4fb2634e0704"
      },
      "execution_count": 88,
      "outputs": [
        {
          "output_type": "error",
          "ename": "NameError",
          "evalue": "ignored",
          "traceback": [
            "\u001b[0;31m---------------------------------------------------------------------------\u001b[0m",
            "\u001b[0;31mNameError\u001b[0m                                 Traceback (most recent call last)",
            "\u001b[0;32m<ipython-input-88-8aa07bbd8d22>\u001b[0m in \u001b[0;36m<module>\u001b[0;34m\u001b[0m\n\u001b[0;32m----> 1\u001b[0;31m \u001b[0mnew_latlong\u001b[0m \u001b[0;34m=\u001b[0m \u001b[0mpd\u001b[0m\u001b[0;34m.\u001b[0m\u001b[0mDataFrame\u001b[0m\u001b[0;34m(\u001b[0m\u001b[0mcenters\u001b[0m\u001b[0;34m,\u001b[0m \u001b[0mcolumns\u001b[0m \u001b[0;34m=\u001b[0m\u001b[0;34m[\u001b[0m\u001b[0;34m'Latitude'\u001b[0m\u001b[0;34m,\u001b[0m\u001b[0;34m'Longitude'\u001b[0m\u001b[0;34m]\u001b[0m\u001b[0;34m)\u001b[0m\u001b[0;34m\u001b[0m\u001b[0;34m\u001b[0m\u001b[0m\n\u001b[0m\u001b[1;32m      2\u001b[0m \u001b[0mnew_latlong\u001b[0m\u001b[0;34m\u001b[0m\u001b[0;34m\u001b[0m\u001b[0m\n",
            "\u001b[0;31mNameError\u001b[0m: name 'centers' is not defined"
          ]
        }
      ]
    },
    {
      "cell_type": "code",
      "source": [
        "new_latlong.plot.scatter( \"Longitude\",\"Latitude\")\n"
      ],
      "metadata": {
        "colab": {
          "base_uri": "https://localhost:8080/",
          "height": 166
        },
        "id": "_Uhsrv2kzNOf",
        "outputId": "bf4f72b9-e8ea-49b4-b6af-f917333cdf54"
      },
      "execution_count": 89,
      "outputs": [
        {
          "output_type": "error",
          "ename": "NameError",
          "evalue": "ignored",
          "traceback": [
            "\u001b[0;31m---------------------------------------------------------------------------\u001b[0m",
            "\u001b[0;31mNameError\u001b[0m                                 Traceback (most recent call last)",
            "\u001b[0;32m<ipython-input-89-9a461e4e7fce>\u001b[0m in \u001b[0;36m<module>\u001b[0;34m\u001b[0m\n\u001b[0;32m----> 1\u001b[0;31m \u001b[0mnew_latlong\u001b[0m\u001b[0;34m.\u001b[0m\u001b[0mplot\u001b[0m\u001b[0;34m.\u001b[0m\u001b[0mscatter\u001b[0m\u001b[0;34m(\u001b[0m \u001b[0;34m\"Longitude\"\u001b[0m\u001b[0;34m,\u001b[0m\u001b[0;34m\"Latitude\"\u001b[0m\u001b[0;34m)\u001b[0m\u001b[0;34m\u001b[0m\u001b[0;34m\u001b[0m\u001b[0m\n\u001b[0m",
            "\u001b[0;31mNameError\u001b[0m: name 'new_latlong' is not defined"
          ]
        }
      ]
    },
    {
      "cell_type": "code",
      "source": [
        "new_latlong[\"Coordinates\"] = list(zip(new_latlong.Longitude,\n",
        "new_latlong.Latitude))\n",
        "new_latlong[\"Coordinates\"] = new_latlong[\"Coordinates\"].apply(Point)\n",
        "new_latlong.head()\n"
      ],
      "metadata": {
        "colab": {
          "base_uri": "https://localhost:8080/",
          "height": 218
        },
        "id": "uN7NVR4RzZYt",
        "outputId": "adf115fa-0a86-4605-a5ae-d6d45daa365e"
      },
      "execution_count": 90,
      "outputs": [
        {
          "output_type": "error",
          "ename": "NameError",
          "evalue": "ignored",
          "traceback": [
            "\u001b[0;31m---------------------------------------------------------------------------\u001b[0m",
            "\u001b[0;31mNameError\u001b[0m                                 Traceback (most recent call last)",
            "\u001b[0;32m<ipython-input-90-6a65c0d6f1f3>\u001b[0m in \u001b[0;36m<module>\u001b[0;34m\u001b[0m\n\u001b[0;32m----> 1\u001b[0;31m new_latlong[\"Coordinates\"] = list(zip(new_latlong.Longitude,\n\u001b[0m\u001b[1;32m      2\u001b[0m new_latlong.Latitude))\n\u001b[1;32m      3\u001b[0m \u001b[0mnew_latlong\u001b[0m\u001b[0;34m[\u001b[0m\u001b[0;34m\"Coordinates\"\u001b[0m\u001b[0;34m]\u001b[0m \u001b[0;34m=\u001b[0m \u001b[0mnew_latlong\u001b[0m\u001b[0;34m[\u001b[0m\u001b[0;34m\"Coordinates\"\u001b[0m\u001b[0;34m]\u001b[0m\u001b[0;34m.\u001b[0m\u001b[0mapply\u001b[0m\u001b[0;34m(\u001b[0m\u001b[0mPoint\u001b[0m\u001b[0;34m)\u001b[0m\u001b[0;34m\u001b[0m\u001b[0;34m\u001b[0m\u001b[0m\n\u001b[1;32m      4\u001b[0m \u001b[0mnew_latlong\u001b[0m\u001b[0;34m.\u001b[0m\u001b[0mhead\u001b[0m\u001b[0;34m(\u001b[0m\u001b[0;34m)\u001b[0m\u001b[0;34m\u001b[0m\u001b[0;34m\u001b[0m\u001b[0m\n",
            "\u001b[0;31mNameError\u001b[0m: name 'new_latlong' is not defined"
          ]
        }
      ]
    },
    {
      "cell_type": "code",
      "source": [
        "gddf = gpd.GeoDataFrame(new_latlong, geometry=\"Coordinates\")\n",
        "gddf.head()\n"
      ],
      "metadata": {
        "colab": {
          "base_uri": "https://localhost:8080/",
          "height": 183
        },
        "id": "DUc1JktMzfyQ",
        "outputId": "1b7bb8b4-9085-415d-8b02-b528f8e631d8"
      },
      "execution_count": 91,
      "outputs": [
        {
          "output_type": "error",
          "ename": "NameError",
          "evalue": "ignored",
          "traceback": [
            "\u001b[0;31m---------------------------------------------------------------------------\u001b[0m",
            "\u001b[0;31mNameError\u001b[0m                                 Traceback (most recent call last)",
            "\u001b[0;32m<ipython-input-91-5adaa2613b9e>\u001b[0m in \u001b[0;36m<module>\u001b[0;34m\u001b[0m\n\u001b[0;32m----> 1\u001b[0;31m \u001b[0mgddf\u001b[0m \u001b[0;34m=\u001b[0m \u001b[0mgpd\u001b[0m\u001b[0;34m.\u001b[0m\u001b[0mGeoDataFrame\u001b[0m\u001b[0;34m(\u001b[0m\u001b[0mnew_latlong\u001b[0m\u001b[0;34m,\u001b[0m \u001b[0mgeometry\u001b[0m\u001b[0;34m=\u001b[0m\u001b[0;34m\"Coordinates\"\u001b[0m\u001b[0;34m)\u001b[0m\u001b[0;34m\u001b[0m\u001b[0;34m\u001b[0m\u001b[0m\n\u001b[0m\u001b[1;32m      2\u001b[0m \u001b[0mgddf\u001b[0m\u001b[0;34m.\u001b[0m\u001b[0mhead\u001b[0m\u001b[0;34m(\u001b[0m\u001b[0;34m)\u001b[0m\u001b[0;34m\u001b[0m\u001b[0;34m\u001b[0m\u001b[0m\n",
            "\u001b[0;31mNameError\u001b[0m: name 'new_latlong' is not defined"
          ]
        }
      ]
    },
    {
      "cell_type": "code",
      "source": [
        "gddf.plot(ax=gax, color='blue', alpha = 0.8)\n",
        "\n",
        "fig, gax = plt.subplots(figsize=(10,10))\n",
        "\n",
        "\n",
        "world.query(\"name == 'Mexico'\").plot(ax = gax,\n",
        "edgecolor='black', color='white')\n",
        "\n",
        "gddf.plot(ax=gax, color='blue', alpha = 0.8)\n",
        "gax.set_xlabel('longitude')\n",
        "gax.set_ylabel('latitude')\n",
        "gax.set_title('Target en Estados Unidos')\n",
        "gax.spines['top'].set_visible(False)\n",
        "gax.spines['right'].set_visible(False)\n",
        "plt.show()\n"
      ],
      "metadata": {
        "colab": {
          "base_uri": "https://localhost:8080/",
          "height": 235
        },
        "id": "fwgQI-2ezuoX",
        "outputId": "2d72c1a6-1066-4cce-ddd6-00db1838b159"
      },
      "execution_count": 92,
      "outputs": [
        {
          "output_type": "error",
          "ename": "NameError",
          "evalue": "ignored",
          "traceback": [
            "\u001b[0;31m---------------------------------------------------------------------------\u001b[0m",
            "\u001b[0;31mNameError\u001b[0m                                 Traceback (most recent call last)",
            "\u001b[0;32m<ipython-input-92-4d81541ca012>\u001b[0m in \u001b[0;36m<module>\u001b[0;34m\u001b[0m\n\u001b[0;32m----> 1\u001b[0;31m \u001b[0mgddf\u001b[0m\u001b[0;34m.\u001b[0m\u001b[0mplot\u001b[0m\u001b[0;34m(\u001b[0m\u001b[0max\u001b[0m\u001b[0;34m=\u001b[0m\u001b[0mgax\u001b[0m\u001b[0;34m,\u001b[0m \u001b[0mcolor\u001b[0m\u001b[0;34m=\u001b[0m\u001b[0;34m'blue'\u001b[0m\u001b[0;34m,\u001b[0m \u001b[0malpha\u001b[0m \u001b[0;34m=\u001b[0m \u001b[0;36m0.8\u001b[0m\u001b[0;34m)\u001b[0m\u001b[0;34m\u001b[0m\u001b[0;34m\u001b[0m\u001b[0m\n\u001b[0m\u001b[1;32m      2\u001b[0m \u001b[0;34m\u001b[0m\u001b[0m\n\u001b[1;32m      3\u001b[0m \u001b[0mfig\u001b[0m\u001b[0;34m,\u001b[0m \u001b[0mgax\u001b[0m \u001b[0;34m=\u001b[0m \u001b[0mplt\u001b[0m\u001b[0;34m.\u001b[0m\u001b[0msubplots\u001b[0m\u001b[0;34m(\u001b[0m\u001b[0mfigsize\u001b[0m\u001b[0;34m=\u001b[0m\u001b[0;34m(\u001b[0m\u001b[0;36m10\u001b[0m\u001b[0;34m,\u001b[0m\u001b[0;36m10\u001b[0m\u001b[0;34m)\u001b[0m\u001b[0;34m)\u001b[0m\u001b[0;34m\u001b[0m\u001b[0;34m\u001b[0m\u001b[0m\n\u001b[1;32m      4\u001b[0m \u001b[0;34m\u001b[0m\u001b[0m\n\u001b[1;32m      5\u001b[0m \u001b[0;34m\u001b[0m\u001b[0m\n",
            "\u001b[0;31mNameError\u001b[0m: name 'gddf' is not defined"
          ]
        }
      ]
    },
    {
      "cell_type": "code",
      "source": [
        "geolocator = Nominatim(user_agent=\"geoapiExercises\")\n",
        "location_1 = geolocator.reverse(\" 22.25423, -101.72213\")\n",
        "print(location_1)\n",
        "location_2 = geolocator.reverse(\" 19.47336, -90.72847\")\n",
        "print(location_2)\n",
        "location_3 = geolocator.reverse(\"28.43820, -110.79449\")\n",
        "print(location_3)\n"
      ],
      "metadata": {
        "id": "-XdOPlkD0wS-"
      },
      "execution_count": null,
      "outputs": []
    },
    {
      "cell_type": "code",
      "source": [],
      "metadata": {
        "id": "eW6-7B_jZSNo"
      },
      "execution_count": 92,
      "outputs": []
    }
  ]
}